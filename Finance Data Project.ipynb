{
 "cells": [
  {
   "cell_type": "code",
   "execution_count": 63,
   "metadata": {},
   "outputs": [
    {
     "name": "stdout",
     "output_type": "stream",
     "text": [
      "Requirement already satisfied: pandas_datareader in c:\\programdata\\anaconda3\\lib\\site-packages (0.9.0)\n",
      "Requirement already satisfied: requests>=2.19.0 in c:\\programdata\\anaconda3\\lib\\site-packages (from pandas_datareader) (2.22.0)\n",
      "Requirement already satisfied: pandas>=0.23 in c:\\programdata\\anaconda3\\lib\\site-packages (from pandas_datareader) (1.0.1)\n",
      "Requirement already satisfied: lxml in c:\\programdata\\anaconda3\\lib\\site-packages (from pandas_datareader) (4.5.0)\n",
      "Requirement already satisfied: certifi>=2017.4.17 in c:\\programdata\\anaconda3\\lib\\site-packages (from requests>=2.19.0->pandas_datareader) (2019.11.28)\n",
      "Requirement already satisfied: idna<2.9,>=2.5 in c:\\programdata\\anaconda3\\lib\\site-packages (from requests>=2.19.0->pandas_datareader) (2.8)\n",
      "Requirement already satisfied: urllib3!=1.25.0,!=1.25.1,<1.26,>=1.21.1 in c:\\programdata\\anaconda3\\lib\\site-packages (from requests>=2.19.0->pandas_datareader) (1.25.8)\n",
      "Requirement already satisfied: chardet<3.1.0,>=3.0.2 in c:\\programdata\\anaconda3\\lib\\site-packages (from requests>=2.19.0->pandas_datareader) (3.0.4)\n",
      "Requirement already satisfied: pytz>=2017.2 in c:\\programdata\\anaconda3\\lib\\site-packages (from pandas>=0.23->pandas_datareader) (2019.3)\n",
      "Requirement already satisfied: numpy>=1.13.3 in c:\\programdata\\anaconda3\\lib\\site-packages (from pandas>=0.23->pandas_datareader) (1.18.1)\n",
      "Requirement already satisfied: python-dateutil>=2.6.1 in c:\\programdata\\anaconda3\\lib\\site-packages (from pandas>=0.23->pandas_datareader) (2.8.1)\n",
      "Requirement already satisfied: six>=1.5 in c:\\programdata\\anaconda3\\lib\\site-packages (from python-dateutil>=2.6.1->pandas>=0.23->pandas_datareader) (1.14.0)\n",
      "Note: you may need to restart the kernel to use updated packages.\n"
     ]
    }
   ],
   "source": [
    "pip install pandas_datareader"
   ]
  },
  {
   "cell_type": "code",
   "execution_count": 64,
   "metadata": {},
   "outputs": [],
   "source": [
    "from pandas_datareader import data,wb\n",
    "import pandas as pd\n",
    "import numpy as np\n",
    "import matplotlib.pyplot as plt\n",
    "import datetime\n",
    "import seaborn as sns"
   ]
  },
  {
   "cell_type": "code",
   "execution_count": 65,
   "metadata": {},
   "outputs": [],
   "source": [
    "start=datetime.datetime(2006,1,1)\n",
    "end=datetime.datetime(2016,1,1)"
   ]
  },
  {
   "cell_type": "code",
   "execution_count": 66,
   "metadata": {},
   "outputs": [
    {
     "data": {
      "text/html": [
       "<div>\n",
       "<style scoped>\n",
       "    .dataframe tbody tr th:only-of-type {\n",
       "        vertical-align: middle;\n",
       "    }\n",
       "\n",
       "    .dataframe tbody tr th {\n",
       "        vertical-align: top;\n",
       "    }\n",
       "\n",
       "    .dataframe thead tr th {\n",
       "        text-align: left;\n",
       "    }\n",
       "\n",
       "    .dataframe thead tr:last-of-type th {\n",
       "        text-align: right;\n",
       "    }\n",
       "</style>\n",
       "<table border=\"1\" class=\"dataframe\">\n",
       "  <thead>\n",
       "    <tr>\n",
       "      <th>Bank Ticker</th>\n",
       "      <th colspan=\"5\" halign=\"left\">BAC</th>\n",
       "      <th colspan=\"5\" halign=\"left\">C</th>\n",
       "      <th>...</th>\n",
       "      <th colspan=\"5\" halign=\"left\">MS</th>\n",
       "      <th colspan=\"5\" halign=\"left\">WFC</th>\n",
       "    </tr>\n",
       "    <tr>\n",
       "      <th>Stock Info</th>\n",
       "      <th>Open</th>\n",
       "      <th>High</th>\n",
       "      <th>Low</th>\n",
       "      <th>Close</th>\n",
       "      <th>Volume</th>\n",
       "      <th>Open</th>\n",
       "      <th>High</th>\n",
       "      <th>Low</th>\n",
       "      <th>Close</th>\n",
       "      <th>Volume</th>\n",
       "      <th>...</th>\n",
       "      <th>Open</th>\n",
       "      <th>High</th>\n",
       "      <th>Low</th>\n",
       "      <th>Close</th>\n",
       "      <th>Volume</th>\n",
       "      <th>Open</th>\n",
       "      <th>High</th>\n",
       "      <th>Low</th>\n",
       "      <th>Close</th>\n",
       "      <th>Volume</th>\n",
       "    </tr>\n",
       "    <tr>\n",
       "      <th>Date</th>\n",
       "      <th></th>\n",
       "      <th></th>\n",
       "      <th></th>\n",
       "      <th></th>\n",
       "      <th></th>\n",
       "      <th></th>\n",
       "      <th></th>\n",
       "      <th></th>\n",
       "      <th></th>\n",
       "      <th></th>\n",
       "      <th></th>\n",
       "      <th></th>\n",
       "      <th></th>\n",
       "      <th></th>\n",
       "      <th></th>\n",
       "      <th></th>\n",
       "      <th></th>\n",
       "      <th></th>\n",
       "      <th></th>\n",
       "      <th></th>\n",
       "      <th></th>\n",
       "    </tr>\n",
       "  </thead>\n",
       "  <tbody>\n",
       "    <tr>\n",
       "      <th>2006-01-03</th>\n",
       "      <td>46.92</td>\n",
       "      <td>47.18</td>\n",
       "      <td>46.15</td>\n",
       "      <td>47.08</td>\n",
       "      <td>16296700</td>\n",
       "      <td>490.00</td>\n",
       "      <td>493.80</td>\n",
       "      <td>481.10</td>\n",
       "      <td>492.90</td>\n",
       "      <td>1537660</td>\n",
       "      <td>...</td>\n",
       "      <td>57.17</td>\n",
       "      <td>58.49</td>\n",
       "      <td>56.74</td>\n",
       "      <td>58.31</td>\n",
       "      <td>5377000</td>\n",
       "      <td>31.60</td>\n",
       "      <td>31.98</td>\n",
       "      <td>31.20</td>\n",
       "      <td>31.90</td>\n",
       "      <td>11016400</td>\n",
       "    </tr>\n",
       "    <tr>\n",
       "      <th>2006-01-04</th>\n",
       "      <td>47.00</td>\n",
       "      <td>47.24</td>\n",
       "      <td>46.45</td>\n",
       "      <td>46.58</td>\n",
       "      <td>17757900</td>\n",
       "      <td>488.60</td>\n",
       "      <td>491.00</td>\n",
       "      <td>483.50</td>\n",
       "      <td>483.80</td>\n",
       "      <td>1871020</td>\n",
       "      <td>...</td>\n",
       "      <td>58.70</td>\n",
       "      <td>59.28</td>\n",
       "      <td>58.35</td>\n",
       "      <td>58.35</td>\n",
       "      <td>7977800</td>\n",
       "      <td>31.80</td>\n",
       "      <td>31.82</td>\n",
       "      <td>31.36</td>\n",
       "      <td>31.53</td>\n",
       "      <td>10871000</td>\n",
       "    </tr>\n",
       "    <tr>\n",
       "      <th>2006-01-05</th>\n",
       "      <td>46.58</td>\n",
       "      <td>46.83</td>\n",
       "      <td>46.32</td>\n",
       "      <td>46.64</td>\n",
       "      <td>14970900</td>\n",
       "      <td>484.40</td>\n",
       "      <td>487.80</td>\n",
       "      <td>484.00</td>\n",
       "      <td>486.20</td>\n",
       "      <td>1143160</td>\n",
       "      <td>...</td>\n",
       "      <td>58.55</td>\n",
       "      <td>58.59</td>\n",
       "      <td>58.02</td>\n",
       "      <td>58.51</td>\n",
       "      <td>5778000</td>\n",
       "      <td>31.50</td>\n",
       "      <td>31.56</td>\n",
       "      <td>31.31</td>\n",
       "      <td>31.50</td>\n",
       "      <td>10158000</td>\n",
       "    </tr>\n",
       "    <tr>\n",
       "      <th>2006-01-06</th>\n",
       "      <td>46.80</td>\n",
       "      <td>46.91</td>\n",
       "      <td>46.35</td>\n",
       "      <td>46.57</td>\n",
       "      <td>12599800</td>\n",
       "      <td>488.80</td>\n",
       "      <td>489.00</td>\n",
       "      <td>482.00</td>\n",
       "      <td>486.20</td>\n",
       "      <td>1370250</td>\n",
       "      <td>...</td>\n",
       "      <td>58.77</td>\n",
       "      <td>58.85</td>\n",
       "      <td>58.05</td>\n",
       "      <td>58.57</td>\n",
       "      <td>6889800</td>\n",
       "      <td>31.58</td>\n",
       "      <td>31.78</td>\n",
       "      <td>31.38</td>\n",
       "      <td>31.68</td>\n",
       "      <td>8403800</td>\n",
       "    </tr>\n",
       "    <tr>\n",
       "      <th>2006-01-09</th>\n",
       "      <td>46.72</td>\n",
       "      <td>46.97</td>\n",
       "      <td>46.36</td>\n",
       "      <td>46.60</td>\n",
       "      <td>15620000</td>\n",
       "      <td>486.00</td>\n",
       "      <td>487.40</td>\n",
       "      <td>483.00</td>\n",
       "      <td>483.90</td>\n",
       "      <td>1680740</td>\n",
       "      <td>...</td>\n",
       "      <td>58.63</td>\n",
       "      <td>59.29</td>\n",
       "      <td>58.62</td>\n",
       "      <td>59.19</td>\n",
       "      <td>4144500</td>\n",
       "      <td>31.68</td>\n",
       "      <td>31.82</td>\n",
       "      <td>31.56</td>\n",
       "      <td>31.68</td>\n",
       "      <td>5619600</td>\n",
       "    </tr>\n",
       "    <tr>\n",
       "      <th>...</th>\n",
       "      <td>...</td>\n",
       "      <td>...</td>\n",
       "      <td>...</td>\n",
       "      <td>...</td>\n",
       "      <td>...</td>\n",
       "      <td>...</td>\n",
       "      <td>...</td>\n",
       "      <td>...</td>\n",
       "      <td>...</td>\n",
       "      <td>...</td>\n",
       "      <td>...</td>\n",
       "      <td>...</td>\n",
       "      <td>...</td>\n",
       "      <td>...</td>\n",
       "      <td>...</td>\n",
       "      <td>...</td>\n",
       "      <td>...</td>\n",
       "      <td>...</td>\n",
       "      <td>...</td>\n",
       "      <td>...</td>\n",
       "      <td>...</td>\n",
       "    </tr>\n",
       "    <tr>\n",
       "      <th>2015-12-24</th>\n",
       "      <td>17.32</td>\n",
       "      <td>17.38</td>\n",
       "      <td>17.22</td>\n",
       "      <td>17.27</td>\n",
       "      <td>29373415</td>\n",
       "      <td>52.48</td>\n",
       "      <td>52.97</td>\n",
       "      <td>52.45</td>\n",
       "      <td>52.71</td>\n",
       "      <td>4671254</td>\n",
       "      <td>...</td>\n",
       "      <td>32.57</td>\n",
       "      <td>32.71</td>\n",
       "      <td>32.44</td>\n",
       "      <td>32.48</td>\n",
       "      <td>2798163</td>\n",
       "      <td>54.97</td>\n",
       "      <td>55.09</td>\n",
       "      <td>54.71</td>\n",
       "      <td>54.82</td>\n",
       "      <td>4999417</td>\n",
       "    </tr>\n",
       "    <tr>\n",
       "      <th>2015-12-28</th>\n",
       "      <td>17.22</td>\n",
       "      <td>17.23</td>\n",
       "      <td>16.98</td>\n",
       "      <td>17.13</td>\n",
       "      <td>41777497</td>\n",
       "      <td>52.57</td>\n",
       "      <td>52.57</td>\n",
       "      <td>51.96</td>\n",
       "      <td>52.38</td>\n",
       "      <td>8761743</td>\n",
       "      <td>...</td>\n",
       "      <td>32.36</td>\n",
       "      <td>32.36</td>\n",
       "      <td>31.95</td>\n",
       "      <td>32.17</td>\n",
       "      <td>5420280</td>\n",
       "      <td>54.55</td>\n",
       "      <td>54.78</td>\n",
       "      <td>54.17</td>\n",
       "      <td>54.68</td>\n",
       "      <td>8288841</td>\n",
       "    </tr>\n",
       "    <tr>\n",
       "      <th>2015-12-29</th>\n",
       "      <td>17.25</td>\n",
       "      <td>17.35</td>\n",
       "      <td>17.16</td>\n",
       "      <td>17.28</td>\n",
       "      <td>45670376</td>\n",
       "      <td>52.76</td>\n",
       "      <td>53.22</td>\n",
       "      <td>52.74</td>\n",
       "      <td>52.98</td>\n",
       "      <td>10155134</td>\n",
       "      <td>...</td>\n",
       "      <td>32.44</td>\n",
       "      <td>32.70</td>\n",
       "      <td>32.32</td>\n",
       "      <td>32.55</td>\n",
       "      <td>6388244</td>\n",
       "      <td>55.11</td>\n",
       "      <td>55.35</td>\n",
       "      <td>54.99</td>\n",
       "      <td>55.29</td>\n",
       "      <td>7894876</td>\n",
       "    </tr>\n",
       "    <tr>\n",
       "      <th>2015-12-30</th>\n",
       "      <td>17.20</td>\n",
       "      <td>17.24</td>\n",
       "      <td>17.04</td>\n",
       "      <td>17.05</td>\n",
       "      <td>35066378</td>\n",
       "      <td>52.84</td>\n",
       "      <td>52.94</td>\n",
       "      <td>52.25</td>\n",
       "      <td>52.30</td>\n",
       "      <td>8763337</td>\n",
       "      <td>...</td>\n",
       "      <td>32.50</td>\n",
       "      <td>32.64</td>\n",
       "      <td>32.20</td>\n",
       "      <td>32.23</td>\n",
       "      <td>5057162</td>\n",
       "      <td>55.27</td>\n",
       "      <td>55.31</td>\n",
       "      <td>54.79</td>\n",
       "      <td>54.89</td>\n",
       "      <td>8016893</td>\n",
       "    </tr>\n",
       "    <tr>\n",
       "      <th>2015-12-31</th>\n",
       "      <td>17.01</td>\n",
       "      <td>17.07</td>\n",
       "      <td>16.83</td>\n",
       "      <td>16.83</td>\n",
       "      <td>47152968</td>\n",
       "      <td>52.07</td>\n",
       "      <td>52.39</td>\n",
       "      <td>51.75</td>\n",
       "      <td>51.75</td>\n",
       "      <td>11281771</td>\n",
       "      <td>...</td>\n",
       "      <td>31.91</td>\n",
       "      <td>32.30</td>\n",
       "      <td>31.77</td>\n",
       "      <td>31.81</td>\n",
       "      <td>8154307</td>\n",
       "      <td>54.51</td>\n",
       "      <td>54.95</td>\n",
       "      <td>54.22</td>\n",
       "      <td>54.36</td>\n",
       "      <td>10929767</td>\n",
       "    </tr>\n",
       "  </tbody>\n",
       "</table>\n",
       "<p>2517 rows × 30 columns</p>\n",
       "</div>"
      ],
      "text/plain": [
       "Bank Ticker    BAC                                      C                  \\\n",
       "Stock Info    Open   High    Low  Close    Volume    Open    High     Low   \n",
       "Date                                                                        \n",
       "2006-01-03   46.92  47.18  46.15  47.08  16296700  490.00  493.80  481.10   \n",
       "2006-01-04   47.00  47.24  46.45  46.58  17757900  488.60  491.00  483.50   \n",
       "2006-01-05   46.58  46.83  46.32  46.64  14970900  484.40  487.80  484.00   \n",
       "2006-01-06   46.80  46.91  46.35  46.57  12599800  488.80  489.00  482.00   \n",
       "2006-01-09   46.72  46.97  46.36  46.60  15620000  486.00  487.40  483.00   \n",
       "...            ...    ...    ...    ...       ...     ...     ...     ...   \n",
       "2015-12-24   17.32  17.38  17.22  17.27  29373415   52.48   52.97   52.45   \n",
       "2015-12-28   17.22  17.23  16.98  17.13  41777497   52.57   52.57   51.96   \n",
       "2015-12-29   17.25  17.35  17.16  17.28  45670376   52.76   53.22   52.74   \n",
       "2015-12-30   17.20  17.24  17.04  17.05  35066378   52.84   52.94   52.25   \n",
       "2015-12-31   17.01  17.07  16.83  16.83  47152968   52.07   52.39   51.75   \n",
       "\n",
       "Bank Ticker                    ...     MS                                \\\n",
       "Stock Info    Close    Volume  ...   Open   High    Low  Close   Volume   \n",
       "Date                           ...                                        \n",
       "2006-01-03   492.90   1537660  ...  57.17  58.49  56.74  58.31  5377000   \n",
       "2006-01-04   483.80   1871020  ...  58.70  59.28  58.35  58.35  7977800   \n",
       "2006-01-05   486.20   1143160  ...  58.55  58.59  58.02  58.51  5778000   \n",
       "2006-01-06   486.20   1370250  ...  58.77  58.85  58.05  58.57  6889800   \n",
       "2006-01-09   483.90   1680740  ...  58.63  59.29  58.62  59.19  4144500   \n",
       "...             ...       ...  ...    ...    ...    ...    ...      ...   \n",
       "2015-12-24    52.71   4671254  ...  32.57  32.71  32.44  32.48  2798163   \n",
       "2015-12-28    52.38   8761743  ...  32.36  32.36  31.95  32.17  5420280   \n",
       "2015-12-29    52.98  10155134  ...  32.44  32.70  32.32  32.55  6388244   \n",
       "2015-12-30    52.30   8763337  ...  32.50  32.64  32.20  32.23  5057162   \n",
       "2015-12-31    51.75  11281771  ...  31.91  32.30  31.77  31.81  8154307   \n",
       "\n",
       "Bank Ticker    WFC                                 \n",
       "Stock Info    Open   High    Low  Close    Volume  \n",
       "Date                                               \n",
       "2006-01-03   31.60  31.98  31.20  31.90  11016400  \n",
       "2006-01-04   31.80  31.82  31.36  31.53  10871000  \n",
       "2006-01-05   31.50  31.56  31.31  31.50  10158000  \n",
       "2006-01-06   31.58  31.78  31.38  31.68   8403800  \n",
       "2006-01-09   31.68  31.82  31.56  31.68   5619600  \n",
       "...            ...    ...    ...    ...       ...  \n",
       "2015-12-24   54.97  55.09  54.71  54.82   4999417  \n",
       "2015-12-28   54.55  54.78  54.17  54.68   8288841  \n",
       "2015-12-29   55.11  55.35  54.99  55.29   7894876  \n",
       "2015-12-30   55.27  55.31  54.79  54.89   8016893  \n",
       "2015-12-31   54.51  54.95  54.22  54.36  10929767  \n",
       "\n",
       "[2517 rows x 30 columns]"
      ]
     },
     "execution_count": 66,
     "metadata": {},
     "output_type": "execute_result"
    }
   ],
   "source": [
    "df = pd.read_pickle('all_banks')\n",
    "df"
   ]
  },
  {
   "cell_type": "code",
   "execution_count": 67,
   "metadata": {},
   "outputs": [],
   "source": [
    "BAC=df['BAC']\n",
    "C=df['C']\n",
    "GS=df['GS']\n",
    "JPM=df['JPM']\n",
    "MS=df['MS']\n",
    "WFC=df['WFC']"
   ]
  },
  {
   "cell_type": "code",
   "execution_count": 68,
   "metadata": {},
   "outputs": [
    {
     "name": "stdout",
     "output_type": "stream",
     "text": [
      "BAC : 54.9\n",
      "C : 564.1\n",
      "GS : 247.92\n",
      "JPM : 70.08\n",
      "MS : 89.3\n",
      "WFC : 58.52\n"
     ]
    }
   ],
   "source": [
    "tickers=['BAC','C','GS','JPM','MS','WFC']\n",
    "for tick in tickers:\n",
    "    print(tick,\":\",df[tick]['Close'].max())"
   ]
  },
  {
   "cell_type": "code",
   "execution_count": 69,
   "metadata": {},
   "outputs": [
    {
     "data": {
      "text/plain": [
       "Bank Ticker\n",
       "BAC     54.90\n",
       "C      564.10\n",
       "GS     247.92\n",
       "JPM     70.08\n",
       "MS      89.30\n",
       "WFC     58.52\n",
       "dtype: float64"
      ]
     },
     "execution_count": 69,
     "metadata": {},
     "output_type": "execute_result"
    }
   ],
   "source": [
    "df.xs(key='Close',axis=1,level='Stock Info').max()"
   ]
  },
  {
   "cell_type": "code",
   "execution_count": 70,
   "metadata": {},
   "outputs": [],
   "source": [
    "returns=pd.DataFrame()\n",
    "for tick in tickers:\n",
    "    returns[tick+' return']=df[tick]['Close'].pct_change()"
   ]
  },
  {
   "cell_type": "code",
   "execution_count": 71,
   "metadata": {},
   "outputs": [
    {
     "data": {
      "text/html": [
       "<div>\n",
       "<style scoped>\n",
       "    .dataframe tbody tr th:only-of-type {\n",
       "        vertical-align: middle;\n",
       "    }\n",
       "\n",
       "    .dataframe tbody tr th {\n",
       "        vertical-align: top;\n",
       "    }\n",
       "\n",
       "    .dataframe thead th {\n",
       "        text-align: right;\n",
       "    }\n",
       "</style>\n",
       "<table border=\"1\" class=\"dataframe\">\n",
       "  <thead>\n",
       "    <tr style=\"text-align: right;\">\n",
       "      <th></th>\n",
       "      <th>BAC return</th>\n",
       "      <th>C return</th>\n",
       "      <th>GS return</th>\n",
       "      <th>JPM return</th>\n",
       "      <th>MS return</th>\n",
       "      <th>WFC return</th>\n",
       "    </tr>\n",
       "    <tr>\n",
       "      <th>Date</th>\n",
       "      <th></th>\n",
       "      <th></th>\n",
       "      <th></th>\n",
       "      <th></th>\n",
       "      <th></th>\n",
       "      <th></th>\n",
       "    </tr>\n",
       "  </thead>\n",
       "  <tbody>\n",
       "    <tr>\n",
       "      <th>2006-01-03</th>\n",
       "      <td>NaN</td>\n",
       "      <td>NaN</td>\n",
       "      <td>NaN</td>\n",
       "      <td>NaN</td>\n",
       "      <td>NaN</td>\n",
       "      <td>NaN</td>\n",
       "    </tr>\n",
       "    <tr>\n",
       "      <th>2006-01-04</th>\n",
       "      <td>-0.010620</td>\n",
       "      <td>-0.018462</td>\n",
       "      <td>-0.013812</td>\n",
       "      <td>-0.014183</td>\n",
       "      <td>0.000686</td>\n",
       "      <td>-0.011599</td>\n",
       "    </tr>\n",
       "    <tr>\n",
       "      <th>2006-01-05</th>\n",
       "      <td>0.001288</td>\n",
       "      <td>0.004961</td>\n",
       "      <td>-0.000393</td>\n",
       "      <td>0.003029</td>\n",
       "      <td>0.002742</td>\n",
       "      <td>-0.000951</td>\n",
       "    </tr>\n",
       "    <tr>\n",
       "      <th>2006-01-06</th>\n",
       "      <td>-0.001501</td>\n",
       "      <td>0.000000</td>\n",
       "      <td>0.014169</td>\n",
       "      <td>0.007046</td>\n",
       "      <td>0.001025</td>\n",
       "      <td>0.005714</td>\n",
       "    </tr>\n",
       "    <tr>\n",
       "      <th>2006-01-09</th>\n",
       "      <td>0.000644</td>\n",
       "      <td>-0.004731</td>\n",
       "      <td>0.012030</td>\n",
       "      <td>0.016242</td>\n",
       "      <td>0.010586</td>\n",
       "      <td>0.000000</td>\n",
       "    </tr>\n",
       "    <tr>\n",
       "      <th>...</th>\n",
       "      <td>...</td>\n",
       "      <td>...</td>\n",
       "      <td>...</td>\n",
       "      <td>...</td>\n",
       "      <td>...</td>\n",
       "      <td>...</td>\n",
       "    </tr>\n",
       "    <tr>\n",
       "      <th>2015-12-24</th>\n",
       "      <td>-0.004037</td>\n",
       "      <td>0.001520</td>\n",
       "      <td>-0.002624</td>\n",
       "      <td>-0.001948</td>\n",
       "      <td>-0.003681</td>\n",
       "      <td>-0.003997</td>\n",
       "    </tr>\n",
       "    <tr>\n",
       "      <th>2015-12-28</th>\n",
       "      <td>-0.008107</td>\n",
       "      <td>-0.006261</td>\n",
       "      <td>-0.004658</td>\n",
       "      <td>-0.003303</td>\n",
       "      <td>-0.009544</td>\n",
       "      <td>-0.002554</td>\n",
       "    </tr>\n",
       "    <tr>\n",
       "      <th>2015-12-29</th>\n",
       "      <td>0.008757</td>\n",
       "      <td>0.011455</td>\n",
       "      <td>0.010516</td>\n",
       "      <td>0.010395</td>\n",
       "      <td>0.011812</td>\n",
       "      <td>0.011156</td>\n",
       "    </tr>\n",
       "    <tr>\n",
       "      <th>2015-12-30</th>\n",
       "      <td>-0.013310</td>\n",
       "      <td>-0.012835</td>\n",
       "      <td>-0.008282</td>\n",
       "      <td>-0.007157</td>\n",
       "      <td>-0.009831</td>\n",
       "      <td>-0.007235</td>\n",
       "    </tr>\n",
       "    <tr>\n",
       "      <th>2015-12-31</th>\n",
       "      <td>-0.012903</td>\n",
       "      <td>-0.010516</td>\n",
       "      <td>-0.009780</td>\n",
       "      <td>-0.008410</td>\n",
       "      <td>-0.013031</td>\n",
       "      <td>-0.009656</td>\n",
       "    </tr>\n",
       "  </tbody>\n",
       "</table>\n",
       "<p>2517 rows × 6 columns</p>\n",
       "</div>"
      ],
      "text/plain": [
       "            BAC return  C return  GS return  JPM return  MS return  WFC return\n",
       "Date                                                                          \n",
       "2006-01-03         NaN       NaN        NaN         NaN        NaN         NaN\n",
       "2006-01-04   -0.010620 -0.018462  -0.013812   -0.014183   0.000686   -0.011599\n",
       "2006-01-05    0.001288  0.004961  -0.000393    0.003029   0.002742   -0.000951\n",
       "2006-01-06   -0.001501  0.000000   0.014169    0.007046   0.001025    0.005714\n",
       "2006-01-09    0.000644 -0.004731   0.012030    0.016242   0.010586    0.000000\n",
       "...                ...       ...        ...         ...        ...         ...\n",
       "2015-12-24   -0.004037  0.001520  -0.002624   -0.001948  -0.003681   -0.003997\n",
       "2015-12-28   -0.008107 -0.006261  -0.004658   -0.003303  -0.009544   -0.002554\n",
       "2015-12-29    0.008757  0.011455   0.010516    0.010395   0.011812    0.011156\n",
       "2015-12-30   -0.013310 -0.012835  -0.008282   -0.007157  -0.009831   -0.007235\n",
       "2015-12-31   -0.012903 -0.010516  -0.009780   -0.008410  -0.013031   -0.009656\n",
       "\n",
       "[2517 rows x 6 columns]"
      ]
     },
     "execution_count": 71,
     "metadata": {},
     "output_type": "execute_result"
    }
   ],
   "source": [
    "returns"
   ]
  },
  {
   "cell_type": "code",
   "execution_count": 72,
   "metadata": {},
   "outputs": [
    {
     "data": {
      "image/png": "[encoded data removed]",
      "text/plain": [
       "<Figure size 1080x1080 with 42 Axes>"
      ]
     },
     "metadata": {
      "needs_background": "light"
     },
     "output_type": "display_data"
    }
   ],
   "source": [
    "sns.pairplot(returns)\n",
    "plt.show()"
   ]
  },
  {
   "cell_type": "code",
   "execution_count": 73,
   "metadata": {},
   "outputs": [
    {
     "data": {
      "text/plain": [
       "BAC return   2009-01-20\n",
       "C return     2011-05-06\n",
       "GS return    2009-01-20\n",
       "JPM return   2009-01-20\n",
       "MS return    2008-10-09\n",
       "WFC return   2009-01-20\n",
       "dtype: datetime64[ns]"
      ]
     },
     "execution_count": 73,
     "metadata": {},
     "output_type": "execute_result"
    }
   ],
   "source": [
    "returns.idxmin()"
   ]
  },
  {
   "cell_type": "code",
   "execution_count": 74,
   "metadata": {},
   "outputs": [
    {
     "data": {
      "text/plain": [
       "BAC return   2009-04-09\n",
       "C return     2011-05-09\n",
       "GS return    2008-11-24\n",
       "JPM return   2009-01-21\n",
       "MS return    2008-10-13\n",
       "WFC return   2008-07-16\n",
       "dtype: datetime64[ns]"
      ]
     },
     "execution_count": 74,
     "metadata": {},
     "output_type": "execute_result"
    }
   ],
   "source": [
    "returns.idxmax()"
   ]
  },
  {
   "cell_type": "code",
   "execution_count": 75,
   "metadata": {},
   "outputs": [
    {
     "data": {
      "text/plain": [
       "BAC return    0.036650\n",
       "C return      0.179969\n",
       "GS return     0.025346\n",
       "JPM return    0.027656\n",
       "MS return     0.037820\n",
       "WFC return    0.030233\n",
       "dtype: float64"
      ]
     },
     "execution_count": 75,
     "metadata": {},
     "output_type": "execute_result"
    }
   ],
   "source": [
    "returns.std()"
   ]
  },
  {
   "cell_type": "code",
   "execution_count": 76,
   "metadata": {},
   "outputs": [
    {
     "data": {
      "text/plain": [
       "<matplotlib.legend.Legend at 0x1b8f4585b48>"
      ]
     },
     "execution_count": 76,
     "metadata": {},
     "output_type": "execute_result"
    },
    {
     "data": {
      "image/png": "[encoded data removed]",
      "text/plain": [
       "<Figure size 864x288 with 1 Axes>"
      ]
     },
     "metadata": {
      "needs_background": "light"
     },
     "output_type": "display_data"
    }
   ],
   "source": [
    "for tick in tickers:\n",
    "    df[tick]['Close'].plot(label=tick,figsize=(12,4))\n",
    "plt.legend()"
   ]
  },
  {
   "cell_type": "code",
   "execution_count": 77,
   "metadata": {},
   "outputs": [
    {
     "data": {
      "text/plain": [
       "<matplotlib.axes._subplots.AxesSubplot at 0x1b8f3d9a148>"
      ]
     },
     "execution_count": 77,
     "metadata": {},
     "output_type": "execute_result"
    },
    {
     "data": {
      "image/png": "[encoded data removed]",
      "text/plain": [
       "<Figure size 432x288 with 2 Axes>"
      ]
     },
     "metadata": {
      "needs_background": "light"
     },
     "output_type": "display_data"
    }
   ],
   "source": [
    "sns.heatmap(df.xs(key='Close',axis=1,level='Stock Info').corr(),annot=True)"
   ]
  },
  {
   "cell_type": "code",
   "execution_count": 78,
   "metadata": {},
   "outputs": [
    {
     "name": "stdout",
     "output_type": "stream",
     "text": [
      "Requirement already satisfied: chart-studio in c:\\programdata\\anaconda3\\lib\\site-packages (1.1.0)\n",
      "Requirement already satisfied: plotly in c:\\programdata\\anaconda3\\lib\\site-packages (from chart-studio) (4.14.3)\n",
      "Requirement already satisfied: six in c:\\programdata\\anaconda3\\lib\\site-packages (from chart-studio) (1.14.0)\n",
      "Requirement already satisfied: requests in c:\\programdata\\anaconda3\\lib\\site-packages (from chart-studio) (2.22.0)\n",
      "Requirement already satisfied: retrying>=1.3.3 in c:\\programdata\\anaconda3\\lib\\site-packages (from chart-studio) (1.3.3)\n",
      "Requirement already satisfied: chardet<3.1.0,>=3.0.2 in c:\\programdata\\anaconda3\\lib\\site-packages (from requests->chart-studio) (3.0.4)\n",
      "Requirement already satisfied: certifi>=2017.4.17 in c:\\programdata\\anaconda3\\lib\\site-packages (from requests->chart-studio) (2019.11.28)\n",
      "Requirement already satisfied: urllib3!=1.25.0,!=1.25.1,<1.26,>=1.21.1 in c:\\programdata\\anaconda3\\lib\\site-packages (from requests->chart-studio) (1.25.8)\n",
      "Requirement already satisfied: idna<2.9,>=2.5 in c:\\programdata\\anaconda3\\lib\\site-packages (from requests->chart-studio) (2.8)\n",
      "Note: you may need to restart the kernel to use updated packages.\n"
     ]
    }
   ],
   "source": [
    "pip install chart-studio"
   ]
  },
  {
   "cell_type": "code",
   "execution_count": 79,
   "metadata": {},
   "outputs": [],
   "source": [
    "import chart_studio.plotly as py"
   ]
  },
  {
   "cell_type": "code",
   "execution_count": 80,
   "metadata": {},
   "outputs": [
    {
     "name": "stdout",
     "output_type": "stream",
     "text": [
      "4.14.3\n"
     ]
    }
   ],
   "source": [
    "from plotly import __version__\n",
    "print(__version__)\n",
    "import cufflinks as cf"
   ]
  },
  {
   "cell_type": "code",
   "execution_count": 81,
   "metadata": {},
   "outputs": [
    {
     "name": "stdout",
     "output_type": "stream",
     "text": [
      "Requirement already satisfied: cufflinks in c:\\programdata\\anaconda3\\lib\\site-packages (0.17.3)\n",
      "Requirement already satisfied: pandas>=0.19.2 in c:\\programdata\\anaconda3\\lib\\site-packages (from cufflinks) (1.0.1)\n",
      "Requirement already satisfied: ipython>=5.3.0 in c:\\programdata\\anaconda3\\lib\\site-packages (from cufflinks) (7.12.0)\n",
      "Requirement already satisfied: colorlover>=0.2.1 in c:\\programdata\\anaconda3\\lib\\site-packages (from cufflinks) (0.3.0)\n",
      "Requirement already satisfied: setuptools>=34.4.1 in c:\\programdata\\anaconda3\\lib\\site-packages (from cufflinks) (45.2.0.post20200210)\n",
      "Requirement already satisfied: numpy>=1.9.2 in c:\\programdata\\anaconda3\\lib\\site-packages (from cufflinks) (1.18.1)\n",
      "Requirement already satisfied: ipywidgets>=7.0.0 in c:\\programdata\\anaconda3\\lib\\site-packages (from cufflinks) (7.5.1)\n",
      "Requirement already satisfied: plotly>=4.1.1 in c:\\programdata\\anaconda3\\lib\\site-packages (from cufflinks) (4.14.3)\n",
      "Requirement already satisfied: six>=1.9.0 in c:\\programdata\\anaconda3\\lib\\site-packages (from cufflinks) (1.14.0)\n",
      "Requirement already satisfied: pytz>=2017.2 in c:\\programdata\\anaconda3\\lib\\site-packages (from pandas>=0.19.2->cufflinks) (2019.3)\n",
      "Requirement already satisfied: python-dateutil>=2.6.1 in c:\\programdata\\anaconda3\\lib\\site-packages (from pandas>=0.19.2->cufflinks) (2.8.1)\n",
      "Requirement already satisfied: pickleshare in c:\\programdata\\anaconda3\\lib\\site-packages (from ipython>=5.3.0->cufflinks) (0.7.5)\n",
      "Requirement already satisfied: backcall in c:\\programdata\\anaconda3\\lib\\site-packages (from ipython>=5.3.0->cufflinks) (0.1.0)\n",
      "Requirement already satisfied: colorama; sys_platform == \"win32\" in c:\\programdata\\anaconda3\\lib\\site-packages (from ipython>=5.3.0->cufflinks) (0.4.3)\n",
      "Requirement already satisfied: decorator in c:\\programdata\\anaconda3\\lib\\site-packages (from ipython>=5.3.0->cufflinks) (4.4.1)\n",
      "Requirement already satisfied: jedi>=0.10 in c:\\programdata\\anaconda3\\lib\\site-packages (from ipython>=5.3.0->cufflinks) (0.14.1)\n",
      "Requirement already satisfied: traitlets>=4.2 in c:\\programdata\\anaconda3\\lib\\site-packages (from ipython>=5.3.0->cufflinks) (4.3.3)\n",
      "Requirement already satisfied: pygments in c:\\programdata\\anaconda3\\lib\\site-packages (from ipython>=5.3.0->cufflinks) (2.5.2)\n",
      "Requirement already satisfied: prompt-toolkit!=3.0.0,!=3.0.1,<3.1.0,>=2.0.0 in c:\\programdata\\anaconda3\\lib\\site-packages (from ipython>=5.3.0->cufflinks) (3.0.3)\n",
      "Requirement already satisfied: widgetsnbextension~=3.5.0 in c:\\programdata\\anaconda3\\lib\\site-packages (from ipywidgets>=7.0.0->cufflinks) (3.5.1)\n",
      "Requirement already satisfied: nbformat>=4.2.0 in c:\\programdata\\anaconda3\\lib\\site-packages (from ipywidgets>=7.0.0->cufflinks) (5.0.4)\n",
      "Requirement already satisfied: ipykernel>=4.5.1 in c:\\programdata\\anaconda3\\lib\\site-packages (from ipywidgets>=7.0.0->cufflinks) (5.1.4)\n",
      "Requirement already satisfied: retrying>=1.3.3 in c:\\programdata\\anaconda3\\lib\\site-packages (from plotly>=4.1.1->cufflinks) (1.3.3)\n",
      "Requirement already satisfied: parso>=0.5.0 in c:\\programdata\\anaconda3\\lib\\site-packages (from jedi>=0.10->ipython>=5.3.0->cufflinks) (0.5.2)\n",
      "Requirement already satisfied: ipython-genutils in c:\\programdata\\anaconda3\\lib\\site-packages (from traitlets>=4.2->ipython>=5.3.0->cufflinks) (0.2.0)\n",
      "Requirement already satisfied: wcwidth in c:\\programdata\\anaconda3\\lib\\site-packages (from prompt-toolkit!=3.0.0,!=3.0.1,<3.1.0,>=2.0.0->ipython>=5.3.0->cufflinks) (0.1.8)\n",
      "Requirement already satisfied: notebook>=4.4.1 in c:\\programdata\\anaconda3\\lib\\site-packages (from widgetsnbextension~=3.5.0->ipywidgets>=7.0.0->cufflinks) (6.0.3)\n",
      "Requirement already satisfied: jupyter-core in c:\\programdata\\anaconda3\\lib\\site-packages (from nbformat>=4.2.0->ipywidgets>=7.0.0->cufflinks) (4.6.1)\n",
      "Requirement already satisfied: jsonschema!=2.5.0,>=2.4 in c:\\programdata\\anaconda3\\lib\\site-packages (from nbformat>=4.2.0->ipywidgets>=7.0.0->cufflinks) (3.2.0)\n",
      "Requirement already satisfied: jupyter-client in c:\\programdata\\anaconda3\\lib\\site-packages (from ipykernel>=4.5.1->ipywidgets>=7.0.0->cufflinks) (5.3.4)\n",
      "Requirement already satisfied: tornado>=4.2 in c:\\programdata\\anaconda3\\lib\\site-packages (from ipykernel>=4.5.1->ipywidgets>=7.0.0->cufflinks) (6.0.3)\n",
      "Requirement already satisfied: jinja2 in c:\\programdata\\anaconda3\\lib\\site-packages (from notebook>=4.4.1->widgetsnbextension~=3.5.0->ipywidgets>=7.0.0->cufflinks) (2.11.1)\n",
      "Requirement already satisfied: pyzmq>=17 in c:\\programdata\\anaconda3\\lib\\site-packages (from notebook>=4.4.1->widgetsnbextension~=3.5.0->ipywidgets>=7.0.0->cufflinks) (18.1.1)\n",
      "Requirement already satisfied: Send2Trash in c:\\programdata\\anaconda3\\lib\\site-packages (from notebook>=4.4.1->widgetsnbextension~=3.5.0->ipywidgets>=7.0.0->cufflinks) (1.5.0)\n",
      "Requirement already satisfied: nbconvert in c:\\programdata\\anaconda3\\lib\\site-packages (from notebook>=4.4.1->widgetsnbextension~=3.5.0->ipywidgets>=7.0.0->cufflinks) (5.6.1)\n",
      "Requirement already satisfied: prometheus-client in c:\\programdata\\anaconda3\\lib\\site-packages (from notebook>=4.4.1->widgetsnbextension~=3.5.0->ipywidgets>=7.0.0->cufflinks) (0.7.1)\n",
      "Requirement already satisfied: terminado>=0.8.1 in c:\\programdata\\anaconda3\\lib\\site-packages (from notebook>=4.4.1->widgetsnbextension~=3.5.0->ipywidgets>=7.0.0->cufflinks) (0.8.3)\n",
      "Requirement already satisfied: pywin32>=1.0; sys_platform == \"win32\" in c:\\programdata\\anaconda3\\lib\\site-packages (from jupyter-core->nbformat>=4.2.0->ipywidgets>=7.0.0->cufflinks) (227)\n",
      "Requirement already satisfied: attrs>=17.4.0 in c:\\programdata\\anaconda3\\lib\\site-packages (from jsonschema!=2.5.0,>=2.4->nbformat>=4.2.0->ipywidgets>=7.0.0->cufflinks) (19.3.0)\n",
      "Requirement already satisfied: importlib-metadata; python_version < \"3.8\" in c:\\programdata\\anaconda3\\lib\\site-packages (from jsonschema!=2.5.0,>=2.4->nbformat>=4.2.0->ipywidgets>=7.0.0->cufflinks) (1.7.0)\n",
      "Requirement already satisfied: pyrsistent>=0.14.0 in c:\\programdata\\anaconda3\\lib\\site-packages (from jsonschema!=2.5.0,>=2.4->nbformat>=4.2.0->ipywidgets>=7.0.0->cufflinks) (0.15.7)\n",
      "Requirement already satisfied: MarkupSafe>=0.23 in c:\\programdata\\anaconda3\\lib\\site-packages (from jinja2->notebook>=4.4.1->widgetsnbextension~=3.5.0->ipywidgets>=7.0.0->cufflinks) (1.1.1)\n",
      "Requirement already satisfied: entrypoints>=0.2.2 in c:\\programdata\\anaconda3\\lib\\site-packages (from nbconvert->notebook>=4.4.1->widgetsnbextension~=3.5.0->ipywidgets>=7.0.0->cufflinks) (0.3)\n",
      "Requirement already satisfied: bleach in c:\\programdata\\anaconda3\\lib\\site-packages (from nbconvert->notebook>=4.4.1->widgetsnbextension~=3.5.0->ipywidgets>=7.0.0->cufflinks) (3.1.0)\n",
      "Requirement already satisfied: defusedxml in c:\\programdata\\anaconda3\\lib\\site-packages (from nbconvert->notebook>=4.4.1->widgetsnbextension~=3.5.0->ipywidgets>=7.0.0->cufflinks) (0.6.0)\n",
      "Requirement already satisfied: mistune<2,>=0.8.1 in c:\\programdata\\anaconda3\\lib\\site-packages (from nbconvert->notebook>=4.4.1->widgetsnbextension~=3.5.0->ipywidgets>=7.0.0->cufflinks) (0.8.4)\n",
      "Requirement already satisfied: pandocfilters>=1.4.1 in c:\\programdata\\anaconda3\\lib\\site-packages (from nbconvert->notebook>=4.4.1->widgetsnbextension~=3.5.0->ipywidgets>=7.0.0->cufflinks) (1.4.2)\n",
      "Requirement already satisfied: testpath in c:\\programdata\\anaconda3\\lib\\site-packages (from nbconvert->notebook>=4.4.1->widgetsnbextension~=3.5.0->ipywidgets>=7.0.0->cufflinks) (0.4.4)\n",
      "Requirement already satisfied: zipp>=0.5 in c:\\programdata\\anaconda3\\lib\\site-packages (from importlib-metadata; python_version < \"3.8\"->jsonschema!=2.5.0,>=2.4->nbformat>=4.2.0->ipywidgets>=7.0.0->cufflinks) (2.2.0)\n",
      "Requirement already satisfied: webencodings in c:\\programdata\\anaconda3\\lib\\site-packages (from bleach->nbconvert->notebook>=4.4.1->widgetsnbextension~=3.5.0->ipywidgets>=7.0.0->cufflinks) (0.5.1)\n",
      "Note: you may need to restart the kernel to use updated packages.\n"
     ]
    }
   ],
   "source": [
    "pip install cufflinks"
   ]
  },
  {
   "cell_type": "code",
   "execution_count": 82,
   "metadata": {},
   "outputs": [],
   "source": [
    "from plotly.offline import download_plotlyjs,init_notebook_mode,plot,iplot"
   ]
  },
  {
   "cell_type": "code",
   "execution_count": 83,
   "metadata": {},
   "outputs": [
    {
     "data": {
      "text/html": [
       "        <script type=\"text/javascript\">\n",
       "        window.PlotlyConfig = {MathJaxConfig: 'local'};\n",
       "        if (window.MathJax) {MathJax.Hub.Config({SVG: {font: \"STIX-Web\"}});}\n",
       "        if (typeof require !== 'undefined') {\n",
       "        require.undef(\"plotly\");\n",
       "        requirejs.config({\n",
       "            paths: {\n",
       "                'plotly': ['https://cdn.plot.ly/plotly-latest.min']\n",
       "            }\n",
       "        });\n",
       "        require(['plotly'], function(Plotly) {\n",
       "            window._Plotly = Plotly;\n",
       "        });\n",
       "        }\n",
       "        </script>\n",
       "        "
      ]
     },
     "metadata": {},
     "output_type": "display_data"
    }
   ],
   "source": [
    "init_notebook_mode(connected=True)"
   ]
  },
  {
   "cell_type": "code",
   "execution_count": 84,
   "metadata": {},
   "outputs": [
    {
     "data": {
      "text/html": [
       "        <script type=\"text/javascript\">\n",
       "        window.PlotlyConfig = {MathJaxConfig: 'local'};\n",
       "        if (window.MathJax) {MathJax.Hub.Config({SVG: {font: \"STIX-Web\"}});}\n",
       "        if (typeof require !== 'undefined') {\n",
       "        require.undef(\"plotly\");\n",
       "        requirejs.config({\n",
       "            paths: {\n",
       "                'plotly': ['https://cdn.plot.ly/plotly-latest.min']\n",
       "            }\n",
       "        });\n",
       "        require(['plotly'], function(Plotly) {\n",
       "            window._Plotly = Plotly;\n",
       "        });\n",
       "        }\n",
       "        </script>\n",
       "        "
      ]
     },
     "metadata": {},
     "output_type": "display_data"
    }
   ],
   "source": [
    "cf.go_offline()"
   ]
  },
  {
   "cell_type": "code",
   "execution_count": 85,
   "metadata": {},
   "outputs": [
    {
     "data": {
      "text/html": [
       "<div>\n",
       "<style scoped>\n",
       "    .dataframe tbody tr th:only-of-type {\n",
       "        vertical-align: middle;\n",
       "    }\n",
       "\n",
       "    .dataframe tbody tr th {\n",
       "        vertical-align: top;\n",
       "    }\n",
       "\n",
       "    .dataframe thead th {\n",
       "        text-align: right;\n",
       "    }\n",
       "</style>\n",
       "<table border=\"1\" class=\"dataframe\">\n",
       "  <thead>\n",
       "    <tr style=\"text-align: right;\">\n",
       "      <th></th>\n",
       "      <th>A</th>\n",
       "      <th>B</th>\n",
       "      <th>C</th>\n",
       "      <th>D</th>\n",
       "    </tr>\n",
       "  </thead>\n",
       "  <tbody>\n",
       "    <tr>\n",
       "      <th>0</th>\n",
       "      <td>0.206612</td>\n",
       "      <td>0.215662</td>\n",
       "      <td>0.791092</td>\n",
       "      <td>-2.279091</td>\n",
       "    </tr>\n",
       "    <tr>\n",
       "      <th>1</th>\n",
       "      <td>-0.461045</td>\n",
       "      <td>-2.644875</td>\n",
       "      <td>1.073102</td>\n",
       "      <td>-0.222547</td>\n",
       "    </tr>\n",
       "    <tr>\n",
       "      <th>2</th>\n",
       "      <td>0.414041</td>\n",
       "      <td>-0.746394</td>\n",
       "      <td>0.893108</td>\n",
       "      <td>-0.231204</td>\n",
       "    </tr>\n",
       "    <tr>\n",
       "      <th>3</th>\n",
       "      <td>0.128213</td>\n",
       "      <td>0.151727</td>\n",
       "      <td>-0.446401</td>\n",
       "      <td>-0.755807</td>\n",
       "    </tr>\n",
       "    <tr>\n",
       "      <th>4</th>\n",
       "      <td>-0.013584</td>\n",
       "      <td>-0.706655</td>\n",
       "      <td>-2.224637</td>\n",
       "      <td>-1.954505</td>\n",
       "    </tr>\n",
       "    <tr>\n",
       "      <th>...</th>\n",
       "      <td>...</td>\n",
       "      <td>...</td>\n",
       "      <td>...</td>\n",
       "      <td>...</td>\n",
       "    </tr>\n",
       "    <tr>\n",
       "      <th>95</th>\n",
       "      <td>0.696049</td>\n",
       "      <td>-0.147728</td>\n",
       "      <td>-0.756312</td>\n",
       "      <td>0.140521</td>\n",
       "    </tr>\n",
       "    <tr>\n",
       "      <th>96</th>\n",
       "      <td>-1.690859</td>\n",
       "      <td>1.216267</td>\n",
       "      <td>-0.515328</td>\n",
       "      <td>1.464775</td>\n",
       "    </tr>\n",
       "    <tr>\n",
       "      <th>97</th>\n",
       "      <td>-0.764091</td>\n",
       "      <td>-0.123860</td>\n",
       "      <td>-0.784306</td>\n",
       "      <td>-0.261395</td>\n",
       "    </tr>\n",
       "    <tr>\n",
       "      <th>98</th>\n",
       "      <td>0.470533</td>\n",
       "      <td>-0.688372</td>\n",
       "      <td>-0.604371</td>\n",
       "      <td>0.193322</td>\n",
       "    </tr>\n",
       "    <tr>\n",
       "      <th>99</th>\n",
       "      <td>0.311192</td>\n",
       "      <td>0.254058</td>\n",
       "      <td>-0.151582</td>\n",
       "      <td>0.090448</td>\n",
       "    </tr>\n",
       "  </tbody>\n",
       "</table>\n",
       "<p>100 rows × 4 columns</p>\n",
       "</div>"
      ],
      "text/plain": [
       "           A         B         C         D\n",
       "0   0.206612  0.215662  0.791092 -2.279091\n",
       "1  -0.461045 -2.644875  1.073102 -0.222547\n",
       "2   0.414041 -0.746394  0.893108 -0.231204\n",
       "3   0.128213  0.151727 -0.446401 -0.755807\n",
       "4  -0.013584 -0.706655 -2.224637 -1.954505\n",
       "..       ...       ...       ...       ...\n",
       "95  0.696049 -0.147728 -0.756312  0.140521\n",
       "96 -1.690859  1.216267 -0.515328  1.464775\n",
       "97 -0.764091 -0.123860 -0.784306 -0.261395\n",
       "98  0.470533 -0.688372 -0.604371  0.193322\n",
       "99  0.311192  0.254058 -0.151582  0.090448\n",
       "\n",
       "[100 rows x 4 columns]"
      ]
     },
     "execution_count": 85,
     "metadata": {},
     "output_type": "execute_result"
    }
   ],
   "source": [
    "df=pd.DataFrame(np.random.randn(100,4),columns='A B C D'.split())\n",
    "df"
   ]
  },
  {
   "cell_type": "code",
   "execution_count": 86,
   "metadata": {},
   "outputs": [],
   "source": [
    "df2=pd.DataFrame({'Category':['A','B','C'],'Values':[32,43,50]})"
   ]
  },
  {
   "cell_type": "code",
   "execution_count": 87,
   "metadata": {},
   "outputs": [
    {
     "data": {
      "text/plain": [
       "<matplotlib.axes._subplots.AxesSubplot at 0x1b8f3603788>"
      ]
     },
     "execution_count": 87,
     "metadata": {},
     "output_type": "execute_result"
    },
    {
     "data": {
      "image/png": "[encoded data removed]",
      "text/plain": [
       "<Figure size 432x288 with 1 Axes>"
      ]
     },
     "metadata": {
      "needs_background": "light"
     },
     "output_type": "display_data"
    }
   ],
   "source": [
    "df.plot()"
   ]
  },
  {
   "cell_type": "code",
   "execution_count": 88,
   "metadata": {},
   "outputs": [
    {
     "data": {
      "application/vnd.plotly.v1+json": {
       "config": {
        "linkText": "Export to plot.ly",
        "plotlyServerURL": "https://plot.ly",
        "showLink": true
       },
       "data": [
        {
         "line": {
          "color": "rgba(255, 153, 51, 1.0)",
          "dash": "solid",
          "shape": "linear",
          "width": 1.3
         },
         "mode": "lines",
         "name": "A",
         "text": "",
         "type": "scatter",
         "x": [
          0,
          1,
          2,
          3,
          4,
          5,
          6,
          7,
          8,
          9,
          10,
          11,
          12,
          13,
          14,
          15,
          16,
          17,
          18,
          19,
          20,
          21,
          22,
          23,
          24,
          25,
          26,
          27,
          28,
          29,
          30,
          31,
          32,
          33,
          34,
          35,
          36,
          37,
          38,
          39,
          40,
          41,
          42,
          43,
          44,
          45,
          46,
          47,
          48,
          49,
          50,
          51,
          52,
          53,
          54,
          55,
          56,
          57,
          58,
          59,
          60,
          61,
          62,
          63,
          64,
          65,
          66,
          67,
          68,
          69,
          70,
          71,
          72,
          73,
          74,
          75,
          76,
          77,
          78,
          79,
          80,
          81,
          82,
          83,
          84,
          85,
          86,
          87,
          88,
          89,
          90,
          91,
          92,
          93,
          94,
          95,
          96,
          97,
          98,
          99
         ],
         "y": [
          0.20661191534623324,
          -0.4610446625441009,
          0.41404076765685266,
          0.12821347046246326,
          -0.01358400372981374,
          -0.08937863519935071,
          1.2019003773267596,
          2.587379098013382,
          -0.876367374435099,
          -0.06708858065575127,
          -1.860781677455559,
          -0.007083843998639369,
          -0.5087397924601488,
          -0.7148935715875485,
          -0.486102756002156,
          -1.422162749451995,
          1.106299160690784,
          1.5781145646233357,
          -0.7922119556891072,
          -0.9366933399660091,
          1.4464335256622187,
          0.6445975968257018,
          -1.538728684518367,
          0.34591334219766723,
          -0.06695497469254769,
          -0.7854575319838124,
          -0.19063385678899702,
          -1.0077802308039194,
          1.1641939131089654,
          0.3933932425324607,
          0.6724062417349693,
          -0.3534774503633168,
          0.4179585343789065,
          1.2654624300189907,
          0.3024835221461766,
          -0.560502103246814,
          -0.5435737964098641,
          0.46902312155981146,
          -1.5071458886033147,
          0.7862070791649816,
          -0.2504321639525721,
          0.998433511927052,
          0.18335456363231012,
          -2.204701421526611,
          0.7660191801042198,
          1.2981386104872434,
          -0.8130295986686382,
          0.1926199223056493,
          -0.022994972639108578,
          -0.9147502391003633,
          -3.081779801850133,
          2.1885651265483057,
          0.35110681703189833,
          0.07562106012288047,
          1.2687395859135877,
          0.3950192919754047,
          0.5696479880232429,
          0.14506503274253282,
          -0.10531256863901825,
          -2.5656696280083624,
          0.44549997453953577,
          -1.4625071086769927,
          0.11481422346672888,
          0.6892168665381849,
          0.8559157204775419,
          -0.8700767507183113,
          -0.8384027375555587,
          0.3121159266088328,
          -1.394830968211032,
          1.7544974492685588,
          0.9278250322812287,
          0.20109265335628046,
          -1.0375458595474587,
          -0.1401517540189485,
          0.7814771608237634,
          0.20315718496527627,
          0.26493030231832276,
          -1.4653000115643395,
          -0.7105285000621676,
          0.4575263501639446,
          1.6082712347549057,
          -0.40317061230433215,
          2.2652794725434036,
          0.9504642538701966,
          0.25628444355796115,
          0.6182466914749498,
          -2.9274222203716325,
          -1.381083907423626,
          0.920316174937108,
          -1.0542129081420748,
          -0.8357546756817875,
          0.13291690593164276,
          -0.9534285876439937,
          0.44339798516108414,
          2.039346754718478,
          0.6960488678087877,
          -1.6908592880087745,
          -0.7640913084347061,
          0.4705330116393717,
          0.31119212967301185
         ]
        },
        {
         "line": {
          "color": "rgba(55, 128, 191, 1.0)",
          "dash": "solid",
          "shape": "linear",
          "width": 1.3
         },
         "mode": "lines",
         "name": "B",
         "text": "",
         "type": "scatter",
         "x": [
          0,
          1,
          2,
          3,
          4,
          5,
          6,
          7,
          8,
          9,
          10,
          11,
          12,
          13,
          14,
          15,
          16,
          17,
          18,
          19,
          20,
          21,
          22,
          23,
          24,
          25,
          26,
          27,
          28,
          29,
          30,
          31,
          32,
          33,
          34,
          35,
          36,
          37,
          38,
          39,
          40,
          41,
          42,
          43,
          44,
          45,
          46,
          47,
          48,
          49,
          50,
          51,
          52,
          53,
          54,
          55,
          56,
          57,
          58,
          59,
          60,
          61,
          62,
          63,
          64,
          65,
          66,
          67,
          68,
          69,
          70,
          71,
          72,
          73,
          74,
          75,
          76,
          77,
          78,
          79,
          80,
          81,
          82,
          83,
          84,
          85,
          86,
          87,
          88,
          89,
          90,
          91,
          92,
          93,
          94,
          95,
          96,
          97,
          98,
          99
         ],
         "y": [
          0.21566184463828011,
          -2.6448747170508,
          -0.7463939405566361,
          0.15172718049086653,
          -0.7066546536254062,
          1.799615280208897,
          0.7349191170196748,
          -1.0476623593051504,
          1.2710035398347894,
          -0.1978697980545318,
          0.5473337457747002,
          -0.35492662884211057,
          -0.2511520904598244,
          0.8027108747158334,
          0.6225015585439599,
          1.2514096898198,
          -1.287068474056987,
          0.0006622518848594923,
          0.282837650404236,
          -0.51849054255078,
          -0.27367452203721676,
          0.5032868890407113,
          1.524819290259009,
          -0.06532973445380441,
          -0.9994387170886119,
          0.8690041086619215,
          0.9097370415339991,
          -1.7139603249541469,
          1.0035455893104557,
          1.1141950141913526,
          -2.2752722781939694,
          -1.7603959881071014,
          -0.16109718837357848,
          -1.0095137168964665,
          0.7377847732653243,
          -0.3978696381448754,
          0.961660730533915,
          0.3289430479815819,
          1.532635068903488,
          0.006418923666554409,
          -1.5818701361244483,
          0.8141110455419436,
          -0.34134075687805376,
          0.2454581009767703,
          -1.535233150550167,
          0.8445204478725542,
          -0.3377734598789571,
          -0.05904159222291085,
          0.27362706717972557,
          -0.9367086282388856,
          -0.09814057695752369,
          -1.3038993332366096,
          0.13300067540249808,
          -0.18628288006693733,
          -0.7346842930995677,
          0.4702563147651111,
          -0.5274248922508566,
          -1.6456472099635477,
          0.3748971033143268,
          -1.7798236417744402,
          -1.0530893186668286,
          0.8800239207988834,
          -0.3226388589453465,
          -0.10284077973840851,
          0.31016786359017023,
          0.030793909431710884,
          -0.9855311474822734,
          1.366439480194007,
          0.9684888489728021,
          -0.0993762454723041,
          0.41570097448003795,
          -0.2781393461774353,
          0.1073192576431352,
          -1.556312238107014,
          2.2074147350585003,
          0.005327221819468173,
          -0.31538717340607686,
          0.5529249513938924,
          0.07211257864795424,
          -0.19536211967476866,
          0.10822840879372396,
          -2.363658152612146,
          0.17000158684898461,
          0.606587971630712,
          -1.5514615014532716,
          0.8068957859375292,
          -0.4095444163985019,
          0.8017569689670967,
          -0.9303854184850338,
          -0.06008466327821947,
          -0.7317227243202581,
          0.7145023803111251,
          -1.1939141926815078,
          0.39720804037128765,
          0.5093170452739304,
          -0.14772795296538405,
          1.2162674475960769,
          -0.12386024104153552,
          -0.6883717044761949,
          0.2540575513764201
         ]
        },
        {
         "line": {
          "color": "rgba(50, 171, 96, 1.0)",
          "dash": "solid",
          "shape": "linear",
          "width": 1.3
         },
         "mode": "lines",
         "name": "C",
         "text": "",
         "type": "scatter",
         "x": [
          0,
          1,
          2,
          3,
          4,
          5,
          6,
          7,
          8,
          9,
          10,
          11,
          12,
          13,
          14,
          15,
          16,
          17,
          18,
          19,
          20,
          21,
          22,
          23,
          24,
          25,
          26,
          27,
          28,
          29,
          30,
          31,
          32,
          33,
          34,
          35,
          36,
          37,
          38,
          39,
          40,
          41,
          42,
          43,
          44,
          45,
          46,
          47,
          48,
          49,
          50,
          51,
          52,
          53,
          54,
          55,
          56,
          57,
          58,
          59,
          60,
          61,
          62,
          63,
          64,
          65,
          66,
          67,
          68,
          69,
          70,
          71,
          72,
          73,
          74,
          75,
          76,
          77,
          78,
          79,
          80,
          81,
          82,
          83,
          84,
          85,
          86,
          87,
          88,
          89,
          90,
          91,
          92,
          93,
          94,
          95,
          96,
          97,
          98,
          99
         ],
         "y": [
          0.7910919640213182,
          1.0731019457495816,
          0.8931078393006489,
          -0.44640142782130965,
          -2.224636951310231,
          1.6956153446479425,
          -0.2278764384041728,
          0.4202460441688645,
          0.6386324119378403,
          -0.5655249562118142,
          -1.0278752456765983,
          0.38354384456892315,
          0.07733080304916802,
          0.11603423378589124,
          0.15473633061671102,
          0.40310167071457087,
          -1.0838558863385679,
          0.4078048466085792,
          -0.6917163718104571,
          -0.10585385435206911,
          0.6466289821701722,
          -0.40769870533338753,
          0.5016383837486322,
          0.06263991110967514,
          0.03276029708113598,
          -1.7510804270193718,
          -0.04556865676236197,
          1.3225693640035368,
          -1.002201356322981,
          -0.44127370986689,
          0.14698009314072336,
          -0.41990052661562044,
          -1.9019338781033286,
          -0.7415575157868501,
          -1.030844782439815,
          -0.45801328040368977,
          1.3064512549821476,
          1.8853724477181313,
          1.1268581137759113,
          1.4318465392286932,
          0.7957786906866531,
          -1.7659623845090977,
          -1.4618506012324128,
          -0.5308748850884522,
          0.5191107816139195,
          0.5013123655104066,
          -0.16250112882784334,
          0.06044406282066855,
          -0.191009186659284,
          0.8479886528854795,
          0.5578431453647937,
          0.021680883374815964,
          -0.8106368918117016,
          0.10744409651797972,
          -0.264586526124944,
          -0.4088202537024965,
          0.5066914928009179,
          -2.614194733920487,
          -1.637255880771564,
          -0.991981831170391,
          0.9965956272273776,
          -0.9332536933278639,
          1.5411521138876736,
          -0.1200188951632211,
          -0.8665478316178831,
          -1.472174673406913,
          0.12393214691533123,
          1.0316010487085723,
          0.8328971264332271,
          1.4723489491437043,
          0.2653596291871583,
          -1.367212092643426,
          0.6394243764926346,
          1.3562131093456384,
          -0.5781329196495982,
          -2.4090156651730603,
          -1.6209881435562221,
          -0.8569101979831883,
          -1.1904282255033516,
          0.3032625625783326,
          1.0075807888913317,
          1.0003145861154499,
          -0.09736549906292263,
          -0.771308865214996,
          0.9879185150040704,
          -0.43975149138027714,
          0.3787602524933764,
          -0.06860490251752274,
          -0.4928522954719433,
          -1.578800207706851,
          0.07704662518026237,
          -0.28169050889359626,
          0.05573638131155458,
          0.6091905820920195,
          -1.1588727960937915,
          -0.7563123929151288,
          -0.5153282621899362,
          -0.784305651822452,
          -0.6043710982087123,
          -0.15158164235769545
         ]
        },
        {
         "line": {
          "color": "rgba(128, 0, 128, 1.0)",
          "dash": "solid",
          "shape": "linear",
          "width": 1.3
         },
         "mode": "lines",
         "name": "D",
         "text": "",
         "type": "scatter",
         "x": [
          0,
          1,
          2,
          3,
          4,
          5,
          6,
          7,
          8,
          9,
          10,
          11,
          12,
          13,
          14,
          15,
          16,
          17,
          18,
          19,
          20,
          21,
          22,
          23,
          24,
          25,
          26,
          27,
          28,
          29,
          30,
          31,
          32,
          33,
          34,
          35,
          36,
          37,
          38,
          39,
          40,
          41,
          42,
          43,
          44,
          45,
          46,
          47,
          48,
          49,
          50,
          51,
          52,
          53,
          54,
          55,
          56,
          57,
          58,
          59,
          60,
          61,
          62,
          63,
          64,
          65,
          66,
          67,
          68,
          69,
          70,
          71,
          72,
          73,
          74,
          75,
          76,
          77,
          78,
          79,
          80,
          81,
          82,
          83,
          84,
          85,
          86,
          87,
          88,
          89,
          90,
          91,
          92,
          93,
          94,
          95,
          96,
          97,
          98,
          99
         ],
         "y": [
          -2.2790909421013517,
          -0.222546500411642,
          -0.23120422777513736,
          -0.7558071244685779,
          -1.9545051035377046,
          1.2371831486844507,
          2.1151500157867034,
          -0.7051217697014962,
          -0.993933789393896,
          -1.4883759009619622,
          -1.4003872903287344,
          -0.2876793574619171,
          -0.435211524043705,
          -0.7368606325966581,
          0.9055461657263847,
          -0.32441877133204217,
          0.4672000863636143,
          2.0886530022422023,
          -1.1928908240573177,
          0.48825563715865117,
          0.536747708421974,
          -0.07867022767635494,
          -2.3673998128662674,
          0.37321634930825687,
          0.2709067223498474,
          0.49990873074816583,
          0.21430511003157549,
          -2.1930666252001014,
          0.043820975649190796,
          1.468869650333519,
          1.655875679349167,
          2.0820478487685516,
          -2.2829555105700785,
          -0.5670607073792552,
          0.07710614324628498,
          -1.0230722955283342,
          -1.2384801101149165,
          0.7135501227811383,
          0.6659674812491573,
          -0.46524590036437674,
          0.9699405909621481,
          0.054055933551372864,
          -0.9261157273259947,
          -0.12883025535201528,
          0.6438924324880508,
          -0.7661879402424319,
          0.3532098229119582,
          -2.203807975043007,
          1.7324469137142895,
          0.40536147716632204,
          1.1314942598158215,
          0.5933923650277938,
          -0.33189235977991266,
          -1.1913345319889899,
          0.6530454482788755,
          -0.4291142891674958,
          0.5724164094596423,
          -1.3171921539714326,
          1.0202548615092808,
          -0.07378697521780025,
          0.49548256216356595,
          -1.2180873944924657,
          -0.4502030844271496,
          1.861294866694436,
          -1.0408666863304359,
          -1.8125197640790816,
          1.1187660829228685,
          0.7666538461522473,
          -0.15094459950517244,
          -0.20836647092392463,
          -0.10087034968992667,
          -0.17966327969310314,
          -0.7907469600000173,
          0.15876128872367934,
          -0.7993801897754967,
          0.13068761744653126,
          -0.8553860144534923,
          0.5819432524113081,
          -0.9986667693081764,
          1.2941993874829798,
          -0.40794192472068314,
          0.06930635130279626,
          -0.8465038825067873,
          0.8798649517768914,
          -1.0849772548624197,
          -0.8358977511027874,
          -0.963381064901038,
          1.0483841839638575,
          -0.7202939947171816,
          0.747784777230978,
          -0.34190416450202893,
          1.2756630816436851,
          -0.8947203806717854,
          -0.7330562397060192,
          0.10251213112772598,
          0.14052110194283055,
          1.464775095515395,
          -0.26139523197931075,
          0.1933215272742001,
          0.09044829883695331
         ]
        }
       ],
       "layout": {
        "legend": {
         "bgcolor": "#F5F6F9",
         "font": {
          "color": "#4D5663"
         }
        },
        "paper_bgcolor": "#F5F6F9",
        "plot_bgcolor": "#F5F6F9",
        "template": {
         "data": {
          "bar": [
           {
            "error_x": {
             "color": "#2a3f5f"
            },
            "error_y": {
             "color": "#2a3f5f"
            },
            "marker": {
             "line": {
              "color": "#E5ECF6",
              "width": 0.5
             }
            },
            "type": "bar"
           }
          ],
          "barpolar": [
           {
            "marker": {
             "line": {
              "color": "#E5ECF6",
              "width": 0.5
             }
            },
            "type": "barpolar"
           }
          ],
          "carpet": [
           {
            "aaxis": {
             "endlinecolor": "#2a3f5f",
             "gridcolor": "white",
             "linecolor": "white",
             "minorgridcolor": "white",
             "startlinecolor": "#2a3f5f"
            },
            "baxis": {
             "endlinecolor": "#2a3f5f",
             "gridcolor": "white",
             "linecolor": "white",
             "minorgridcolor": "white",
             "startlinecolor": "#2a3f5f"
            },
            "type": "carpet"
           }
          ],
          "choropleth": [
           {
            "colorbar": {
             "outlinewidth": 0,
             "ticks": ""
            },
            "type": "choropleth"
           }
          ],
          "contour": [
           {
            "colorbar": {
             "outlinewidth": 0,
             "ticks": ""
            },
            "colorscale": [
             [
              0,
              "#0d0887"
             ],
             [
              0.1111111111111111,
              "#46039f"
             ],
             [
              0.2222222222222222,
              "#7201a8"
             ],
             [
              0.3333333333333333,
              "#9c179e"
             ],
             [
              0.4444444444444444,
              "#bd3786"
             ],
             [
              0.5555555555555556,
              "#d8576b"
             ],
             [
              0.6666666666666666,
              "#ed7953"
             ],
             [
              0.7777777777777778,
              "#fb9f3a"
             ],
             [
              0.8888888888888888,
              "#fdca26"
             ],
             [
              1,
              "#f0f921"
             ]
            ],
            "type": "contour"
           }
          ],
          "contourcarpet": [
           {
            "colorbar": {
             "outlinewidth": 0,
             "ticks": ""
            },
            "type": "contourcarpet"
           }
          ],
          "heatmap": [
           {
            "colorbar": {
             "outlinewidth": 0,
             "ticks": ""
            },
            "colorscale": [
             [
              0,
              "#0d0887"
             ],
             [
              0.1111111111111111,
              "#46039f"
             ],
             [
              0.2222222222222222,
              "#7201a8"
             ],
             [
              0.3333333333333333,
              "#9c179e"
             ],
             [
              0.4444444444444444,
              "#bd3786"
             ],
             [
              0.5555555555555556,
              "#d8576b"
             ],
             [
              0.6666666666666666,
              "#ed7953"
             ],
             [
              0.7777777777777778,
              "#fb9f3a"
             ],
             [
              0.8888888888888888,
              "#fdca26"
             ],
             [
              1,
              "#f0f921"
             ]
            ],
            "type": "heatmap"
           }
          ],
          "heatmapgl": [
           {
            "colorbar": {
             "outlinewidth": 0,
             "ticks": ""
            },
            "colorscale": [
             [
              0,
              "#0d0887"
             ],
             [
              0.1111111111111111,
              "#46039f"
             ],
             [
              0.2222222222222222,
              "#7201a8"
             ],
             [
              0.3333333333333333,
              "#9c179e"
             ],
             [
              0.4444444444444444,
              "#bd3786"
             ],
             [
              0.5555555555555556,
              "#d8576b"
             ],
             [
              0.6666666666666666,
              "#ed7953"
             ],
             [
              0.7777777777777778,
              "#fb9f3a"
             ],
             [
              0.8888888888888888,
              "#fdca26"
             ],
             [
              1,
              "#f0f921"
             ]
            ],
            "type": "heatmapgl"
           }
          ],
          "histogram": [
           {
            "marker": {
             "colorbar": {
              "outlinewidth": 0,
              "ticks": ""
             }
            },
            "type": "histogram"
           }
          ],
          "histogram2d": [
           {
            "colorbar": {
             "outlinewidth": 0,
             "ticks": ""
            },
            "colorscale": [
             [
              0,
              "#0d0887"
             ],
             [
              0.1111111111111111,
              "#46039f"
             ],
             [
              0.2222222222222222,
              "#7201a8"
             ],
             [
              0.3333333333333333,
              "#9c179e"
             ],
             [
              0.4444444444444444,
              "#bd3786"
             ],
             [
              0.5555555555555556,
              "#d8576b"
             ],
             [
              0.6666666666666666,
              "#ed7953"
             ],
             [
              0.7777777777777778,
              "#fb9f3a"
             ],
             [
              0.8888888888888888,
              "#fdca26"
             ],
             [
              1,
              "#f0f921"
             ]
            ],
            "type": "histogram2d"
           }
          ],
          "histogram2dcontour": [
           {
            "colorbar": {
             "outlinewidth": 0,
             "ticks": ""
            },
            "colorscale": [
             [
              0,
              "#0d0887"
             ],
             [
              0.1111111111111111,
              "#46039f"
             ],
             [
              0.2222222222222222,
              "#7201a8"
             ],
             [
              0.3333333333333333,
              "#9c179e"
             ],
             [
              0.4444444444444444,
              "#bd3786"
             ],
             [
              0.5555555555555556,
              "#d8576b"
             ],
             [
              0.6666666666666666,
              "#ed7953"
             ],
             [
              0.7777777777777778,
              "#fb9f3a"
             ],
             [
              0.8888888888888888,
              "#fdca26"
             ],
             [
              1,
              "#f0f921"
             ]
            ],
            "type": "histogram2dcontour"
           }
          ],
          "mesh3d": [
           {
            "colorbar": {
             "outlinewidth": 0,
             "ticks": ""
            },
            "type": "mesh3d"
           }
          ],
          "parcoords": [
           {
            "line": {
             "colorbar": {
              "outlinewidth": 0,
              "ticks": ""
             }
            },
            "type": "parcoords"
           }
          ],
          "pie": [
           {
            "automargin": true,
            "type": "pie"
           }
          ],
          "scatter": [
           {
            "marker": {
             "colorbar": {
              "outlinewidth": 0,
              "ticks": ""
             }
            },
            "type": "scatter"
           }
          ],
          "scatter3d": [
           {
            "line": {
             "colorbar": {
              "outlinewidth": 0,
              "ticks": ""
             }
            },
            "marker": {
             "colorbar": {
              "outlinewidth": 0,
              "ticks": ""
             }
            },
            "type": "scatter3d"
           }
          ],
          "scattercarpet": [
           {
            "marker": {
             "colorbar": {
              "outlinewidth": 0,
              "ticks": ""
             }
            },
            "type": "scattercarpet"
           }
          ],
          "scattergeo": [
           {
            "marker": {
             "colorbar": {
              "outlinewidth": 0,
              "ticks": ""
             }
            },
            "type": "scattergeo"
           }
          ],
          "scattergl": [
           {
            "marker": {
             "colorbar": {
              "outlinewidth": 0,
              "ticks": ""
             }
            },
            "type": "scattergl"
           }
          ],
          "scattermapbox": [
           {
            "marker": {
             "colorbar": {
              "outlinewidth": 0,
              "ticks": ""
             }
            },
            "type": "scattermapbox"
           }
          ],
          "scatterpolar": [
           {
            "marker": {
             "colorbar": {
              "outlinewidth": 0,
              "ticks": ""
             }
            },
            "type": "scatterpolar"
           }
          ],
          "scatterpolargl": [
           {
            "marker": {
             "colorbar": {
              "outlinewidth": 0,
              "ticks": ""
             }
            },
            "type": "scatterpolargl"
           }
          ],
          "scatterternary": [
           {
            "marker": {
             "colorbar": {
              "outlinewidth": 0,
              "ticks": ""
             }
            },
            "type": "scatterternary"
           }
          ],
          "surface": [
           {
            "colorbar": {
             "outlinewidth": 0,
             "ticks": ""
            },
            "colorscale": [
             [
              0,
              "#0d0887"
             ],
             [
              0.1111111111111111,
              "#46039f"
             ],
             [
              0.2222222222222222,
              "#7201a8"
             ],
             [
              0.3333333333333333,
              "#9c179e"
             ],
             [
              0.4444444444444444,
              "#bd3786"
             ],
             [
              0.5555555555555556,
              "#d8576b"
             ],
             [
              0.6666666666666666,
              "#ed7953"
             ],
             [
              0.7777777777777778,
              "#fb9f3a"
             ],
             [
              0.8888888888888888,
              "#fdca26"
             ],
             [
              1,
              "#f0f921"
             ]
            ],
            "type": "surface"
           }
          ],
          "table": [
           {
            "cells": {
             "fill": {
              "color": "#EBF0F8"
             },
             "line": {
              "color": "white"
             }
            },
            "header": {
             "fill": {
              "color": "#C8D4E3"
             },
             "line": {
              "color": "white"
             }
            },
            "type": "table"
           }
          ]
         },
         "layout": {
          "annotationdefaults": {
           "arrowcolor": "#2a3f5f",
           "arrowhead": 0,
           "arrowwidth": 1
          },
          "autotypenumbers": "strict",
          "coloraxis": {
           "colorbar": {
            "outlinewidth": 0,
            "ticks": ""
           }
          },
          "colorscale": {
           "diverging": [
            [
             0,
             "#8e0152"
            ],
            [
             0.1,
             "#c51b7d"
            ],
            [
             0.2,
             "#de77ae"
            ],
            [
             0.3,
             "#f1b6da"
            ],
            [
             0.4,
             "#fde0ef"
            ],
            [
             0.5,
             "#f7f7f7"
            ],
            [
             0.6,
             "#e6f5d0"
            ],
            [
             0.7,
             "#b8e186"
            ],
            [
             0.8,
             "#7fbc41"
            ],
            [
             0.9,
             "#4d9221"
            ],
            [
             1,
             "#276419"
            ]
           ],
           "sequential": [
            [
             0,
             "#0d0887"
            ],
            [
             0.1111111111111111,
             "#46039f"
            ],
            [
             0.2222222222222222,
             "#7201a8"
            ],
            [
             0.3333333333333333,
             "#9c179e"
            ],
            [
             0.4444444444444444,
             "#bd3786"
            ],
            [
             0.5555555555555556,
             "#d8576b"
            ],
            [
             0.6666666666666666,
             "#ed7953"
            ],
            [
             0.7777777777777778,
             "#fb9f3a"
            ],
            [
             0.8888888888888888,
             "#fdca26"
            ],
            [
             1,
             "#f0f921"
            ]
           ],
           "sequentialminus": [
            [
             0,
             "#0d0887"
            ],
            [
             0.1111111111111111,
             "#46039f"
            ],
            [
             0.2222222222222222,
             "#7201a8"
            ],
            [
             0.3333333333333333,
             "#9c179e"
            ],
            [
             0.4444444444444444,
             "#bd3786"
            ],
            [
             0.5555555555555556,
             "#d8576b"
            ],
            [
             0.6666666666666666,
             "#ed7953"
            ],
            [
             0.7777777777777778,
             "#fb9f3a"
            ],
            [
             0.8888888888888888,
             "#fdca26"
            ],
            [
             1,
             "#f0f921"
            ]
           ]
          },
          "colorway": [
           "#636efa",
           "#EF553B",
           "#00cc96",
           "#ab63fa",
           "#FFA15A",
           "#19d3f3",
           "#FF6692",
           "#B6E880",
           "#FF97FF",
           "#FECB52"
          ],
          "font": {
           "color": "#2a3f5f"
          },
          "geo": {
           "bgcolor": "white",
           "lakecolor": "white",
           "landcolor": "#E5ECF6",
           "showlakes": true,
           "showland": true,
           "subunitcolor": "white"
          },
          "hoverlabel": {
           "align": "left"
          },
          "hovermode": "closest",
          "mapbox": {
           "style": "light"
          },
          "paper_bgcolor": "white",
          "plot_bgcolor": "#E5ECF6",
          "polar": {
           "angularaxis": {
            "gridcolor": "white",
            "linecolor": "white",
            "ticks": ""
           },
           "bgcolor": "#E5ECF6",
           "radialaxis": {
            "gridcolor": "white",
            "linecolor": "white",
            "ticks": ""
           }
          },
          "scene": {
           "xaxis": {
            "backgroundcolor": "#E5ECF6",
            "gridcolor": "white",
            "gridwidth": 2,
            "linecolor": "white",
            "showbackground": true,
            "ticks": "",
            "zerolinecolor": "white"
           },
           "yaxis": {
            "backgroundcolor": "#E5ECF6",
            "gridcolor": "white",
            "gridwidth": 2,
            "linecolor": "white",
            "showbackground": true,
            "ticks": "",
            "zerolinecolor": "white"
           },
           "zaxis": {
            "backgroundcolor": "#E5ECF6",
            "gridcolor": "white",
            "gridwidth": 2,
            "linecolor": "white",
            "showbackground": true,
            "ticks": "",
            "zerolinecolor": "white"
           }
          },
          "shapedefaults": {
           "line": {
            "color": "#2a3f5f"
           }
          },
          "ternary": {
           "aaxis": {
            "gridcolor": "white",
            "linecolor": "white",
            "ticks": ""
           },
           "baxis": {
            "gridcolor": "white",
            "linecolor": "white",
            "ticks": ""
           },
           "bgcolor": "#E5ECF6",
           "caxis": {
            "gridcolor": "white",
            "linecolor": "white",
            "ticks": ""
           }
          },
          "title": {
           "x": 0.05
          },
          "xaxis": {
           "automargin": true,
           "gridcolor": "white",
           "linecolor": "white",
           "ticks": "",
           "title": {
            "standoff": 15
           },
           "zerolinecolor": "white",
           "zerolinewidth": 2
          },
          "yaxis": {
           "automargin": true,
           "gridcolor": "white",
           "linecolor": "white",
           "ticks": "",
           "title": {
            "standoff": 15
           },
           "zerolinecolor": "white",
           "zerolinewidth": 2
          }
         }
        },
        "title": {
         "font": {
          "color": "#4D5663"
         }
        },
        "xaxis": {
         "gridcolor": "#E1E5ED",
         "showgrid": true,
         "tickfont": {
          "color": "#4D5663"
         },
         "title": {
          "font": {
           "color": "#4D5663"
          },
          "text": ""
         },
         "zerolinecolor": "#E1E5ED"
        },
        "yaxis": {
         "gridcolor": "#E1E5ED",
         "showgrid": true,
         "tickfont": {
          "color": "#4D5663"
         },
         "title": {
          "font": {
           "color": "#4D5663"
          },
          "text": ""
         },
         "zerolinecolor": "#E1E5ED"
        }
       }
      },
      "text/html": [
       "<div>                            <div id=\"f7e165f2-561a-4de7-b626-7a6c7e248179\" class=\"plotly-graph-div\" style=\"height:525px; width:100%;\"></div>            <script type=\"text/javascript\">                require([\"plotly\"], function(Plotly) {                    window.PLOTLYENV=window.PLOTLYENV || {};\n",
       "                    window.PLOTLYENV.BASE_URL='https://plot.ly';                                    if (document.getElementById(\"f7e165f2-561a-4de7-b626-7a6c7e248179\")) {                    Plotly.newPlot(                        \"f7e165f2-561a-4de7-b626-7a6c7e248179\",                        [{\"line\": {\"color\": \"rgba(255, 153, 51, 1.0)\", \"dash\": \"solid\", \"shape\": \"linear\", \"width\": 1.3}, \"mode\": \"lines\", \"name\": \"A\", \"text\": \"\", \"type\": \"scatter\", \"x\": [0, 1, 2, 3, 4, 5, 6, 7, 8, 9, 10, 11, 12, 13, 14, 15, 16, 17, 18, 19, 20, 21, 22, 23, 24, 25, 26, 27, 28, 29, 30, 31, 32, 33, 34, 35, 36, 37, 38, 39, 40, 41, 42, 43, 44, 45, 46, 47, 48, 49, 50, 51, 52, 53, 54, 55, 56, 57, 58, 59, 60, 61, 62, 63, 64, 65, 66, 67, 68, 69, 70, 71, 72, 73, 74, 75, 76, 77, 78, 79, 80, 81, 82, 83, 84, 85, 86, 87, 88, 89, 90, 91, 92, 93, 94, 95, 96, 97, 98, 99], \"y\": [0.20661191534623324, -0.4610446625441009, 0.41404076765685266, 0.12821347046246326, -0.01358400372981374, -0.08937863519935071, 1.2019003773267596, 2.587379098013382, -0.876367374435099, -0.06708858065575127, -1.860781677455559, -0.007083843998639369, -0.5087397924601488, -0.7148935715875485, -0.486102756002156, -1.422162749451995, 1.106299160690784, 1.5781145646233357, -0.7922119556891072, -0.9366933399660091, 1.4464335256622187, 0.6445975968257018, -1.538728684518367, 0.34591334219766723, -0.06695497469254769, -0.7854575319838124, -0.19063385678899702, -1.0077802308039194, 1.1641939131089654, 0.3933932425324607, 0.6724062417349693, -0.3534774503633168, 0.4179585343789065, 1.2654624300189907, 0.3024835221461766, -0.560502103246814, -0.5435737964098641, 0.46902312155981146, -1.5071458886033147, 0.7862070791649816, -0.2504321639525721, 0.998433511927052, 0.18335456363231012, -2.204701421526611, 0.7660191801042198, 1.2981386104872434, -0.8130295986686382, 0.1926199223056493, -0.022994972639108578, -0.9147502391003633, -3.081779801850133, 2.1885651265483057, 0.35110681703189833, 0.07562106012288047, 1.2687395859135877, 0.3950192919754047, 0.5696479880232429, 0.14506503274253282, -0.10531256863901825, -2.5656696280083624, 0.44549997453953577, -1.4625071086769927, 0.11481422346672888, 0.6892168665381849, 0.8559157204775419, -0.8700767507183113, -0.8384027375555587, 0.3121159266088328, -1.394830968211032, 1.7544974492685588, 0.9278250322812287, 0.20109265335628046, -1.0375458595474587, -0.1401517540189485, 0.7814771608237634, 0.20315718496527627, 0.26493030231832276, -1.4653000115643395, -0.7105285000621676, 0.4575263501639446, 1.6082712347549057, -0.40317061230433215, 2.2652794725434036, 0.9504642538701966, 0.25628444355796115, 0.6182466914749498, -2.9274222203716325, -1.381083907423626, 0.920316174937108, -1.0542129081420748, -0.8357546756817875, 0.13291690593164276, -0.9534285876439937, 0.44339798516108414, 2.039346754718478, 0.6960488678087877, -1.6908592880087745, -0.7640913084347061, 0.4705330116393717, 0.31119212967301185]}, {\"line\": {\"color\": \"rgba(55, 128, 191, 1.0)\", \"dash\": \"solid\", \"shape\": \"linear\", \"width\": 1.3}, \"mode\": \"lines\", \"name\": \"B\", \"text\": \"\", \"type\": \"scatter\", \"x\": [0, 1, 2, 3, 4, 5, 6, 7, 8, 9, 10, 11, 12, 13, 14, 15, 16, 17, 18, 19, 20, 21, 22, 23, 24, 25, 26, 27, 28, 29, 30, 31, 32, 33, 34, 35, 36, 37, 38, 39, 40, 41, 42, 43, 44, 45, 46, 47, 48, 49, 50, 51, 52, 53, 54, 55, 56, 57, 58, 59, 60, 61, 62, 63, 64, 65, 66, 67, 68, 69, 70, 71, 72, 73, 74, 75, 76, 77, 78, 79, 80, 81, 82, 83, 84, 85, 86, 87, 88, 89, 90, 91, 92, 93, 94, 95, 96, 97, 98, 99], \"y\": [0.21566184463828011, -2.6448747170508, -0.7463939405566361, 0.15172718049086653, -0.7066546536254062, 1.799615280208897, 0.7349191170196748, -1.0476623593051504, 1.2710035398347894, -0.1978697980545318, 0.5473337457747002, -0.35492662884211057, -0.2511520904598244, 0.8027108747158334, 0.6225015585439599, 1.2514096898198, -1.287068474056987, 0.0006622518848594923, 0.282837650404236, -0.51849054255078, -0.27367452203721676, 0.5032868890407113, 1.524819290259009, -0.06532973445380441, -0.9994387170886119, 0.8690041086619215, 0.9097370415339991, -1.7139603249541469, 1.0035455893104557, 1.1141950141913526, -2.2752722781939694, -1.7603959881071014, -0.16109718837357848, -1.0095137168964665, 0.7377847732653243, -0.3978696381448754, 0.961660730533915, 0.3289430479815819, 1.532635068903488, 0.006418923666554409, -1.5818701361244483, 0.8141110455419436, -0.34134075687805376, 0.2454581009767703, -1.535233150550167, 0.8445204478725542, -0.3377734598789571, -0.05904159222291085, 0.27362706717972557, -0.9367086282388856, -0.09814057695752369, -1.3038993332366096, 0.13300067540249808, -0.18628288006693733, -0.7346842930995677, 0.4702563147651111, -0.5274248922508566, -1.6456472099635477, 0.3748971033143268, -1.7798236417744402, -1.0530893186668286, 0.8800239207988834, -0.3226388589453465, -0.10284077973840851, 0.31016786359017023, 0.030793909431710884, -0.9855311474822734, 1.366439480194007, 0.9684888489728021, -0.0993762454723041, 0.41570097448003795, -0.2781393461774353, 0.1073192576431352, -1.556312238107014, 2.2074147350585003, 0.005327221819468173, -0.31538717340607686, 0.5529249513938924, 0.07211257864795424, -0.19536211967476866, 0.10822840879372396, -2.363658152612146, 0.17000158684898461, 0.606587971630712, -1.5514615014532716, 0.8068957859375292, -0.4095444163985019, 0.8017569689670967, -0.9303854184850338, -0.06008466327821947, -0.7317227243202581, 0.7145023803111251, -1.1939141926815078, 0.39720804037128765, 0.5093170452739304, -0.14772795296538405, 1.2162674475960769, -0.12386024104153552, -0.6883717044761949, 0.2540575513764201]}, {\"line\": {\"color\": \"rgba(50, 171, 96, 1.0)\", \"dash\": \"solid\", \"shape\": \"linear\", \"width\": 1.3}, \"mode\": \"lines\", \"name\": \"C\", \"text\": \"\", \"type\": \"scatter\", \"x\": [0, 1, 2, 3, 4, 5, 6, 7, 8, 9, 10, 11, 12, 13, 14, 15, 16, 17, 18, 19, 20, 21, 22, 23, 24, 25, 26, 27, 28, 29, 30, 31, 32, 33, 34, 35, 36, 37, 38, 39, 40, 41, 42, 43, 44, 45, 46, 47, 48, 49, 50, 51, 52, 53, 54, 55, 56, 57, 58, 59, 60, 61, 62, 63, 64, 65, 66, 67, 68, 69, 70, 71, 72, 73, 74, 75, 76, 77, 78, 79, 80, 81, 82, 83, 84, 85, 86, 87, 88, 89, 90, 91, 92, 93, 94, 95, 96, 97, 98, 99], \"y\": [0.7910919640213182, 1.0731019457495816, 0.8931078393006489, -0.44640142782130965, -2.224636951310231, 1.6956153446479425, -0.2278764384041728, 0.4202460441688645, 0.6386324119378403, -0.5655249562118142, -1.0278752456765983, 0.38354384456892315, 0.07733080304916802, 0.11603423378589124, 0.15473633061671102, 0.40310167071457087, -1.0838558863385679, 0.4078048466085792, -0.6917163718104571, -0.10585385435206911, 0.6466289821701722, -0.40769870533338753, 0.5016383837486322, 0.06263991110967514, 0.03276029708113598, -1.7510804270193718, -0.04556865676236197, 1.3225693640035368, -1.002201356322981, -0.44127370986689, 0.14698009314072336, -0.41990052661562044, -1.9019338781033286, -0.7415575157868501, -1.030844782439815, -0.45801328040368977, 1.3064512549821476, 1.8853724477181313, 1.1268581137759113, 1.4318465392286932, 0.7957786906866531, -1.7659623845090977, -1.4618506012324128, -0.5308748850884522, 0.5191107816139195, 0.5013123655104066, -0.16250112882784334, 0.06044406282066855, -0.191009186659284, 0.8479886528854795, 0.5578431453647937, 0.021680883374815964, -0.8106368918117016, 0.10744409651797972, -0.264586526124944, -0.4088202537024965, 0.5066914928009179, -2.614194733920487, -1.637255880771564, -0.991981831170391, 0.9965956272273776, -0.9332536933278639, 1.5411521138876736, -0.1200188951632211, -0.8665478316178831, -1.472174673406913, 0.12393214691533123, 1.0316010487085723, 0.8328971264332271, 1.4723489491437043, 0.2653596291871583, -1.367212092643426, 0.6394243764926346, 1.3562131093456384, -0.5781329196495982, -2.4090156651730603, -1.6209881435562221, -0.8569101979831883, -1.1904282255033516, 0.3032625625783326, 1.0075807888913317, 1.0003145861154499, -0.09736549906292263, -0.771308865214996, 0.9879185150040704, -0.43975149138027714, 0.3787602524933764, -0.06860490251752274, -0.4928522954719433, -1.578800207706851, 0.07704662518026237, -0.28169050889359626, 0.05573638131155458, 0.6091905820920195, -1.1588727960937915, -0.7563123929151288, -0.5153282621899362, -0.784305651822452, -0.6043710982087123, -0.15158164235769545]}, {\"line\": {\"color\": \"rgba(128, 0, 128, 1.0)\", \"dash\": \"solid\", \"shape\": \"linear\", \"width\": 1.3}, \"mode\": \"lines\", \"name\": \"D\", \"text\": \"\", \"type\": \"scatter\", \"x\": [0, 1, 2, 3, 4, 5, 6, 7, 8, 9, 10, 11, 12, 13, 14, 15, 16, 17, 18, 19, 20, 21, 22, 23, 24, 25, 26, 27, 28, 29, 30, 31, 32, 33, 34, 35, 36, 37, 38, 39, 40, 41, 42, 43, 44, 45, 46, 47, 48, 49, 50, 51, 52, 53, 54, 55, 56, 57, 58, 59, 60, 61, 62, 63, 64, 65, 66, 67, 68, 69, 70, 71, 72, 73, 74, 75, 76, 77, 78, 79, 80, 81, 82, 83, 84, 85, 86, 87, 88, 89, 90, 91, 92, 93, 94, 95, 96, 97, 98, 99], \"y\": [-2.2790909421013517, -0.222546500411642, -0.23120422777513736, -0.7558071244685779, -1.9545051035377046, 1.2371831486844507, 2.1151500157867034, -0.7051217697014962, -0.993933789393896, -1.4883759009619622, -1.4003872903287344, -0.2876793574619171, -0.435211524043705, -0.7368606325966581, 0.9055461657263847, -0.32441877133204217, 0.4672000863636143, 2.0886530022422023, -1.1928908240573177, 0.48825563715865117, 0.536747708421974, -0.07867022767635494, -2.3673998128662674, 0.37321634930825687, 0.2709067223498474, 0.49990873074816583, 0.21430511003157549, -2.1930666252001014, 0.043820975649190796, 1.468869650333519, 1.655875679349167, 2.0820478487685516, -2.2829555105700785, -0.5670607073792552, 0.07710614324628498, -1.0230722955283342, -1.2384801101149165, 0.7135501227811383, 0.6659674812491573, -0.46524590036437674, 0.9699405909621481, 0.054055933551372864, -0.9261157273259947, -0.12883025535201528, 0.6438924324880508, -0.7661879402424319, 0.3532098229119582, -2.203807975043007, 1.7324469137142895, 0.40536147716632204, 1.1314942598158215, 0.5933923650277938, -0.33189235977991266, -1.1913345319889899, 0.6530454482788755, -0.4291142891674958, 0.5724164094596423, -1.3171921539714326, 1.0202548615092808, -0.07378697521780025, 0.49548256216356595, -1.2180873944924657, -0.4502030844271496, 1.861294866694436, -1.0408666863304359, -1.8125197640790816, 1.1187660829228685, 0.7666538461522473, -0.15094459950517244, -0.20836647092392463, -0.10087034968992667, -0.17966327969310314, -0.7907469600000173, 0.15876128872367934, -0.7993801897754967, 0.13068761744653126, -0.8553860144534923, 0.5819432524113081, -0.9986667693081764, 1.2941993874829798, -0.40794192472068314, 0.06930635130279626, -0.8465038825067873, 0.8798649517768914, -1.0849772548624197, -0.8358977511027874, -0.963381064901038, 1.0483841839638575, -0.7202939947171816, 0.747784777230978, -0.34190416450202893, 1.2756630816436851, -0.8947203806717854, -0.7330562397060192, 0.10251213112772598, 0.14052110194283055, 1.464775095515395, -0.26139523197931075, 0.1933215272742001, 0.09044829883695331]}],                        {\"legend\": {\"bgcolor\": \"#F5F6F9\", \"font\": {\"color\": \"#4D5663\"}}, \"paper_bgcolor\": \"#F5F6F9\", \"plot_bgcolor\": \"#F5F6F9\", \"template\": {\"data\": {\"bar\": [{\"error_x\": {\"color\": \"#2a3f5f\"}, \"error_y\": {\"color\": \"#2a3f5f\"}, \"marker\": {\"line\": {\"color\": \"#E5ECF6\", \"width\": 0.5}}, \"type\": \"bar\"}], \"barpolar\": [{\"marker\": {\"line\": {\"color\": \"#E5ECF6\", \"width\": 0.5}}, \"type\": \"barpolar\"}], \"carpet\": [{\"aaxis\": {\"endlinecolor\": \"#2a3f5f\", \"gridcolor\": \"white\", \"linecolor\": \"white\", \"minorgridcolor\": \"white\", \"startlinecolor\": \"#2a3f5f\"}, \"baxis\": {\"endlinecolor\": \"#2a3f5f\", \"gridcolor\": \"white\", \"linecolor\": \"white\", \"minorgridcolor\": \"white\", \"startlinecolor\": \"#2a3f5f\"}, \"type\": \"carpet\"}], \"choropleth\": [{\"colorbar\": {\"outlinewidth\": 0, \"ticks\": \"\"}, \"type\": \"choropleth\"}], \"contour\": [{\"colorbar\": {\"outlinewidth\": 0, \"ticks\": \"\"}, \"colorscale\": [[0.0, \"#0d0887\"], [0.1111111111111111, \"#46039f\"], [0.2222222222222222, \"#7201a8\"], [0.3333333333333333, \"#9c179e\"], [0.4444444444444444, \"#bd3786\"], [0.5555555555555556, \"#d8576b\"], [0.6666666666666666, \"#ed7953\"], [0.7777777777777778, \"#fb9f3a\"], [0.8888888888888888, \"#fdca26\"], [1.0, \"#f0f921\"]], \"type\": \"contour\"}], \"contourcarpet\": [{\"colorbar\": {\"outlinewidth\": 0, \"ticks\": \"\"}, \"type\": \"contourcarpet\"}], \"heatmap\": [{\"colorbar\": {\"outlinewidth\": 0, \"ticks\": \"\"}, \"colorscale\": [[0.0, \"#0d0887\"], [0.1111111111111111, \"#46039f\"], [0.2222222222222222, \"#7201a8\"], [0.3333333333333333, \"#9c179e\"], [0.4444444444444444, \"#bd3786\"], [0.5555555555555556, \"#d8576b\"], [0.6666666666666666, \"#ed7953\"], [0.7777777777777778, \"#fb9f3a\"], [0.8888888888888888, \"#fdca26\"], [1.0, \"#f0f921\"]], \"type\": \"heatmap\"}], \"heatmapgl\": [{\"colorbar\": {\"outlinewidth\": 0, \"ticks\": \"\"}, \"colorscale\": [[0.0, \"#0d0887\"], [0.1111111111111111, \"#46039f\"], [0.2222222222222222, \"#7201a8\"], [0.3333333333333333, \"#9c179e\"], [0.4444444444444444, \"#bd3786\"], [0.5555555555555556, \"#d8576b\"], [0.6666666666666666, \"#ed7953\"], [0.7777777777777778, \"#fb9f3a\"], [0.8888888888888888, \"#fdca26\"], [1.0, \"#f0f921\"]], \"type\": \"heatmapgl\"}], \"histogram\": [{\"marker\": {\"colorbar\": {\"outlinewidth\": 0, \"ticks\": \"\"}}, \"type\": \"histogram\"}], \"histogram2d\": [{\"colorbar\": {\"outlinewidth\": 0, \"ticks\": \"\"}, \"colorscale\": [[0.0, \"#0d0887\"], [0.1111111111111111, \"#46039f\"], [0.2222222222222222, \"#7201a8\"], [0.3333333333333333, \"#9c179e\"], [0.4444444444444444, \"#bd3786\"], [0.5555555555555556, \"#d8576b\"], [0.6666666666666666, \"#ed7953\"], [0.7777777777777778, \"#fb9f3a\"], [0.8888888888888888, \"#fdca26\"], [1.0, \"#f0f921\"]], \"type\": \"histogram2d\"}], \"histogram2dcontour\": [{\"colorbar\": {\"outlinewidth\": 0, \"ticks\": \"\"}, \"colorscale\": [[0.0, \"#0d0887\"], [0.1111111111111111, \"#46039f\"], [0.2222222222222222, \"#7201a8\"], [0.3333333333333333, \"#9c179e\"], [0.4444444444444444, \"#bd3786\"], [0.5555555555555556, \"#d8576b\"], [0.6666666666666666, \"#ed7953\"], [0.7777777777777778, \"#fb9f3a\"], [0.8888888888888888, \"#fdca26\"], [1.0, \"#f0f921\"]], \"type\": \"histogram2dcontour\"}], \"mesh3d\": [{\"colorbar\": {\"outlinewidth\": 0, \"ticks\": \"\"}, \"type\": \"mesh3d\"}], \"parcoords\": [{\"line\": {\"colorbar\": {\"outlinewidth\": 0, \"ticks\": \"\"}}, \"type\": \"parcoords\"}], \"pie\": [{\"automargin\": true, \"type\": \"pie\"}], \"scatter\": [{\"marker\": {\"colorbar\": {\"outlinewidth\": 0, \"ticks\": \"\"}}, \"type\": \"scatter\"}], \"scatter3d\": [{\"line\": {\"colorbar\": {\"outlinewidth\": 0, \"ticks\": \"\"}}, \"marker\": {\"colorbar\": {\"outlinewidth\": 0, \"ticks\": \"\"}}, \"type\": \"scatter3d\"}], \"scattercarpet\": [{\"marker\": {\"colorbar\": {\"outlinewidth\": 0, \"ticks\": \"\"}}, \"type\": \"scattercarpet\"}], \"scattergeo\": [{\"marker\": {\"colorbar\": {\"outlinewidth\": 0, \"ticks\": \"\"}}, \"type\": \"scattergeo\"}], \"scattergl\": [{\"marker\": {\"colorbar\": {\"outlinewidth\": 0, \"ticks\": \"\"}}, \"type\": \"scattergl\"}], \"scattermapbox\": [{\"marker\": {\"colorbar\": {\"outlinewidth\": 0, \"ticks\": \"\"}}, \"type\": \"scattermapbox\"}], \"scatterpolar\": [{\"marker\": {\"colorbar\": {\"outlinewidth\": 0, \"ticks\": \"\"}}, \"type\": \"scatterpolar\"}], \"scatterpolargl\": [{\"marker\": {\"colorbar\": {\"outlinewidth\": 0, \"ticks\": \"\"}}, \"type\": \"scatterpolargl\"}], \"scatterternary\": [{\"marker\": {\"colorbar\": {\"outlinewidth\": 0, \"ticks\": \"\"}}, \"type\": \"scatterternary\"}], \"surface\": [{\"colorbar\": {\"outlinewidth\": 0, \"ticks\": \"\"}, \"colorscale\": [[0.0, \"#0d0887\"], [0.1111111111111111, \"#46039f\"], [0.2222222222222222, \"#7201a8\"], [0.3333333333333333, \"#9c179e\"], [0.4444444444444444, \"#bd3786\"], [0.5555555555555556, \"#d8576b\"], [0.6666666666666666, \"#ed7953\"], [0.7777777777777778, \"#fb9f3a\"], [0.8888888888888888, \"#fdca26\"], [1.0, \"#f0f921\"]], \"type\": \"surface\"}], \"table\": [{\"cells\": {\"fill\": {\"color\": \"#EBF0F8\"}, \"line\": {\"color\": \"white\"}}, \"header\": {\"fill\": {\"color\": \"#C8D4E3\"}, \"line\": {\"color\": \"white\"}}, \"type\": \"table\"}]}, \"layout\": {\"annotationdefaults\": {\"arrowcolor\": \"#2a3f5f\", \"arrowhead\": 0, \"arrowwidth\": 1}, \"autotypenumbers\": \"strict\", \"coloraxis\": {\"colorbar\": {\"outlinewidth\": 0, \"ticks\": \"\"}}, \"colorscale\": {\"diverging\": [[0, \"#8e0152\"], [0.1, \"#c51b7d\"], [0.2, \"#de77ae\"], [0.3, \"#f1b6da\"], [0.4, \"#fde0ef\"], [0.5, \"#f7f7f7\"], [0.6, \"#e6f5d0\"], [0.7, \"#b8e186\"], [0.8, \"#7fbc41\"], [0.9, \"#4d9221\"], [1, \"#276419\"]], \"sequential\": [[0.0, \"#0d0887\"], [0.1111111111111111, \"#46039f\"], [0.2222222222222222, \"#7201a8\"], [0.3333333333333333, \"#9c179e\"], [0.4444444444444444, \"#bd3786\"], [0.5555555555555556, \"#d8576b\"], [0.6666666666666666, \"#ed7953\"], [0.7777777777777778, \"#fb9f3a\"], [0.8888888888888888, \"#fdca26\"], [1.0, \"#f0f921\"]], \"sequentialminus\": [[0.0, \"#0d0887\"], [0.1111111111111111, \"#46039f\"], [0.2222222222222222, \"#7201a8\"], [0.3333333333333333, \"#9c179e\"], [0.4444444444444444, \"#bd3786\"], [0.5555555555555556, \"#d8576b\"], [0.6666666666666666, \"#ed7953\"], [0.7777777777777778, \"#fb9f3a\"], [0.8888888888888888, \"#fdca26\"], [1.0, \"#f0f921\"]]}, \"colorway\": [\"#636efa\", \"#EF553B\", \"#00cc96\", \"#ab63fa\", \"#FFA15A\", \"#19d3f3\", \"#FF6692\", \"#B6E880\", \"#FF97FF\", \"#FECB52\"], \"font\": {\"color\": \"#2a3f5f\"}, \"geo\": {\"bgcolor\": \"white\", \"lakecolor\": \"white\", \"landcolor\": \"#E5ECF6\", \"showlakes\": true, \"showland\": true, \"subunitcolor\": \"white\"}, \"hoverlabel\": {\"align\": \"left\"}, \"hovermode\": \"closest\", \"mapbox\": {\"style\": \"light\"}, \"paper_bgcolor\": \"white\", \"plot_bgcolor\": \"#E5ECF6\", \"polar\": {\"angularaxis\": {\"gridcolor\": \"white\", \"linecolor\": \"white\", \"ticks\": \"\"}, \"bgcolor\": \"#E5ECF6\", \"radialaxis\": {\"gridcolor\": \"white\", \"linecolor\": \"white\", \"ticks\": \"\"}}, \"scene\": {\"xaxis\": {\"backgroundcolor\": \"#E5ECF6\", \"gridcolor\": \"white\", \"gridwidth\": 2, \"linecolor\": \"white\", \"showbackground\": true, \"ticks\": \"\", \"zerolinecolor\": \"white\"}, \"yaxis\": {\"backgroundcolor\": \"#E5ECF6\", \"gridcolor\": \"white\", \"gridwidth\": 2, \"linecolor\": \"white\", \"showbackground\": true, \"ticks\": \"\", \"zerolinecolor\": \"white\"}, \"zaxis\": {\"backgroundcolor\": \"#E5ECF6\", \"gridcolor\": \"white\", \"gridwidth\": 2, \"linecolor\": \"white\", \"showbackground\": true, \"ticks\": \"\", \"zerolinecolor\": \"white\"}}, \"shapedefaults\": {\"line\": {\"color\": \"#2a3f5f\"}}, \"ternary\": {\"aaxis\": {\"gridcolor\": \"white\", \"linecolor\": \"white\", \"ticks\": \"\"}, \"baxis\": {\"gridcolor\": \"white\", \"linecolor\": \"white\", \"ticks\": \"\"}, \"bgcolor\": \"#E5ECF6\", \"caxis\": {\"gridcolor\": \"white\", \"linecolor\": \"white\", \"ticks\": \"\"}}, \"title\": {\"x\": 0.05}, \"xaxis\": {\"automargin\": true, \"gridcolor\": \"white\", \"linecolor\": \"white\", \"ticks\": \"\", \"title\": {\"standoff\": 15}, \"zerolinecolor\": \"white\", \"zerolinewidth\": 2}, \"yaxis\": {\"automargin\": true, \"gridcolor\": \"white\", \"linecolor\": \"white\", \"ticks\": \"\", \"title\": {\"standoff\": 15}, \"zerolinecolor\": \"white\", \"zerolinewidth\": 2}}}, \"title\": {\"font\": {\"color\": \"#4D5663\"}}, \"xaxis\": {\"gridcolor\": \"#E1E5ED\", \"showgrid\": true, \"tickfont\": {\"color\": \"#4D5663\"}, \"title\": {\"font\": {\"color\": \"#4D5663\"}, \"text\": \"\"}, \"zerolinecolor\": \"#E1E5ED\"}, \"yaxis\": {\"gridcolor\": \"#E1E5ED\", \"showgrid\": true, \"tickfont\": {\"color\": \"#4D5663\"}, \"title\": {\"font\": {\"color\": \"#4D5663\"}, \"text\": \"\"}, \"zerolinecolor\": \"#E1E5ED\"}},                        {\"showLink\": true, \"linkText\": \"Export to plot.ly\", \"plotlyServerURL\": \"https://plot.ly\", \"responsive\": true}                    ).then(function(){\n",
       "                            \n",
       "var gd = document.getElementById('f7e165f2-561a-4de7-b626-7a6c7e248179');\n",
       "var x = new MutationObserver(function (mutations, observer) {{\n",
       "        var display = window.getComputedStyle(gd).display;\n",
       "        if (!display || display === 'none') {{\n",
       "            console.log([gd, 'removed!']);\n",
       "            Plotly.purge(gd);\n",
       "            observer.disconnect();\n",
       "        }}\n",
       "}});\n",
       "\n",
       "// Listen for the removal of the full notebook cells\n",
       "var notebookContainer = gd.closest('#notebook-container');\n",
       "if (notebookContainer) {{\n",
       "    x.observe(notebookContainer, {childList: true});\n",
       "}}\n",
       "\n",
       "// Listen for the clearing of the current output cell\n",
       "var outputEl = gd.closest('.output');\n",
       "if (outputEl) {{\n",
       "    x.observe(outputEl, {childList: true});\n",
       "}}\n",
       "\n",
       "                        })                };                });            </script>        </div>"
      ]
     },
     "metadata": {},
     "output_type": "display_data"
    }
   ],
   "source": [
    "df.iplot()"
   ]
  },
  {
   "cell_type": "code",
   "execution_count": 91,
   "metadata": {},
   "outputs": [
    {
     "data": {
      "application/vnd.plotly.v1+json": {
       "config": {
        "linkText": "Export to plot.ly",
        "plotlyServerURL": "https://plot.ly",
        "showLink": true
       },
       "data": [
        {
         "colorscale": [
          [
           0,
           "rgb(255, 153, 51)"
          ],
          [
           0.1111111111111111,
           "rgb(55, 128, 191)"
          ],
          [
           0.2222222222222222,
           "rgb(50, 171, 96)"
          ],
          [
           0.3333333333333333,
           "rgb(128, 0, 128)"
          ],
          [
           0.4444444444444444,
           "rgb(219, 64, 82)"
          ],
          [
           0.5555555555555556,
           "rgb(0, 128, 128)"
          ],
          [
           0.6666666666666666,
           "rgb(255, 255, 51)"
          ],
          [
           0.7777777777777778,
           "rgb(128, 128, 0)"
          ],
          [
           0.8888888888888888,
           "rgb(251, 128, 114)"
          ],
          [
           1,
           "rgb(128, 177, 211)"
          ]
         ],
         "type": "surface",
         "x": [
          0.20661191534623324,
          -0.4610446625441009,
          0.41404076765685266,
          0.12821347046246326,
          -0.01358400372981374,
          -0.08937863519935071,
          1.2019003773267596,
          2.587379098013382,
          -0.876367374435099,
          -0.06708858065575127,
          -1.860781677455559,
          -0.007083843998639369,
          -0.5087397924601488,
          -0.7148935715875485,
          -0.486102756002156,
          -1.422162749451995,
          1.106299160690784,
          1.5781145646233357,
          -0.7922119556891072,
          -0.9366933399660091,
          1.4464335256622187,
          0.6445975968257018,
          -1.538728684518367,
          0.34591334219766723,
          -0.06695497469254769,
          -0.7854575319838124,
          -0.19063385678899702,
          -1.0077802308039194,
          1.1641939131089654,
          0.3933932425324607,
          0.6724062417349693,
          -0.3534774503633168,
          0.4179585343789065,
          1.2654624300189907,
          0.3024835221461766,
          -0.560502103246814,
          -0.5435737964098641,
          0.46902312155981146,
          -1.5071458886033147,
          0.7862070791649816,
          -0.2504321639525721,
          0.998433511927052,
          0.18335456363231012,
          -2.204701421526611,
          0.7660191801042198,
          1.2981386104872434,
          -0.8130295986686382,
          0.1926199223056493,
          -0.022994972639108578,
          -0.9147502391003633,
          -3.081779801850133,
          2.1885651265483057,
          0.35110681703189833,
          0.07562106012288047,
          1.2687395859135877,
          0.3950192919754047,
          0.5696479880232429,
          0.14506503274253282,
          -0.10531256863901825,
          -2.5656696280083624,
          0.44549997453953577,
          -1.4625071086769927,
          0.11481422346672888,
          0.6892168665381849,
          0.8559157204775419,
          -0.8700767507183113,
          -0.8384027375555587,
          0.3121159266088328,
          -1.394830968211032,
          1.7544974492685588,
          0.9278250322812287,
          0.20109265335628046,
          -1.0375458595474587,
          -0.1401517540189485,
          0.7814771608237634,
          0.20315718496527627,
          0.26493030231832276,
          -1.4653000115643395,
          -0.7105285000621676,
          0.4575263501639446,
          1.6082712347549057,
          -0.40317061230433215,
          2.2652794725434036,
          0.9504642538701966,
          0.25628444355796115,
          0.6182466914749498,
          -2.9274222203716325,
          -1.381083907423626,
          0.920316174937108,
          -1.0542129081420748,
          -0.8357546756817875,
          0.13291690593164276,
          -0.9534285876439937,
          0.44339798516108414,
          2.039346754718478,
          0.6960488678087877,
          -1.6908592880087745,
          -0.7640913084347061,
          0.4705330116393717,
          0.31119212967301185
         ],
         "y": [
          0.21566184463828011,
          -2.6448747170508,
          -0.7463939405566361,
          0.15172718049086653,
          -0.7066546536254062,
          1.799615280208897,
          0.7349191170196748,
          -1.0476623593051504,
          1.2710035398347894,
          -0.1978697980545318,
          0.5473337457747002,
          -0.35492662884211057,
          -0.2511520904598244,
          0.8027108747158334,
          0.6225015585439599,
          1.2514096898198,
          -1.287068474056987,
          0.0006622518848594923,
          0.282837650404236,
          -0.51849054255078,
          -0.27367452203721676,
          0.5032868890407113,
          1.524819290259009,
          -0.06532973445380441,
          -0.9994387170886119,
          0.8690041086619215,
          0.9097370415339991,
          -1.7139603249541469,
          1.0035455893104557,
          1.1141950141913526,
          -2.2752722781939694,
          -1.7603959881071014,
          -0.16109718837357848,
          -1.0095137168964665,
          0.7377847732653243,
          -0.3978696381448754,
          0.961660730533915,
          0.3289430479815819,
          1.532635068903488,
          0.006418923666554409,
          -1.5818701361244483,
          0.8141110455419436,
          -0.34134075687805376,
          0.2454581009767703,
          -1.535233150550167,
          0.8445204478725542,
          -0.3377734598789571,
          -0.05904159222291085,
          0.27362706717972557,
          -0.9367086282388856,
          -0.09814057695752369,
          -1.3038993332366096,
          0.13300067540249808,
          -0.18628288006693733,
          -0.7346842930995677,
          0.4702563147651111,
          -0.5274248922508566,
          -1.6456472099635477,
          0.3748971033143268,
          -1.7798236417744402,
          -1.0530893186668286,
          0.8800239207988834,
          -0.3226388589453465,
          -0.10284077973840851,
          0.31016786359017023,
          0.030793909431710884,
          -0.9855311474822734,
          1.366439480194007,
          0.9684888489728021,
          -0.0993762454723041,
          0.41570097448003795,
          -0.2781393461774353,
          0.1073192576431352,
          -1.556312238107014,
          2.2074147350585003,
          0.005327221819468173,
          -0.31538717340607686,
          0.5529249513938924,
          0.07211257864795424,
          -0.19536211967476866,
          0.10822840879372396,
          -2.363658152612146,
          0.17000158684898461,
          0.606587971630712,
          -1.5514615014532716,
          0.8068957859375292,
          -0.4095444163985019,
          0.8017569689670967,
          -0.9303854184850338,
          -0.06008466327821947,
          -0.7317227243202581,
          0.7145023803111251,
          -1.1939141926815078,
          0.39720804037128765,
          0.5093170452739304,
          -0.14772795296538405,
          1.2162674475960769,
          -0.12386024104153552,
          -0.6883717044761949,
          0.2540575513764201
         ],
         "z": [
          [
           0.20661191534623324,
           -0.4610446625441009,
           0.41404076765685266,
           0.12821347046246326,
           -0.01358400372981374,
           -0.08937863519935071,
           1.2019003773267596,
           2.587379098013382,
           -0.876367374435099,
           -0.06708858065575127,
           -1.860781677455559,
           -0.007083843998639369,
           -0.5087397924601488,
           -0.7148935715875485,
           -0.486102756002156,
           -1.422162749451995,
           1.106299160690784,
           1.5781145646233357,
           -0.7922119556891072,
           -0.9366933399660091,
           1.4464335256622187,
           0.6445975968257018,
           -1.538728684518367,
           0.34591334219766723,
           -0.06695497469254769,
           -0.7854575319838124,
           -0.19063385678899702,
           -1.0077802308039194,
           1.1641939131089654,
           0.3933932425324607,
           0.6724062417349693,
           -0.3534774503633168,
           0.4179585343789065,
           1.2654624300189907,
           0.3024835221461766,
           -0.560502103246814,
           -0.5435737964098641,
           0.46902312155981146,
           -1.5071458886033147,
           0.7862070791649816,
           -0.2504321639525721,
           0.998433511927052,
           0.18335456363231012,
           -2.204701421526611,
           0.7660191801042198,
           1.2981386104872434,
           -0.8130295986686382,
           0.1926199223056493,
           -0.022994972639108578,
           -0.9147502391003633,
           -3.081779801850133,
           2.1885651265483057,
           0.35110681703189833,
           0.07562106012288047,
           1.2687395859135877,
           0.3950192919754047,
           0.5696479880232429,
           0.14506503274253282,
           -0.10531256863901825,
           -2.5656696280083624,
           0.44549997453953577,
           -1.4625071086769927,
           0.11481422346672888,
           0.6892168665381849,
           0.8559157204775419,
           -0.8700767507183113,
           -0.8384027375555587,
           0.3121159266088328,
           -1.394830968211032,
           1.7544974492685588,
           0.9278250322812287,
           0.20109265335628046,
           -1.0375458595474587,
           -0.1401517540189485,
           0.7814771608237634,
           0.20315718496527627,
           0.26493030231832276,
           -1.4653000115643395,
           -0.7105285000621676,
           0.4575263501639446,
           1.6082712347549057,
           -0.40317061230433215,
           2.2652794725434036,
           0.9504642538701966,
           0.25628444355796115,
           0.6182466914749498,
           -2.9274222203716325,
           -1.381083907423626,
           0.920316174937108,
           -1.0542129081420748,
           -0.8357546756817875,
           0.13291690593164276,
           -0.9534285876439937,
           0.44339798516108414,
           2.039346754718478,
           0.6960488678087877,
           -1.6908592880087745,
           -0.7640913084347061,
           0.4705330116393717,
           0.31119212967301185
          ],
          [
           0.21566184463828011,
           -2.6448747170508,
           -0.7463939405566361,
           0.15172718049086653,
           -0.7066546536254062,
           1.799615280208897,
           0.7349191170196748,
           -1.0476623593051504,
           1.2710035398347894,
           -0.1978697980545318,
           0.5473337457747002,
           -0.35492662884211057,
           -0.2511520904598244,
           0.8027108747158334,
           0.6225015585439599,
           1.2514096898198,
           -1.287068474056987,
           0.0006622518848594923,
           0.282837650404236,
           -0.51849054255078,
           -0.27367452203721676,
           0.5032868890407113,
           1.524819290259009,
           -0.06532973445380441,
           -0.9994387170886119,
           0.8690041086619215,
           0.9097370415339991,
           -1.7139603249541469,
           1.0035455893104557,
           1.1141950141913526,
           -2.2752722781939694,
           -1.7603959881071014,
           -0.16109718837357848,
           -1.0095137168964665,
           0.7377847732653243,
           -0.3978696381448754,
           0.961660730533915,
           0.3289430479815819,
           1.532635068903488,
           0.006418923666554409,
           -1.5818701361244483,
           0.8141110455419436,
           -0.34134075687805376,
           0.2454581009767703,
           -1.535233150550167,
           0.8445204478725542,
           -0.3377734598789571,
           -0.05904159222291085,
           0.27362706717972557,
           -0.9367086282388856,
           -0.09814057695752369,
           -1.3038993332366096,
           0.13300067540249808,
           -0.18628288006693733,
           -0.7346842930995677,
           0.4702563147651111,
           -0.5274248922508566,
           -1.6456472099635477,
           0.3748971033143268,
           -1.7798236417744402,
           -1.0530893186668286,
           0.8800239207988834,
           -0.3226388589453465,
           -0.10284077973840851,
           0.31016786359017023,
           0.030793909431710884,
           -0.9855311474822734,
           1.366439480194007,
           0.9684888489728021,
           -0.0993762454723041,
           0.41570097448003795,
           -0.2781393461774353,
           0.1073192576431352,
           -1.556312238107014,
           2.2074147350585003,
           0.005327221819468173,
           -0.31538717340607686,
           0.5529249513938924,
           0.07211257864795424,
           -0.19536211967476866,
           0.10822840879372396,
           -2.363658152612146,
           0.17000158684898461,
           0.606587971630712,
           -1.5514615014532716,
           0.8068957859375292,
           -0.4095444163985019,
           0.8017569689670967,
           -0.9303854184850338,
           -0.06008466327821947,
           -0.7317227243202581,
           0.7145023803111251,
           -1.1939141926815078,
           0.39720804037128765,
           0.5093170452739304,
           -0.14772795296538405,
           1.2162674475960769,
           -0.12386024104153552,
           -0.6883717044761949,
           0.2540575513764201
          ],
          [
           0.7910919640213182,
           1.0731019457495816,
           0.8931078393006489,
           -0.44640142782130965,
           -2.224636951310231,
           1.6956153446479425,
           -0.2278764384041728,
           0.4202460441688645,
           0.6386324119378403,
           -0.5655249562118142,
           -1.0278752456765983,
           0.38354384456892315,
           0.07733080304916802,
           0.11603423378589124,
           0.15473633061671102,
           0.40310167071457087,
           -1.0838558863385679,
           0.4078048466085792,
           -0.6917163718104571,
           -0.10585385435206911,
           0.6466289821701722,
           -0.40769870533338753,
           0.5016383837486322,
           0.06263991110967514,
           0.03276029708113598,
           -1.7510804270193718,
           -0.04556865676236197,
           1.3225693640035368,
           -1.002201356322981,
           -0.44127370986689,
           0.14698009314072336,
           -0.41990052661562044,
           -1.9019338781033286,
           -0.7415575157868501,
           -1.030844782439815,
           -0.45801328040368977,
           1.3064512549821476,
           1.8853724477181313,
           1.1268581137759113,
           1.4318465392286932,
           0.7957786906866531,
           -1.7659623845090977,
           -1.4618506012324128,
           -0.5308748850884522,
           0.5191107816139195,
           0.5013123655104066,
           -0.16250112882784334,
           0.06044406282066855,
           -0.191009186659284,
           0.8479886528854795,
           0.5578431453647937,
           0.021680883374815964,
           -0.8106368918117016,
           0.10744409651797972,
           -0.264586526124944,
           -0.4088202537024965,
           0.5066914928009179,
           -2.614194733920487,
           -1.637255880771564,
           -0.991981831170391,
           0.9965956272273776,
           -0.9332536933278639,
           1.5411521138876736,
           -0.1200188951632211,
           -0.8665478316178831,
           -1.472174673406913,
           0.12393214691533123,
           1.0316010487085723,
           0.8328971264332271,
           1.4723489491437043,
           0.2653596291871583,
           -1.367212092643426,
           0.6394243764926346,
           1.3562131093456384,
           -0.5781329196495982,
           -2.4090156651730603,
           -1.6209881435562221,
           -0.8569101979831883,
           -1.1904282255033516,
           0.3032625625783326,
           1.0075807888913317,
           1.0003145861154499,
           -0.09736549906292263,
           -0.771308865214996,
           0.9879185150040704,
           -0.43975149138027714,
           0.3787602524933764,
           -0.06860490251752274,
           -0.4928522954719433,
           -1.578800207706851,
           0.07704662518026237,
           -0.28169050889359626,
           0.05573638131155458,
           0.6091905820920195,
           -1.1588727960937915,
           -0.7563123929151288,
           -0.5153282621899362,
           -0.784305651822452,
           -0.6043710982087123,
           -0.15158164235769545
          ],
          [
           -2.2790909421013517,
           -0.222546500411642,
           -0.23120422777513736,
           -0.7558071244685779,
           -1.9545051035377046,
           1.2371831486844507,
           2.1151500157867034,
           -0.7051217697014962,
           -0.993933789393896,
           -1.4883759009619622,
           -1.4003872903287344,
           -0.2876793574619171,
           -0.435211524043705,
           -0.7368606325966581,
           0.9055461657263847,
           -0.32441877133204217,
           0.4672000863636143,
           2.0886530022422023,
           -1.1928908240573177,
           0.48825563715865117,
           0.536747708421974,
           -0.07867022767635494,
           -2.3673998128662674,
           0.37321634930825687,
           0.2709067223498474,
           0.49990873074816583,
           0.21430511003157549,
           -2.1930666252001014,
           0.043820975649190796,
           1.468869650333519,
           1.655875679349167,
           2.0820478487685516,
           -2.2829555105700785,
           -0.5670607073792552,
           0.07710614324628498,
           -1.0230722955283342,
           -1.2384801101149165,
           0.7135501227811383,
           0.6659674812491573,
           -0.46524590036437674,
           0.9699405909621481,
           0.054055933551372864,
           -0.9261157273259947,
           -0.12883025535201528,
           0.6438924324880508,
           -0.7661879402424319,
           0.3532098229119582,
           -2.203807975043007,
           1.7324469137142895,
           0.40536147716632204,
           1.1314942598158215,
           0.5933923650277938,
           -0.33189235977991266,
           -1.1913345319889899,
           0.6530454482788755,
           -0.4291142891674958,
           0.5724164094596423,
           -1.3171921539714326,
           1.0202548615092808,
           -0.07378697521780025,
           0.49548256216356595,
           -1.2180873944924657,
           -0.4502030844271496,
           1.861294866694436,
           -1.0408666863304359,
           -1.8125197640790816,
           1.1187660829228685,
           0.7666538461522473,
           -0.15094459950517244,
           -0.20836647092392463,
           -0.10087034968992667,
           -0.17966327969310314,
           -0.7907469600000173,
           0.15876128872367934,
           -0.7993801897754967,
           0.13068761744653126,
           -0.8553860144534923,
           0.5819432524113081,
           -0.9986667693081764,
           1.2941993874829798,
           -0.40794192472068314,
           0.06930635130279626,
           -0.8465038825067873,
           0.8798649517768914,
           -1.0849772548624197,
           -0.8358977511027874,
           -0.963381064901038,
           1.0483841839638575,
           -0.7202939947171816,
           0.747784777230978,
           -0.34190416450202893,
           1.2756630816436851,
           -0.8947203806717854,
           -0.7330562397060192,
           0.10251213112772598,
           0.14052110194283055,
           1.464775095515395,
           -0.26139523197931075,
           0.1933215272742001,
           0.09044829883695331
          ]
         ]
        }
       ],
       "layout": {
        "legend": {
         "bgcolor": "#F5F6F9",
         "font": {
          "color": "#4D5663"
         }
        },
        "paper_bgcolor": "#F5F6F9",
        "plot_bgcolor": "#F5F6F9",
        "template": {
         "data": {
          "bar": [
           {
            "error_x": {
             "color": "#2a3f5f"
            },
            "error_y": {
             "color": "#2a3f5f"
            },
            "marker": {
             "line": {
              "color": "#E5ECF6",
              "width": 0.5
             }
            },
            "type": "bar"
           }
          ],
          "barpolar": [
           {
            "marker": {
             "line": {
              "color": "#E5ECF6",
              "width": 0.5
             }
            },
            "type": "barpolar"
           }
          ],
          "carpet": [
           {
            "aaxis": {
             "endlinecolor": "#2a3f5f",
             "gridcolor": "white",
             "linecolor": "white",
             "minorgridcolor": "white",
             "startlinecolor": "#2a3f5f"
            },
            "baxis": {
             "endlinecolor": "#2a3f5f",
             "gridcolor": "white",
             "linecolor": "white",
             "minorgridcolor": "white",
             "startlinecolor": "#2a3f5f"
            },
            "type": "carpet"
           }
          ],
          "choropleth": [
           {
            "colorbar": {
             "outlinewidth": 0,
             "ticks": ""
            },
            "type": "choropleth"
           }
          ],
          "contour": [
           {
            "colorbar": {
             "outlinewidth": 0,
             "ticks": ""
            },
            "colorscale": [
             [
              0,
              "#0d0887"
             ],
             [
              0.1111111111111111,
              "#46039f"
             ],
             [
              0.2222222222222222,
              "#7201a8"
             ],
             [
              0.3333333333333333,
              "#9c179e"
             ],
             [
              0.4444444444444444,
              "#bd3786"
             ],
             [
              0.5555555555555556,
              "#d8576b"
             ],
             [
              0.6666666666666666,
              "#ed7953"
             ],
             [
              0.7777777777777778,
              "#fb9f3a"
             ],
             [
              0.8888888888888888,
              "#fdca26"
             ],
             [
              1,
              "#f0f921"
             ]
            ],
            "type": "contour"
           }
          ],
          "contourcarpet": [
           {
            "colorbar": {
             "outlinewidth": 0,
             "ticks": ""
            },
            "type": "contourcarpet"
           }
          ],
          "heatmap": [
           {
            "colorbar": {
             "outlinewidth": 0,
             "ticks": ""
            },
            "colorscale": [
             [
              0,
              "#0d0887"
             ],
             [
              0.1111111111111111,
              "#46039f"
             ],
             [
              0.2222222222222222,
              "#7201a8"
             ],
             [
              0.3333333333333333,
              "#9c179e"
             ],
             [
              0.4444444444444444,
              "#bd3786"
             ],
             [
              0.5555555555555556,
              "#d8576b"
             ],
             [
              0.6666666666666666,
              "#ed7953"
             ],
             [
              0.7777777777777778,
              "#fb9f3a"
             ],
             [
              0.8888888888888888,
              "#fdca26"
             ],
             [
              1,
              "#f0f921"
             ]
            ],
            "type": "heatmap"
           }
          ],
          "heatmapgl": [
           {
            "colorbar": {
             "outlinewidth": 0,
             "ticks": ""
            },
            "colorscale": [
             [
              0,
              "#0d0887"
             ],
             [
              0.1111111111111111,
              "#46039f"
             ],
             [
              0.2222222222222222,
              "#7201a8"
             ],
             [
              0.3333333333333333,
              "#9c179e"
             ],
             [
              0.4444444444444444,
              "#bd3786"
             ],
             [
              0.5555555555555556,
              "#d8576b"
             ],
             [
              0.6666666666666666,
              "#ed7953"
             ],
             [
              0.7777777777777778,
              "#fb9f3a"
             ],
             [
              0.8888888888888888,
              "#fdca26"
             ],
             [
              1,
              "#f0f921"
             ]
            ],
            "type": "heatmapgl"
           }
          ],
          "histogram": [
           {
            "marker": {
             "colorbar": {
              "outlinewidth": 0,
              "ticks": ""
             }
            },
            "type": "histogram"
           }
          ],
          "histogram2d": [
           {
            "colorbar": {
             "outlinewidth": 0,
             "ticks": ""
            },
            "colorscale": [
             [
              0,
              "#0d0887"
             ],
             [
              0.1111111111111111,
              "#46039f"
             ],
             [
              0.2222222222222222,
              "#7201a8"
             ],
             [
              0.3333333333333333,
              "#9c179e"
             ],
             [
              0.4444444444444444,
              "#bd3786"
             ],
             [
              0.5555555555555556,
              "#d8576b"
             ],
             [
              0.6666666666666666,
              "#ed7953"
             ],
             [
              0.7777777777777778,
              "#fb9f3a"
             ],
             [
              0.8888888888888888,
              "#fdca26"
             ],
             [
              1,
              "#f0f921"
             ]
            ],
            "type": "histogram2d"
           }
          ],
          "histogram2dcontour": [
           {
            "colorbar": {
             "outlinewidth": 0,
             "ticks": ""
            },
            "colorscale": [
             [
              0,
              "#0d0887"
             ],
             [
              0.1111111111111111,
              "#46039f"
             ],
             [
              0.2222222222222222,
              "#7201a8"
             ],
             [
              0.3333333333333333,
              "#9c179e"
             ],
             [
              0.4444444444444444,
              "#bd3786"
             ],
             [
              0.5555555555555556,
              "#d8576b"
             ],
             [
              0.6666666666666666,
              "#ed7953"
             ],
             [
              0.7777777777777778,
              "#fb9f3a"
             ],
             [
              0.8888888888888888,
              "#fdca26"
             ],
             [
              1,
              "#f0f921"
             ]
            ],
            "type": "histogram2dcontour"
           }
          ],
          "mesh3d": [
           {
            "colorbar": {
             "outlinewidth": 0,
             "ticks": ""
            },
            "type": "mesh3d"
           }
          ],
          "parcoords": [
           {
            "line": {
             "colorbar": {
              "outlinewidth": 0,
              "ticks": ""
             }
            },
            "type": "parcoords"
           }
          ],
          "pie": [
           {
            "automargin": true,
            "type": "pie"
           }
          ],
          "scatter": [
           {
            "marker": {
             "colorbar": {
              "outlinewidth": 0,
              "ticks": ""
             }
            },
            "type": "scatter"
           }
          ],
          "scatter3d": [
           {
            "line": {
             "colorbar": {
              "outlinewidth": 0,
              "ticks": ""
             }
            },
            "marker": {
             "colorbar": {
              "outlinewidth": 0,
              "ticks": ""
             }
            },
            "type": "scatter3d"
           }
          ],
          "scattercarpet": [
           {
            "marker": {
             "colorbar": {
              "outlinewidth": 0,
              "ticks": ""
             }
            },
            "type": "scattercarpet"
           }
          ],
          "scattergeo": [
           {
            "marker": {
             "colorbar": {
              "outlinewidth": 0,
              "ticks": ""
             }
            },
            "type": "scattergeo"
           }
          ],
          "scattergl": [
           {
            "marker": {
             "colorbar": {
              "outlinewidth": 0,
              "ticks": ""
             }
            },
            "type": "scattergl"
           }
          ],
          "scattermapbox": [
           {
            "marker": {
             "colorbar": {
              "outlinewidth": 0,
              "ticks": ""
             }
            },
            "type": "scattermapbox"
           }
          ],
          "scatterpolar": [
           {
            "marker": {
             "colorbar": {
              "outlinewidth": 0,
              "ticks": ""
             }
            },
            "type": "scatterpolar"
           }
          ],
          "scatterpolargl": [
           {
            "marker": {
             "colorbar": {
              "outlinewidth": 0,
              "ticks": ""
             }
            },
            "type": "scatterpolargl"
           }
          ],
          "scatterternary": [
           {
            "marker": {
             "colorbar": {
              "outlinewidth": 0,
              "ticks": ""
             }
            },
            "type": "scatterternary"
           }
          ],
          "surface": [
           {
            "colorbar": {
             "outlinewidth": 0,
             "ticks": ""
            },
            "colorscale": [
             [
              0,
              "#0d0887"
             ],
             [
              0.1111111111111111,
              "#46039f"
             ],
             [
              0.2222222222222222,
              "#7201a8"
             ],
             [
              0.3333333333333333,
              "#9c179e"
             ],
             [
              0.4444444444444444,
              "#bd3786"
             ],
             [
              0.5555555555555556,
              "#d8576b"
             ],
             [
              0.6666666666666666,
              "#ed7953"
             ],
             [
              0.7777777777777778,
              "#fb9f3a"
             ],
             [
              0.8888888888888888,
              "#fdca26"
             ],
             [
              1,
              "#f0f921"
             ]
            ],
            "type": "surface"
           }
          ],
          "table": [
           {
            "cells": {
             "fill": {
              "color": "#EBF0F8"
             },
             "line": {
              "color": "white"
             }
            },
            "header": {
             "fill": {
              "color": "#C8D4E3"
             },
             "line": {
              "color": "white"
             }
            },
            "type": "table"
           }
          ]
         },
         "layout": {
          "annotationdefaults": {
           "arrowcolor": "#2a3f5f",
           "arrowhead": 0,
           "arrowwidth": 1
          },
          "autotypenumbers": "strict",
          "coloraxis": {
           "colorbar": {
            "outlinewidth": 0,
            "ticks": ""
           }
          },
          "colorscale": {
           "diverging": [
            [
             0,
             "#8e0152"
            ],
            [
             0.1,
             "#c51b7d"
            ],
            [
             0.2,
             "#de77ae"
            ],
            [
             0.3,
             "#f1b6da"
            ],
            [
             0.4,
             "#fde0ef"
            ],
            [
             0.5,
             "#f7f7f7"
            ],
            [
             0.6,
             "#e6f5d0"
            ],
            [
             0.7,
             "#b8e186"
            ],
            [
             0.8,
             "#7fbc41"
            ],
            [
             0.9,
             "#4d9221"
            ],
            [
             1,
             "#276419"
            ]
           ],
           "sequential": [
            [
             0,
             "#0d0887"
            ],
            [
             0.1111111111111111,
             "#46039f"
            ],
            [
             0.2222222222222222,
             "#7201a8"
            ],
            [
             0.3333333333333333,
             "#9c179e"
            ],
            [
             0.4444444444444444,
             "#bd3786"
            ],
            [
             0.5555555555555556,
             "#d8576b"
            ],
            [
             0.6666666666666666,
             "#ed7953"
            ],
            [
             0.7777777777777778,
             "#fb9f3a"
            ],
            [
             0.8888888888888888,
             "#fdca26"
            ],
            [
             1,
             "#f0f921"
            ]
           ],
           "sequentialminus": [
            [
             0,
             "#0d0887"
            ],
            [
             0.1111111111111111,
             "#46039f"
            ],
            [
             0.2222222222222222,
             "#7201a8"
            ],
            [
             0.3333333333333333,
             "#9c179e"
            ],
            [
             0.4444444444444444,
             "#bd3786"
            ],
            [
             0.5555555555555556,
             "#d8576b"
            ],
            [
             0.6666666666666666,
             "#ed7953"
            ],
            [
             0.7777777777777778,
             "#fb9f3a"
            ],
            [
             0.8888888888888888,
             "#fdca26"
            ],
            [
             1,
             "#f0f921"
            ]
           ]
          },
          "colorway": [
           "#636efa",
           "#EF553B",
           "#00cc96",
           "#ab63fa",
           "#FFA15A",
           "#19d3f3",
           "#FF6692",
           "#B6E880",
           "#FF97FF",
           "#FECB52"
          ],
          "font": {
           "color": "#2a3f5f"
          },
          "geo": {
           "bgcolor": "white",
           "lakecolor": "white",
           "landcolor": "#E5ECF6",
           "showlakes": true,
           "showland": true,
           "subunitcolor": "white"
          },
          "hoverlabel": {
           "align": "left"
          },
          "hovermode": "closest",
          "mapbox": {
           "style": "light"
          },
          "paper_bgcolor": "white",
          "plot_bgcolor": "#E5ECF6",
          "polar": {
           "angularaxis": {
            "gridcolor": "white",
            "linecolor": "white",
            "ticks": ""
           },
           "bgcolor": "#E5ECF6",
           "radialaxis": {
            "gridcolor": "white",
            "linecolor": "white",
            "ticks": ""
           }
          },
          "scene": {
           "xaxis": {
            "backgroundcolor": "#E5ECF6",
            "gridcolor": "white",
            "gridwidth": 2,
            "linecolor": "white",
            "showbackground": true,
            "ticks": "",
            "zerolinecolor": "white"
           },
           "yaxis": {
            "backgroundcolor": "#E5ECF6",
            "gridcolor": "white",
            "gridwidth": 2,
            "linecolor": "white",
            "showbackground": true,
            "ticks": "",
            "zerolinecolor": "white"
           },
           "zaxis": {
            "backgroundcolor": "#E5ECF6",
            "gridcolor": "white",
            "gridwidth": 2,
            "linecolor": "white",
            "showbackground": true,
            "ticks": "",
            "zerolinecolor": "white"
           }
          },
          "shapedefaults": {
           "line": {
            "color": "#2a3f5f"
           }
          },
          "ternary": {
           "aaxis": {
            "gridcolor": "white",
            "linecolor": "white",
            "ticks": ""
           },
           "baxis": {
            "gridcolor": "white",
            "linecolor": "white",
            "ticks": ""
           },
           "bgcolor": "#E5ECF6",
           "caxis": {
            "gridcolor": "white",
            "linecolor": "white",
            "ticks": ""
           }
          },
          "title": {
           "x": 0.05
          },
          "xaxis": {
           "automargin": true,
           "gridcolor": "white",
           "linecolor": "white",
           "ticks": "",
           "title": {
            "standoff": 15
           },
           "zerolinecolor": "white",
           "zerolinewidth": 2
          },
          "yaxis": {
           "automargin": true,
           "gridcolor": "white",
           "linecolor": "white",
           "ticks": "",
           "title": {
            "standoff": 15
           },
           "zerolinecolor": "white",
           "zerolinewidth": 2
          }
         }
        },
        "title": {
         "font": {
          "color": "#4D5663"
         }
        },
        "xaxis": {
         "gridcolor": "#E1E5ED",
         "showgrid": true,
         "tickfont": {
          "color": "#4D5663"
         },
         "title": {
          "font": {
           "color": "#4D5663"
          },
          "text": ""
         },
         "zerolinecolor": "#E1E5ED"
        },
        "yaxis": {
         "gridcolor": "#E1E5ED",
         "showgrid": true,
         "tickfont": {
          "color": "#4D5663"
         },
         "title": {
          "font": {
           "color": "#4D5663"
          },
          "text": ""
         },
         "zerolinecolor": "#E1E5ED"
        }
       }
      },
      "text/html": [
       "<div>                            <div id=\"f81bb9f5-5870-44f2-84b4-574b4b7e9fbd\" class=\"plotly-graph-div\" style=\"height:525px; width:100%;\"></div>            <script type=\"text/javascript\">                require([\"plotly\"], function(Plotly) {                    window.PLOTLYENV=window.PLOTLYENV || {};\n",
       "                    window.PLOTLYENV.BASE_URL='https://plot.ly';                                    if (document.getElementById(\"f81bb9f5-5870-44f2-84b4-574b4b7e9fbd\")) {                    Plotly.newPlot(                        \"f81bb9f5-5870-44f2-84b4-574b4b7e9fbd\",                        [{\"colorscale\": [[0.0, \"rgb(255, 153, 51)\"], [0.1111111111111111, \"rgb(55, 128, 191)\"], [0.2222222222222222, \"rgb(50, 171, 96)\"], [0.3333333333333333, \"rgb(128, 0, 128)\"], [0.4444444444444444, \"rgb(219, 64, 82)\"], [0.5555555555555556, \"rgb(0, 128, 128)\"], [0.6666666666666666, \"rgb(255, 255, 51)\"], [0.7777777777777778, \"rgb(128, 128, 0)\"], [0.8888888888888888, \"rgb(251, 128, 114)\"], [1.0, \"rgb(128, 177, 211)\"]], \"type\": \"surface\", \"x\": [0.20661191534623324, -0.4610446625441009, 0.41404076765685266, 0.12821347046246326, -0.01358400372981374, -0.08937863519935071, 1.2019003773267596, 2.587379098013382, -0.876367374435099, -0.06708858065575127, -1.860781677455559, -0.007083843998639369, -0.5087397924601488, -0.7148935715875485, -0.486102756002156, -1.422162749451995, 1.106299160690784, 1.5781145646233357, -0.7922119556891072, -0.9366933399660091, 1.4464335256622187, 0.6445975968257018, -1.538728684518367, 0.34591334219766723, -0.06695497469254769, -0.7854575319838124, -0.19063385678899702, -1.0077802308039194, 1.1641939131089654, 0.3933932425324607, 0.6724062417349693, -0.3534774503633168, 0.4179585343789065, 1.2654624300189907, 0.3024835221461766, -0.560502103246814, -0.5435737964098641, 0.46902312155981146, -1.5071458886033147, 0.7862070791649816, -0.2504321639525721, 0.998433511927052, 0.18335456363231012, -2.204701421526611, 0.7660191801042198, 1.2981386104872434, -0.8130295986686382, 0.1926199223056493, -0.022994972639108578, -0.9147502391003633, -3.081779801850133, 2.1885651265483057, 0.35110681703189833, 0.07562106012288047, 1.2687395859135877, 0.3950192919754047, 0.5696479880232429, 0.14506503274253282, -0.10531256863901825, -2.5656696280083624, 0.44549997453953577, -1.4625071086769927, 0.11481422346672888, 0.6892168665381849, 0.8559157204775419, -0.8700767507183113, -0.8384027375555587, 0.3121159266088328, -1.394830968211032, 1.7544974492685588, 0.9278250322812287, 0.20109265335628046, -1.0375458595474587, -0.1401517540189485, 0.7814771608237634, 0.20315718496527627, 0.26493030231832276, -1.4653000115643395, -0.7105285000621676, 0.4575263501639446, 1.6082712347549057, -0.40317061230433215, 2.2652794725434036, 0.9504642538701966, 0.25628444355796115, 0.6182466914749498, -2.9274222203716325, -1.381083907423626, 0.920316174937108, -1.0542129081420748, -0.8357546756817875, 0.13291690593164276, -0.9534285876439937, 0.44339798516108414, 2.039346754718478, 0.6960488678087877, -1.6908592880087745, -0.7640913084347061, 0.4705330116393717, 0.31119212967301185], \"y\": [0.21566184463828011, -2.6448747170508, -0.7463939405566361, 0.15172718049086653, -0.7066546536254062, 1.799615280208897, 0.7349191170196748, -1.0476623593051504, 1.2710035398347894, -0.1978697980545318, 0.5473337457747002, -0.35492662884211057, -0.2511520904598244, 0.8027108747158334, 0.6225015585439599, 1.2514096898198, -1.287068474056987, 0.0006622518848594923, 0.282837650404236, -0.51849054255078, -0.27367452203721676, 0.5032868890407113, 1.524819290259009, -0.06532973445380441, -0.9994387170886119, 0.8690041086619215, 0.9097370415339991, -1.7139603249541469, 1.0035455893104557, 1.1141950141913526, -2.2752722781939694, -1.7603959881071014, -0.16109718837357848, -1.0095137168964665, 0.7377847732653243, -0.3978696381448754, 0.961660730533915, 0.3289430479815819, 1.532635068903488, 0.006418923666554409, -1.5818701361244483, 0.8141110455419436, -0.34134075687805376, 0.2454581009767703, -1.535233150550167, 0.8445204478725542, -0.3377734598789571, -0.05904159222291085, 0.27362706717972557, -0.9367086282388856, -0.09814057695752369, -1.3038993332366096, 0.13300067540249808, -0.18628288006693733, -0.7346842930995677, 0.4702563147651111, -0.5274248922508566, -1.6456472099635477, 0.3748971033143268, -1.7798236417744402, -1.0530893186668286, 0.8800239207988834, -0.3226388589453465, -0.10284077973840851, 0.31016786359017023, 0.030793909431710884, -0.9855311474822734, 1.366439480194007, 0.9684888489728021, -0.0993762454723041, 0.41570097448003795, -0.2781393461774353, 0.1073192576431352, -1.556312238107014, 2.2074147350585003, 0.005327221819468173, -0.31538717340607686, 0.5529249513938924, 0.07211257864795424, -0.19536211967476866, 0.10822840879372396, -2.363658152612146, 0.17000158684898461, 0.606587971630712, -1.5514615014532716, 0.8068957859375292, -0.4095444163985019, 0.8017569689670967, -0.9303854184850338, -0.06008466327821947, -0.7317227243202581, 0.7145023803111251, -1.1939141926815078, 0.39720804037128765, 0.5093170452739304, -0.14772795296538405, 1.2162674475960769, -0.12386024104153552, -0.6883717044761949, 0.2540575513764201], \"z\": [[0.20661191534623324, -0.4610446625441009, 0.41404076765685266, 0.12821347046246326, -0.01358400372981374, -0.08937863519935071, 1.2019003773267596, 2.587379098013382, -0.876367374435099, -0.06708858065575127, -1.860781677455559, -0.007083843998639369, -0.5087397924601488, -0.7148935715875485, -0.486102756002156, -1.422162749451995, 1.106299160690784, 1.5781145646233357, -0.7922119556891072, -0.9366933399660091, 1.4464335256622187, 0.6445975968257018, -1.538728684518367, 0.34591334219766723, -0.06695497469254769, -0.7854575319838124, -0.19063385678899702, -1.0077802308039194, 1.1641939131089654, 0.3933932425324607, 0.6724062417349693, -0.3534774503633168, 0.4179585343789065, 1.2654624300189907, 0.3024835221461766, -0.560502103246814, -0.5435737964098641, 0.46902312155981146, -1.5071458886033147, 0.7862070791649816, -0.2504321639525721, 0.998433511927052, 0.18335456363231012, -2.204701421526611, 0.7660191801042198, 1.2981386104872434, -0.8130295986686382, 0.1926199223056493, -0.022994972639108578, -0.9147502391003633, -3.081779801850133, 2.1885651265483057, 0.35110681703189833, 0.07562106012288047, 1.2687395859135877, 0.3950192919754047, 0.5696479880232429, 0.14506503274253282, -0.10531256863901825, -2.5656696280083624, 0.44549997453953577, -1.4625071086769927, 0.11481422346672888, 0.6892168665381849, 0.8559157204775419, -0.8700767507183113, -0.8384027375555587, 0.3121159266088328, -1.394830968211032, 1.7544974492685588, 0.9278250322812287, 0.20109265335628046, -1.0375458595474587, -0.1401517540189485, 0.7814771608237634, 0.20315718496527627, 0.26493030231832276, -1.4653000115643395, -0.7105285000621676, 0.4575263501639446, 1.6082712347549057, -0.40317061230433215, 2.2652794725434036, 0.9504642538701966, 0.25628444355796115, 0.6182466914749498, -2.9274222203716325, -1.381083907423626, 0.920316174937108, -1.0542129081420748, -0.8357546756817875, 0.13291690593164276, -0.9534285876439937, 0.44339798516108414, 2.039346754718478, 0.6960488678087877, -1.6908592880087745, -0.7640913084347061, 0.4705330116393717, 0.31119212967301185], [0.21566184463828011, -2.6448747170508, -0.7463939405566361, 0.15172718049086653, -0.7066546536254062, 1.799615280208897, 0.7349191170196748, -1.0476623593051504, 1.2710035398347894, -0.1978697980545318, 0.5473337457747002, -0.35492662884211057, -0.2511520904598244, 0.8027108747158334, 0.6225015585439599, 1.2514096898198, -1.287068474056987, 0.0006622518848594923, 0.282837650404236, -0.51849054255078, -0.27367452203721676, 0.5032868890407113, 1.524819290259009, -0.06532973445380441, -0.9994387170886119, 0.8690041086619215, 0.9097370415339991, -1.7139603249541469, 1.0035455893104557, 1.1141950141913526, -2.2752722781939694, -1.7603959881071014, -0.16109718837357848, -1.0095137168964665, 0.7377847732653243, -0.3978696381448754, 0.961660730533915, 0.3289430479815819, 1.532635068903488, 0.006418923666554409, -1.5818701361244483, 0.8141110455419436, -0.34134075687805376, 0.2454581009767703, -1.535233150550167, 0.8445204478725542, -0.3377734598789571, -0.05904159222291085, 0.27362706717972557, -0.9367086282388856, -0.09814057695752369, -1.3038993332366096, 0.13300067540249808, -0.18628288006693733, -0.7346842930995677, 0.4702563147651111, -0.5274248922508566, -1.6456472099635477, 0.3748971033143268, -1.7798236417744402, -1.0530893186668286, 0.8800239207988834, -0.3226388589453465, -0.10284077973840851, 0.31016786359017023, 0.030793909431710884, -0.9855311474822734, 1.366439480194007, 0.9684888489728021, -0.0993762454723041, 0.41570097448003795, -0.2781393461774353, 0.1073192576431352, -1.556312238107014, 2.2074147350585003, 0.005327221819468173, -0.31538717340607686, 0.5529249513938924, 0.07211257864795424, -0.19536211967476866, 0.10822840879372396, -2.363658152612146, 0.17000158684898461, 0.606587971630712, -1.5514615014532716, 0.8068957859375292, -0.4095444163985019, 0.8017569689670967, -0.9303854184850338, -0.06008466327821947, -0.7317227243202581, 0.7145023803111251, -1.1939141926815078, 0.39720804037128765, 0.5093170452739304, -0.14772795296538405, 1.2162674475960769, -0.12386024104153552, -0.6883717044761949, 0.2540575513764201], [0.7910919640213182, 1.0731019457495816, 0.8931078393006489, -0.44640142782130965, -2.224636951310231, 1.6956153446479425, -0.2278764384041728, 0.4202460441688645, 0.6386324119378403, -0.5655249562118142, -1.0278752456765983, 0.38354384456892315, 0.07733080304916802, 0.11603423378589124, 0.15473633061671102, 0.40310167071457087, -1.0838558863385679, 0.4078048466085792, -0.6917163718104571, -0.10585385435206911, 0.6466289821701722, -0.40769870533338753, 0.5016383837486322, 0.06263991110967514, 0.03276029708113598, -1.7510804270193718, -0.04556865676236197, 1.3225693640035368, -1.002201356322981, -0.44127370986689, 0.14698009314072336, -0.41990052661562044, -1.9019338781033286, -0.7415575157868501, -1.030844782439815, -0.45801328040368977, 1.3064512549821476, 1.8853724477181313, 1.1268581137759113, 1.4318465392286932, 0.7957786906866531, -1.7659623845090977, -1.4618506012324128, -0.5308748850884522, 0.5191107816139195, 0.5013123655104066, -0.16250112882784334, 0.06044406282066855, -0.191009186659284, 0.8479886528854795, 0.5578431453647937, 0.021680883374815964, -0.8106368918117016, 0.10744409651797972, -0.264586526124944, -0.4088202537024965, 0.5066914928009179, -2.614194733920487, -1.637255880771564, -0.991981831170391, 0.9965956272273776, -0.9332536933278639, 1.5411521138876736, -0.1200188951632211, -0.8665478316178831, -1.472174673406913, 0.12393214691533123, 1.0316010487085723, 0.8328971264332271, 1.4723489491437043, 0.2653596291871583, -1.367212092643426, 0.6394243764926346, 1.3562131093456384, -0.5781329196495982, -2.4090156651730603, -1.6209881435562221, -0.8569101979831883, -1.1904282255033516, 0.3032625625783326, 1.0075807888913317, 1.0003145861154499, -0.09736549906292263, -0.771308865214996, 0.9879185150040704, -0.43975149138027714, 0.3787602524933764, -0.06860490251752274, -0.4928522954719433, -1.578800207706851, 0.07704662518026237, -0.28169050889359626, 0.05573638131155458, 0.6091905820920195, -1.1588727960937915, -0.7563123929151288, -0.5153282621899362, -0.784305651822452, -0.6043710982087123, -0.15158164235769545], [-2.2790909421013517, -0.222546500411642, -0.23120422777513736, -0.7558071244685779, -1.9545051035377046, 1.2371831486844507, 2.1151500157867034, -0.7051217697014962, -0.993933789393896, -1.4883759009619622, -1.4003872903287344, -0.2876793574619171, -0.435211524043705, -0.7368606325966581, 0.9055461657263847, -0.32441877133204217, 0.4672000863636143, 2.0886530022422023, -1.1928908240573177, 0.48825563715865117, 0.536747708421974, -0.07867022767635494, -2.3673998128662674, 0.37321634930825687, 0.2709067223498474, 0.49990873074816583, 0.21430511003157549, -2.1930666252001014, 0.043820975649190796, 1.468869650333519, 1.655875679349167, 2.0820478487685516, -2.2829555105700785, -0.5670607073792552, 0.07710614324628498, -1.0230722955283342, -1.2384801101149165, 0.7135501227811383, 0.6659674812491573, -0.46524590036437674, 0.9699405909621481, 0.054055933551372864, -0.9261157273259947, -0.12883025535201528, 0.6438924324880508, -0.7661879402424319, 0.3532098229119582, -2.203807975043007, 1.7324469137142895, 0.40536147716632204, 1.1314942598158215, 0.5933923650277938, -0.33189235977991266, -1.1913345319889899, 0.6530454482788755, -0.4291142891674958, 0.5724164094596423, -1.3171921539714326, 1.0202548615092808, -0.07378697521780025, 0.49548256216356595, -1.2180873944924657, -0.4502030844271496, 1.861294866694436, -1.0408666863304359, -1.8125197640790816, 1.1187660829228685, 0.7666538461522473, -0.15094459950517244, -0.20836647092392463, -0.10087034968992667, -0.17966327969310314, -0.7907469600000173, 0.15876128872367934, -0.7993801897754967, 0.13068761744653126, -0.8553860144534923, 0.5819432524113081, -0.9986667693081764, 1.2941993874829798, -0.40794192472068314, 0.06930635130279626, -0.8465038825067873, 0.8798649517768914, -1.0849772548624197, -0.8358977511027874, -0.963381064901038, 1.0483841839638575, -0.7202939947171816, 0.747784777230978, -0.34190416450202893, 1.2756630816436851, -0.8947203806717854, -0.7330562397060192, 0.10251213112772598, 0.14052110194283055, 1.464775095515395, -0.26139523197931075, 0.1933215272742001, 0.09044829883695331]]}],                        {\"legend\": {\"bgcolor\": \"#F5F6F9\", \"font\": {\"color\": \"#4D5663\"}}, \"paper_bgcolor\": \"#F5F6F9\", \"plot_bgcolor\": \"#F5F6F9\", \"template\": {\"data\": {\"bar\": [{\"error_x\": {\"color\": \"#2a3f5f\"}, \"error_y\": {\"color\": \"#2a3f5f\"}, \"marker\": {\"line\": {\"color\": \"#E5ECF6\", \"width\": 0.5}}, \"type\": \"bar\"}], \"barpolar\": [{\"marker\": {\"line\": {\"color\": \"#E5ECF6\", \"width\": 0.5}}, \"type\": \"barpolar\"}], \"carpet\": [{\"aaxis\": {\"endlinecolor\": \"#2a3f5f\", \"gridcolor\": \"white\", \"linecolor\": \"white\", \"minorgridcolor\": \"white\", \"startlinecolor\": \"#2a3f5f\"}, \"baxis\": {\"endlinecolor\": \"#2a3f5f\", \"gridcolor\": \"white\", \"linecolor\": \"white\", \"minorgridcolor\": \"white\", \"startlinecolor\": \"#2a3f5f\"}, \"type\": \"carpet\"}], \"choropleth\": [{\"colorbar\": {\"outlinewidth\": 0, \"ticks\": \"\"}, \"type\": \"choropleth\"}], \"contour\": [{\"colorbar\": {\"outlinewidth\": 0, \"ticks\": \"\"}, \"colorscale\": [[0.0, \"#0d0887\"], [0.1111111111111111, \"#46039f\"], [0.2222222222222222, \"#7201a8\"], [0.3333333333333333, \"#9c179e\"], [0.4444444444444444, \"#bd3786\"], [0.5555555555555556, \"#d8576b\"], [0.6666666666666666, \"#ed7953\"], [0.7777777777777778, \"#fb9f3a\"], [0.8888888888888888, \"#fdca26\"], [1.0, \"#f0f921\"]], \"type\": \"contour\"}], \"contourcarpet\": [{\"colorbar\": {\"outlinewidth\": 0, \"ticks\": \"\"}, \"type\": \"contourcarpet\"}], \"heatmap\": [{\"colorbar\": {\"outlinewidth\": 0, \"ticks\": \"\"}, \"colorscale\": [[0.0, \"#0d0887\"], [0.1111111111111111, \"#46039f\"], [0.2222222222222222, \"#7201a8\"], [0.3333333333333333, \"#9c179e\"], [0.4444444444444444, \"#bd3786\"], [0.5555555555555556, \"#d8576b\"], [0.6666666666666666, \"#ed7953\"], [0.7777777777777778, \"#fb9f3a\"], [0.8888888888888888, \"#fdca26\"], [1.0, \"#f0f921\"]], \"type\": \"heatmap\"}], \"heatmapgl\": [{\"colorbar\": {\"outlinewidth\": 0, \"ticks\": \"\"}, \"colorscale\": [[0.0, \"#0d0887\"], [0.1111111111111111, \"#46039f\"], [0.2222222222222222, \"#7201a8\"], [0.3333333333333333, \"#9c179e\"], [0.4444444444444444, \"#bd3786\"], [0.5555555555555556, \"#d8576b\"], [0.6666666666666666, \"#ed7953\"], [0.7777777777777778, \"#fb9f3a\"], [0.8888888888888888, \"#fdca26\"], [1.0, \"#f0f921\"]], \"type\": \"heatmapgl\"}], \"histogram\": [{\"marker\": {\"colorbar\": {\"outlinewidth\": 0, \"ticks\": \"\"}}, \"type\": \"histogram\"}], \"histogram2d\": [{\"colorbar\": {\"outlinewidth\": 0, \"ticks\": \"\"}, \"colorscale\": [[0.0, \"#0d0887\"], [0.1111111111111111, \"#46039f\"], [0.2222222222222222, \"#7201a8\"], [0.3333333333333333, \"#9c179e\"], [0.4444444444444444, \"#bd3786\"], [0.5555555555555556, \"#d8576b\"], [0.6666666666666666, \"#ed7953\"], [0.7777777777777778, \"#fb9f3a\"], [0.8888888888888888, \"#fdca26\"], [1.0, \"#f0f921\"]], \"type\": \"histogram2d\"}], \"histogram2dcontour\": [{\"colorbar\": {\"outlinewidth\": 0, \"ticks\": \"\"}, \"colorscale\": [[0.0, \"#0d0887\"], [0.1111111111111111, \"#46039f\"], [0.2222222222222222, \"#7201a8\"], [0.3333333333333333, \"#9c179e\"], [0.4444444444444444, \"#bd3786\"], [0.5555555555555556, \"#d8576b\"], [0.6666666666666666, \"#ed7953\"], [0.7777777777777778, \"#fb9f3a\"], [0.8888888888888888, \"#fdca26\"], [1.0, \"#f0f921\"]], \"type\": \"histogram2dcontour\"}], \"mesh3d\": [{\"colorbar\": {\"outlinewidth\": 0, \"ticks\": \"\"}, \"type\": \"mesh3d\"}], \"parcoords\": [{\"line\": {\"colorbar\": {\"outlinewidth\": 0, \"ticks\": \"\"}}, \"type\": \"parcoords\"}], \"pie\": [{\"automargin\": true, \"type\": \"pie\"}], \"scatter\": [{\"marker\": {\"colorbar\": {\"outlinewidth\": 0, \"ticks\": \"\"}}, \"type\": \"scatter\"}], \"scatter3d\": [{\"line\": {\"colorbar\": {\"outlinewidth\": 0, \"ticks\": \"\"}}, \"marker\": {\"colorbar\": {\"outlinewidth\": 0, \"ticks\": \"\"}}, \"type\": \"scatter3d\"}], \"scattercarpet\": [{\"marker\": {\"colorbar\": {\"outlinewidth\": 0, \"ticks\": \"\"}}, \"type\": \"scattercarpet\"}], \"scattergeo\": [{\"marker\": {\"colorbar\": {\"outlinewidth\": 0, \"ticks\": \"\"}}, \"type\": \"scattergeo\"}], \"scattergl\": [{\"marker\": {\"colorbar\": {\"outlinewidth\": 0, \"ticks\": \"\"}}, \"type\": \"scattergl\"}], \"scattermapbox\": [{\"marker\": {\"colorbar\": {\"outlinewidth\": 0, \"ticks\": \"\"}}, \"type\": \"scattermapbox\"}], \"scatterpolar\": [{\"marker\": {\"colorbar\": {\"outlinewidth\": 0, \"ticks\": \"\"}}, \"type\": \"scatterpolar\"}], \"scatterpolargl\": [{\"marker\": {\"colorbar\": {\"outlinewidth\": 0, \"ticks\": \"\"}}, \"type\": \"scatterpolargl\"}], \"scatterternary\": [{\"marker\": {\"colorbar\": {\"outlinewidth\": 0, \"ticks\": \"\"}}, \"type\": \"scatterternary\"}], \"surface\": [{\"colorbar\": {\"outlinewidth\": 0, \"ticks\": \"\"}, \"colorscale\": [[0.0, \"#0d0887\"], [0.1111111111111111, \"#46039f\"], [0.2222222222222222, \"#7201a8\"], [0.3333333333333333, \"#9c179e\"], [0.4444444444444444, \"#bd3786\"], [0.5555555555555556, \"#d8576b\"], [0.6666666666666666, \"#ed7953\"], [0.7777777777777778, \"#fb9f3a\"], [0.8888888888888888, \"#fdca26\"], [1.0, \"#f0f921\"]], \"type\": \"surface\"}], \"table\": [{\"cells\": {\"fill\": {\"color\": \"#EBF0F8\"}, \"line\": {\"color\": \"white\"}}, \"header\": {\"fill\": {\"color\": \"#C8D4E3\"}, \"line\": {\"color\": \"white\"}}, \"type\": \"table\"}]}, \"layout\": {\"annotationdefaults\": {\"arrowcolor\": \"#2a3f5f\", \"arrowhead\": 0, \"arrowwidth\": 1}, \"autotypenumbers\": \"strict\", \"coloraxis\": {\"colorbar\": {\"outlinewidth\": 0, \"ticks\": \"\"}}, \"colorscale\": {\"diverging\": [[0, \"#8e0152\"], [0.1, \"#c51b7d\"], [0.2, \"#de77ae\"], [0.3, \"#f1b6da\"], [0.4, \"#fde0ef\"], [0.5, \"#f7f7f7\"], [0.6, \"#e6f5d0\"], [0.7, \"#b8e186\"], [0.8, \"#7fbc41\"], [0.9, \"#4d9221\"], [1, \"#276419\"]], \"sequential\": [[0.0, \"#0d0887\"], [0.1111111111111111, \"#46039f\"], [0.2222222222222222, \"#7201a8\"], [0.3333333333333333, \"#9c179e\"], [0.4444444444444444, \"#bd3786\"], [0.5555555555555556, \"#d8576b\"], [0.6666666666666666, \"#ed7953\"], [0.7777777777777778, \"#fb9f3a\"], [0.8888888888888888, \"#fdca26\"], [1.0, \"#f0f921\"]], \"sequentialminus\": [[0.0, \"#0d0887\"], [0.1111111111111111, \"#46039f\"], [0.2222222222222222, \"#7201a8\"], [0.3333333333333333, \"#9c179e\"], [0.4444444444444444, \"#bd3786\"], [0.5555555555555556, \"#d8576b\"], [0.6666666666666666, \"#ed7953\"], [0.7777777777777778, \"#fb9f3a\"], [0.8888888888888888, \"#fdca26\"], [1.0, \"#f0f921\"]]}, \"colorway\": [\"#636efa\", \"#EF553B\", \"#00cc96\", \"#ab63fa\", \"#FFA15A\", \"#19d3f3\", \"#FF6692\", \"#B6E880\", \"#FF97FF\", \"#FECB52\"], \"font\": {\"color\": \"#2a3f5f\"}, \"geo\": {\"bgcolor\": \"white\", \"lakecolor\": \"white\", \"landcolor\": \"#E5ECF6\", \"showlakes\": true, \"showland\": true, \"subunitcolor\": \"white\"}, \"hoverlabel\": {\"align\": \"left\"}, \"hovermode\": \"closest\", \"mapbox\": {\"style\": \"light\"}, \"paper_bgcolor\": \"white\", \"plot_bgcolor\": \"#E5ECF6\", \"polar\": {\"angularaxis\": {\"gridcolor\": \"white\", \"linecolor\": \"white\", \"ticks\": \"\"}, \"bgcolor\": \"#E5ECF6\", \"radialaxis\": {\"gridcolor\": \"white\", \"linecolor\": \"white\", \"ticks\": \"\"}}, \"scene\": {\"xaxis\": {\"backgroundcolor\": \"#E5ECF6\", \"gridcolor\": \"white\", \"gridwidth\": 2, \"linecolor\": \"white\", \"showbackground\": true, \"ticks\": \"\", \"zerolinecolor\": \"white\"}, \"yaxis\": {\"backgroundcolor\": \"#E5ECF6\", \"gridcolor\": \"white\", \"gridwidth\": 2, \"linecolor\": \"white\", \"showbackground\": true, \"ticks\": \"\", \"zerolinecolor\": \"white\"}, \"zaxis\": {\"backgroundcolor\": \"#E5ECF6\", \"gridcolor\": \"white\", \"gridwidth\": 2, \"linecolor\": \"white\", \"showbackground\": true, \"ticks\": \"\", \"zerolinecolor\": \"white\"}}, \"shapedefaults\": {\"line\": {\"color\": \"#2a3f5f\"}}, \"ternary\": {\"aaxis\": {\"gridcolor\": \"white\", \"linecolor\": \"white\", \"ticks\": \"\"}, \"baxis\": {\"gridcolor\": \"white\", \"linecolor\": \"white\", \"ticks\": \"\"}, \"bgcolor\": \"#E5ECF6\", \"caxis\": {\"gridcolor\": \"white\", \"linecolor\": \"white\", \"ticks\": \"\"}}, \"title\": {\"x\": 0.05}, \"xaxis\": {\"automargin\": true, \"gridcolor\": \"white\", \"linecolor\": \"white\", \"ticks\": \"\", \"title\": {\"standoff\": 15}, \"zerolinecolor\": \"white\", \"zerolinewidth\": 2}, \"yaxis\": {\"automargin\": true, \"gridcolor\": \"white\", \"linecolor\": \"white\", \"ticks\": \"\", \"title\": {\"standoff\": 15}, \"zerolinecolor\": \"white\", \"zerolinewidth\": 2}}}, \"title\": {\"font\": {\"color\": \"#4D5663\"}}, \"xaxis\": {\"gridcolor\": \"#E1E5ED\", \"showgrid\": true, \"tickfont\": {\"color\": \"#4D5663\"}, \"title\": {\"font\": {\"color\": \"#4D5663\"}, \"text\": \"\"}, \"zerolinecolor\": \"#E1E5ED\"}, \"yaxis\": {\"gridcolor\": \"#E1E5ED\", \"showgrid\": true, \"tickfont\": {\"color\": \"#4D5663\"}, \"title\": {\"font\": {\"color\": \"#4D5663\"}, \"text\": \"\"}, \"zerolinecolor\": \"#E1E5ED\"}},                        {\"showLink\": true, \"linkText\": \"Export to plot.ly\", \"plotlyServerURL\": \"https://plot.ly\", \"responsive\": true}                    ).then(function(){\n",
       "                            \n",
       "var gd = document.getElementById('f81bb9f5-5870-44f2-84b4-574b4b7e9fbd');\n",
       "var x = new MutationObserver(function (mutations, observer) {{\n",
       "        var display = window.getComputedStyle(gd).display;\n",
       "        if (!display || display === 'none') {{\n",
       "            console.log([gd, 'removed!']);\n",
       "            Plotly.purge(gd);\n",
       "            observer.disconnect();\n",
       "        }}\n",
       "}});\n",
       "\n",
       "// Listen for the removal of the full notebook cells\n",
       "var notebookContainer = gd.closest('#notebook-container');\n",
       "if (notebookContainer) {{\n",
       "    x.observe(notebookContainer, {childList: true});\n",
       "}}\n",
       "\n",
       "// Listen for the clearing of the current output cell\n",
       "var outputEl = gd.closest('.output');\n",
       "if (outputEl) {{\n",
       "    x.observe(outputEl, {childList: true});\n",
       "}}\n",
       "\n",
       "                        })                };                });            </script>        </div>"
      ]
     },
     "metadata": {},
     "output_type": "display_data"
    }
   ],
   "source": [
    "df.iplot(kind='surface',x='A',y='B',mode='markers')"
   ]
  },
  {
   "cell_type": "code",
   "execution_count": 90,
   "metadata": {},
   "outputs": [
    {
     "name": "stderr",
     "output_type": "stream",
     "text": [
      "C:\\ProgramData\\Anaconda3\\lib\\site-packages\\cufflinks\\plotlytools.py:849: FutureWarning:\n",
      "\n",
      "The pandas.np module is deprecated and will be removed from pandas in a future version. Import numpy directly instead\n",
      "\n",
      "C:\\ProgramData\\Anaconda3\\lib\\site-packages\\cufflinks\\plotlytools.py:850: FutureWarning:\n",
      "\n",
      "The pandas.np module is deprecated and will be removed from pandas in a future version. Import numpy directly instead\n",
      "\n"
     ]
    },
    {
     "data": {
      "application/vnd.plotly.v1+json": {
       "config": {
        "linkText": "Export to plot.ly",
        "plotlyServerURL": "https://plot.ly",
        "showLink": true
       },
       "data": [
        {
         "line": {
          "color": "rgba(255, 153, 51, 1.0)",
          "dash": "solid",
          "shape": "linear",
          "width": 1.3
         },
         "marker": {
          "size": 12,
          "symbol": "circle"
         },
         "mode": "markers",
         "name": "B",
         "text": "",
         "type": "scatter",
         "x": [
          0.20661191534623324,
          -0.4610446625441009,
          0.41404076765685266,
          0.12821347046246326,
          -0.01358400372981374,
          -0.08937863519935071,
          1.2019003773267596,
          2.587379098013382,
          -0.876367374435099,
          -0.06708858065575127,
          -1.860781677455559,
          -0.007083843998639369,
          -0.5087397924601488,
          -0.7148935715875485,
          -0.486102756002156,
          -1.422162749451995,
          1.106299160690784,
          1.5781145646233357,
          -0.7922119556891072,
          -0.9366933399660091,
          1.4464335256622187,
          0.6445975968257018,
          -1.538728684518367,
          0.34591334219766723,
          -0.06695497469254769,
          -0.7854575319838124,
          -0.19063385678899702,
          -1.0077802308039194,
          1.1641939131089654,
          0.3933932425324607,
          0.6724062417349693,
          -0.3534774503633168,
          0.4179585343789065,
          1.2654624300189907,
          0.3024835221461766,
          -0.560502103246814,
          -0.5435737964098641,
          0.46902312155981146,
          -1.5071458886033147,
          0.7862070791649816,
          -0.2504321639525721,
          0.998433511927052,
          0.18335456363231012,
          -2.204701421526611,
          0.7660191801042198,
          1.2981386104872434,
          -0.8130295986686382,
          0.1926199223056493,
          -0.022994972639108578,
          -0.9147502391003633,
          -3.081779801850133,
          2.1885651265483057,
          0.35110681703189833,
          0.07562106012288047,
          1.2687395859135877,
          0.3950192919754047,
          0.5696479880232429,
          0.14506503274253282,
          -0.10531256863901825,
          -2.5656696280083624,
          0.44549997453953577,
          -1.4625071086769927,
          0.11481422346672888,
          0.6892168665381849,
          0.8559157204775419,
          -0.8700767507183113,
          -0.8384027375555587,
          0.3121159266088328,
          -1.394830968211032,
          1.7544974492685588,
          0.9278250322812287,
          0.20109265335628046,
          -1.0375458595474587,
          -0.1401517540189485,
          0.7814771608237634,
          0.20315718496527627,
          0.26493030231832276,
          -1.4653000115643395,
          -0.7105285000621676,
          0.4575263501639446,
          1.6082712347549057,
          -0.40317061230433215,
          2.2652794725434036,
          0.9504642538701966,
          0.25628444355796115,
          0.6182466914749498,
          -2.9274222203716325,
          -1.381083907423626,
          0.920316174937108,
          -1.0542129081420748,
          -0.8357546756817875,
          0.13291690593164276,
          -0.9534285876439937,
          0.44339798516108414,
          2.039346754718478,
          0.6960488678087877,
          -1.6908592880087745,
          -0.7640913084347061,
          0.4705330116393717,
          0.31119212967301185
         ],
         "y": [
          0.21566184463828011,
          -2.6448747170508,
          -0.7463939405566361,
          0.15172718049086653,
          -0.7066546536254062,
          1.799615280208897,
          0.7349191170196748,
          -1.0476623593051504,
          1.2710035398347894,
          -0.1978697980545318,
          0.5473337457747002,
          -0.35492662884211057,
          -0.2511520904598244,
          0.8027108747158334,
          0.6225015585439599,
          1.2514096898198,
          -1.287068474056987,
          0.0006622518848594923,
          0.282837650404236,
          -0.51849054255078,
          -0.27367452203721676,
          0.5032868890407113,
          1.524819290259009,
          -0.06532973445380441,
          -0.9994387170886119,
          0.8690041086619215,
          0.9097370415339991,
          -1.7139603249541469,
          1.0035455893104557,
          1.1141950141913526,
          -2.2752722781939694,
          -1.7603959881071014,
          -0.16109718837357848,
          -1.0095137168964665,
          0.7377847732653243,
          -0.3978696381448754,
          0.961660730533915,
          0.3289430479815819,
          1.532635068903488,
          0.006418923666554409,
          -1.5818701361244483,
          0.8141110455419436,
          -0.34134075687805376,
          0.2454581009767703,
          -1.535233150550167,
          0.8445204478725542,
          -0.3377734598789571,
          -0.05904159222291085,
          0.27362706717972557,
          -0.9367086282388856,
          -0.09814057695752369,
          -1.3038993332366096,
          0.13300067540249808,
          -0.18628288006693733,
          -0.7346842930995677,
          0.4702563147651111,
          -0.5274248922508566,
          -1.6456472099635477,
          0.3748971033143268,
          -1.7798236417744402,
          -1.0530893186668286,
          0.8800239207988834,
          -0.3226388589453465,
          -0.10284077973840851,
          0.31016786359017023,
          0.030793909431710884,
          -0.9855311474822734,
          1.366439480194007,
          0.9684888489728021,
          -0.0993762454723041,
          0.41570097448003795,
          -0.2781393461774353,
          0.1073192576431352,
          -1.556312238107014,
          2.2074147350585003,
          0.005327221819468173,
          -0.31538717340607686,
          0.5529249513938924,
          0.07211257864795424,
          -0.19536211967476866,
          0.10822840879372396,
          -2.363658152612146,
          0.17000158684898461,
          0.606587971630712,
          -1.5514615014532716,
          0.8068957859375292,
          -0.4095444163985019,
          0.8017569689670967,
          -0.9303854184850338,
          -0.06008466327821947,
          -0.7317227243202581,
          0.7145023803111251,
          -1.1939141926815078,
          0.39720804037128765,
          0.5093170452739304,
          -0.14772795296538405,
          1.2162674475960769,
          -0.12386024104153552,
          -0.6883717044761949,
          0.2540575513764201
         ]
        },
        {
         "connectgaps": false,
         "fill": "tozeroy",
         "line": {
          "color": "green",
          "dash": "solid",
          "shape": "linear",
          "width": 0.5
         },
         "mode": "lines",
         "name": "Spread",
         "showlegend": false,
         "type": "scatter",
         "x": [
          0,
          1,
          2,
          3,
          4,
          5,
          6,
          7,
          8,
          9,
          10,
          11,
          12,
          13,
          14,
          15,
          16,
          17,
          18,
          19,
          20,
          21,
          22,
          23,
          24,
          25,
          26,
          27,
          28,
          29,
          30,
          31,
          32,
          33,
          34,
          35,
          36,
          37,
          38,
          39,
          40,
          41,
          42,
          43,
          44,
          45,
          46,
          47,
          48,
          49,
          50,
          51,
          52,
          53,
          54,
          55,
          56,
          57,
          58,
          59,
          60,
          61,
          62,
          63,
          64,
          65,
          66,
          67,
          68,
          69,
          70,
          71,
          72,
          73,
          74,
          75,
          76,
          77,
          78,
          79,
          80,
          81,
          82,
          83,
          84,
          85,
          86,
          87,
          88,
          89,
          90,
          91,
          92,
          93,
          94,
          95,
          96,
          97,
          98,
          99
         ],
         "xaxis": "x2",
         "y": [
          "",
          2.183830054506699,
          1.1604347082134887,
          "",
          0.6930706498955925,
          "",
          0.46698126030708476,
          3.6350414573185326,
          "",
          0.13078121739878054,
          "",
          0.3478427848434712,
          "",
          "",
          "",
          "",
          2.3933676347477713,
          1.577452312738476,
          "",
          "",
          1.7201080476994355,
          0.14131070778499055,
          "",
          0.41124307665147164,
          0.9324837423960641,
          "",
          "",
          0.7061800941502274,
          0.16064832379850968,
          "",
          2.947678519928939,
          1.4069185377437847,
          0.579055722752485,
          2.2749761469154572,
          "",
          "",
          "",
          0.14008007357822955,
          "",
          0.7797881554984272,
          1.331437972171876,
          0.1843224663851084,
          0.5246953205103639,
          "",
          2.301252330654387,
          0.45361816261468924,
          "",
          0.25166151452856017,
          "",
          0.021958389138522216,
          "",
          3.492464459784915,
          0.21810614162940026,
          0.2619039401898178,
          2.0034238790131553,
          "",
          1.0970728802740997,
          1.7907122427060806,
          "",
          "",
          1.4985892932063645,
          "",
          0.43745308241207537,
          0.7920576462765935,
          0.5457478568873717,
          "",
          0.14712840992671472,
          "",
          "",
          1.853873694740863,
          0.5121240578011907,
          0.47923199953371576,
          "",
          1.4161604840880655,
          "",
          0.19782996314580809,
          0.5803174757243996,
          "",
          "",
          0.6528884698387133,
          1.5000428259611818,
          1.960487540307814,
          2.095277885694419,
          0.34387628223948463,
          1.8077459450112328,
          "",
          "",
          "",
          1.8507015934221418,
          "",
          "",
          "",
          0.24048560503751404,
          0.04618994478979649,
          1.5300297094445476,
          0.8437768207741718,
          "",
          "",
          1.1589047161155666,
          0.05713457829659174
         ],
         "yaxis": "y2"
        },
        {
         "connectgaps": false,
         "fill": "tozeroy",
         "line": {
          "color": "red",
          "dash": "solid",
          "shape": "linear",
          "width": 0.5
         },
         "mode": "lines",
         "name": "Spread",
         "showlegend": false,
         "type": "scatter",
         "x": [
          0,
          1,
          2,
          3,
          4,
          5,
          6,
          7,
          8,
          9,
          10,
          11,
          12,
          13,
          14,
          15,
          16,
          17,
          18,
          19,
          20,
          21,
          22,
          23,
          24,
          25,
          26,
          27,
          28,
          29,
          30,
          31,
          32,
          33,
          34,
          35,
          36,
          37,
          38,
          39,
          40,
          41,
          42,
          43,
          44,
          45,
          46,
          47,
          48,
          49,
          50,
          51,
          52,
          53,
          54,
          55,
          56,
          57,
          58,
          59,
          60,
          61,
          62,
          63,
          64,
          65,
          66,
          67,
          68,
          69,
          70,
          71,
          72,
          73,
          74,
          75,
          76,
          77,
          78,
          79,
          80,
          81,
          82,
          83,
          84,
          85,
          86,
          87,
          88,
          89,
          90,
          91,
          92,
          93,
          94,
          95,
          96,
          97,
          98,
          99
         ],
         "xaxis": "x2",
         "y": [
          -0.009049929292046871,
          "",
          "",
          -0.023513710028403273,
          "",
          -1.8889939154082476,
          "",
          "",
          -2.1473709142698887,
          "",
          -2.4081154232302593,
          "",
          -0.2575877020003244,
          -1.5176044463033818,
          -1.108604314546116,
          -2.673572439271795,
          "",
          "",
          -1.0750496060933432,
          -0.41820279741522914,
          "",
          "",
          -3.063547974777376,
          "",
          "",
          -1.6544616406457338,
          -1.1003708983229963,
          "",
          "",
          -0.7208017716588919,
          "",
          "",
          "",
          "",
          -0.43530125111914775,
          -0.16263246510193863,
          -1.505234526943779,
          "",
          -3.0397809575068027,
          "",
          "",
          "",
          "",
          -2.450159522503381,
          "",
          "",
          -0.4752561387896811,
          "",
          -0.29662203981883417,
          "",
          -2.983639224892609,
          "",
          "",
          "",
          "",
          -0.0752370227897064,
          "",
          "",
          -0.4802096719533451,
          -0.7858459862339222,
          "",
          -2.342531029475876,
          "",
          "",
          "",
          -0.9008706601500222,
          "",
          -1.0543235535851743,
          -2.363319817183834,
          "",
          "",
          "",
          -1.144865117190594,
          "",
          -1.4259375742347369,
          "",
          "",
          -2.018224962958232,
          -0.7826410787101219,
          "",
          "",
          "",
          "",
          "",
          "",
          -0.18864909446257938,
          -2.5178778039731307,
          -2.1828408763907228,
          "",
          -0.9941282448638553,
          -0.10403195136152943,
          -0.5815854743794824,
          "",
          "",
          "",
          "",
          -2.9071267356048516,
          -0.6402310673931706,
          "",
          ""
         ],
         "yaxis": "y2"
        }
       ],
       "layout": {
        "hovermode": "x",
        "legend": {
         "bgcolor": "#F5F6F9",
         "font": {
          "color": "#4D5663"
         }
        },
        "paper_bgcolor": "#F5F6F9",
        "plot_bgcolor": "#F5F6F9",
        "template": {
         "data": {
          "bar": [
           {
            "error_x": {
             "color": "#2a3f5f"
            },
            "error_y": {
             "color": "#2a3f5f"
            },
            "marker": {
             "line": {
              "color": "#E5ECF6",
              "width": 0.5
             }
            },
            "type": "bar"
           }
          ],
          "barpolar": [
           {
            "marker": {
             "line": {
              "color": "#E5ECF6",
              "width": 0.5
             }
            },
            "type": "barpolar"
           }
          ],
          "carpet": [
           {
            "aaxis": {
             "endlinecolor": "#2a3f5f",
             "gridcolor": "white",
             "linecolor": "white",
             "minorgridcolor": "white",
             "startlinecolor": "#2a3f5f"
            },
            "baxis": {
             "endlinecolor": "#2a3f5f",
             "gridcolor": "white",
             "linecolor": "white",
             "minorgridcolor": "white",
             "startlinecolor": "#2a3f5f"
            },
            "type": "carpet"
           }
          ],
          "choropleth": [
           {
            "colorbar": {
             "outlinewidth": 0,
             "ticks": ""
            },
            "type": "choropleth"
           }
          ],
          "contour": [
           {
            "colorbar": {
             "outlinewidth": 0,
             "ticks": ""
            },
            "colorscale": [
             [
              0,
              "#0d0887"
             ],
             [
              0.1111111111111111,
              "#46039f"
             ],
             [
              0.2222222222222222,
              "#7201a8"
             ],
             [
              0.3333333333333333,
              "#9c179e"
             ],
             [
              0.4444444444444444,
              "#bd3786"
             ],
             [
              0.5555555555555556,
              "#d8576b"
             ],
             [
              0.6666666666666666,
              "#ed7953"
             ],
             [
              0.7777777777777778,
              "#fb9f3a"
             ],
             [
              0.8888888888888888,
              "#fdca26"
             ],
             [
              1,
              "#f0f921"
             ]
            ],
            "type": "contour"
           }
          ],
          "contourcarpet": [
           {
            "colorbar": {
             "outlinewidth": 0,
             "ticks": ""
            },
            "type": "contourcarpet"
           }
          ],
          "heatmap": [
           {
            "colorbar": {
             "outlinewidth": 0,
             "ticks": ""
            },
            "colorscale": [
             [
              0,
              "#0d0887"
             ],
             [
              0.1111111111111111,
              "#46039f"
             ],
             [
              0.2222222222222222,
              "#7201a8"
             ],
             [
              0.3333333333333333,
              "#9c179e"
             ],
             [
              0.4444444444444444,
              "#bd3786"
             ],
             [
              0.5555555555555556,
              "#d8576b"
             ],
             [
              0.6666666666666666,
              "#ed7953"
             ],
             [
              0.7777777777777778,
              "#fb9f3a"
             ],
             [
              0.8888888888888888,
              "#fdca26"
             ],
             [
              1,
              "#f0f921"
             ]
            ],
            "type": "heatmap"
           }
          ],
          "heatmapgl": [
           {
            "colorbar": {
             "outlinewidth": 0,
             "ticks": ""
            },
            "colorscale": [
             [
              0,
              "#0d0887"
             ],
             [
              0.1111111111111111,
              "#46039f"
             ],
             [
              0.2222222222222222,
              "#7201a8"
             ],
             [
              0.3333333333333333,
              "#9c179e"
             ],
             [
              0.4444444444444444,
              "#bd3786"
             ],
             [
              0.5555555555555556,
              "#d8576b"
             ],
             [
              0.6666666666666666,
              "#ed7953"
             ],
             [
              0.7777777777777778,
              "#fb9f3a"
             ],
             [
              0.8888888888888888,
              "#fdca26"
             ],
             [
              1,
              "#f0f921"
             ]
            ],
            "type": "heatmapgl"
           }
          ],
          "histogram": [
           {
            "marker": {
             "colorbar": {
              "outlinewidth": 0,
              "ticks": ""
             }
            },
            "type": "histogram"
           }
          ],
          "histogram2d": [
           {
            "colorbar": {
             "outlinewidth": 0,
             "ticks": ""
            },
            "colorscale": [
             [
              0,
              "#0d0887"
             ],
             [
              0.1111111111111111,
              "#46039f"
             ],
             [
              0.2222222222222222,
              "#7201a8"
             ],
             [
              0.3333333333333333,
              "#9c179e"
             ],
             [
              0.4444444444444444,
              "#bd3786"
             ],
             [
              0.5555555555555556,
              "#d8576b"
             ],
             [
              0.6666666666666666,
              "#ed7953"
             ],
             [
              0.7777777777777778,
              "#fb9f3a"
             ],
             [
              0.8888888888888888,
              "#fdca26"
             ],
             [
              1,
              "#f0f921"
             ]
            ],
            "type": "histogram2d"
           }
          ],
          "histogram2dcontour": [
           {
            "colorbar": {
             "outlinewidth": 0,
             "ticks": ""
            },
            "colorscale": [
             [
              0,
              "#0d0887"
             ],
             [
              0.1111111111111111,
              "#46039f"
             ],
             [
              0.2222222222222222,
              "#7201a8"
             ],
             [
              0.3333333333333333,
              "#9c179e"
             ],
             [
              0.4444444444444444,
              "#bd3786"
             ],
             [
              0.5555555555555556,
              "#d8576b"
             ],
             [
              0.6666666666666666,
              "#ed7953"
             ],
             [
              0.7777777777777778,
              "#fb9f3a"
             ],
             [
              0.8888888888888888,
              "#fdca26"
             ],
             [
              1,
              "#f0f921"
             ]
            ],
            "type": "histogram2dcontour"
           }
          ],
          "mesh3d": [
           {
            "colorbar": {
             "outlinewidth": 0,
             "ticks": ""
            },
            "type": "mesh3d"
           }
          ],
          "parcoords": [
           {
            "line": {
             "colorbar": {
              "outlinewidth": 0,
              "ticks": ""
             }
            },
            "type": "parcoords"
           }
          ],
          "pie": [
           {
            "automargin": true,
            "type": "pie"
           }
          ],
          "scatter": [
           {
            "marker": {
             "colorbar": {
              "outlinewidth": 0,
              "ticks": ""
             }
            },
            "type": "scatter"
           }
          ],
          "scatter3d": [
           {
            "line": {
             "colorbar": {
              "outlinewidth": 0,
              "ticks": ""
             }
            },
            "marker": {
             "colorbar": {
              "outlinewidth": 0,
              "ticks": ""
             }
            },
            "type": "scatter3d"
           }
          ],
          "scattercarpet": [
           {
            "marker": {
             "colorbar": {
              "outlinewidth": 0,
              "ticks": ""
             }
            },
            "type": "scattercarpet"
           }
          ],
          "scattergeo": [
           {
            "marker": {
             "colorbar": {
              "outlinewidth": 0,
              "ticks": ""
             }
            },
            "type": "scattergeo"
           }
          ],
          "scattergl": [
           {
            "marker": {
             "colorbar": {
              "outlinewidth": 0,
              "ticks": ""
             }
            },
            "type": "scattergl"
           }
          ],
          "scattermapbox": [
           {
            "marker": {
             "colorbar": {
              "outlinewidth": 0,
              "ticks": ""
             }
            },
            "type": "scattermapbox"
           }
          ],
          "scatterpolar": [
           {
            "marker": {
             "colorbar": {
              "outlinewidth": 0,
              "ticks": ""
             }
            },
            "type": "scatterpolar"
           }
          ],
          "scatterpolargl": [
           {
            "marker": {
             "colorbar": {
              "outlinewidth": 0,
              "ticks": ""
             }
            },
            "type": "scatterpolargl"
           }
          ],
          "scatterternary": [
           {
            "marker": {
             "colorbar": {
              "outlinewidth": 0,
              "ticks": ""
             }
            },
            "type": "scatterternary"
           }
          ],
          "surface": [
           {
            "colorbar": {
             "outlinewidth": 0,
             "ticks": ""
            },
            "colorscale": [
             [
              0,
              "#0d0887"
             ],
             [
              0.1111111111111111,
              "#46039f"
             ],
             [
              0.2222222222222222,
              "#7201a8"
             ],
             [
              0.3333333333333333,
              "#9c179e"
             ],
             [
              0.4444444444444444,
              "#bd3786"
             ],
             [
              0.5555555555555556,
              "#d8576b"
             ],
             [
              0.6666666666666666,
              "#ed7953"
             ],
             [
              0.7777777777777778,
              "#fb9f3a"
             ],
             [
              0.8888888888888888,
              "#fdca26"
             ],
             [
              1,
              "#f0f921"
             ]
            ],
            "type": "surface"
           }
          ],
          "table": [
           {
            "cells": {
             "fill": {
              "color": "#EBF0F8"
             },
             "line": {
              "color": "white"
             }
            },
            "header": {
             "fill": {
              "color": "#C8D4E3"
             },
             "line": {
              "color": "white"
             }
            },
            "type": "table"
           }
          ]
         },
         "layout": {
          "annotationdefaults": {
           "arrowcolor": "#2a3f5f",
           "arrowhead": 0,
           "arrowwidth": 1
          },
          "autotypenumbers": "strict",
          "coloraxis": {
           "colorbar": {
            "outlinewidth": 0,
            "ticks": ""
           }
          },
          "colorscale": {
           "diverging": [
            [
             0,
             "#8e0152"
            ],
            [
             0.1,
             "#c51b7d"
            ],
            [
             0.2,
             "#de77ae"
            ],
            [
             0.3,
             "#f1b6da"
            ],
            [
             0.4,
             "#fde0ef"
            ],
            [
             0.5,
             "#f7f7f7"
            ],
            [
             0.6,
             "#e6f5d0"
            ],
            [
             0.7,
             "#b8e186"
            ],
            [
             0.8,
             "#7fbc41"
            ],
            [
             0.9,
             "#4d9221"
            ],
            [
             1,
             "#276419"
            ]
           ],
           "sequential": [
            [
             0,
             "#0d0887"
            ],
            [
             0.1111111111111111,
             "#46039f"
            ],
            [
             0.2222222222222222,
             "#7201a8"
            ],
            [
             0.3333333333333333,
             "#9c179e"
            ],
            [
             0.4444444444444444,
             "#bd3786"
            ],
            [
             0.5555555555555556,
             "#d8576b"
            ],
            [
             0.6666666666666666,
             "#ed7953"
            ],
            [
             0.7777777777777778,
             "#fb9f3a"
            ],
            [
             0.8888888888888888,
             "#fdca26"
            ],
            [
             1,
             "#f0f921"
            ]
           ],
           "sequentialminus": [
            [
             0,
             "#0d0887"
            ],
            [
             0.1111111111111111,
             "#46039f"
            ],
            [
             0.2222222222222222,
             "#7201a8"
            ],
            [
             0.3333333333333333,
             "#9c179e"
            ],
            [
             0.4444444444444444,
             "#bd3786"
            ],
            [
             0.5555555555555556,
             "#d8576b"
            ],
            [
             0.6666666666666666,
             "#ed7953"
            ],
            [
             0.7777777777777778,
             "#fb9f3a"
            ],
            [
             0.8888888888888888,
             "#fdca26"
            ],
            [
             1,
             "#f0f921"
            ]
           ]
          },
          "colorway": [
           "#636efa",
           "#EF553B",
           "#00cc96",
           "#ab63fa",
           "#FFA15A",
           "#19d3f3",
           "#FF6692",
           "#B6E880",
           "#FF97FF",
           "#FECB52"
          ],
          "font": {
           "color": "#2a3f5f"
          },
          "geo": {
           "bgcolor": "white",
           "lakecolor": "white",
           "landcolor": "#E5ECF6",
           "showlakes": true,
           "showland": true,
           "subunitcolor": "white"
          },
          "hoverlabel": {
           "align": "left"
          },
          "hovermode": "closest",
          "mapbox": {
           "style": "light"
          },
          "paper_bgcolor": "white",
          "plot_bgcolor": "#E5ECF6",
          "polar": {
           "angularaxis": {
            "gridcolor": "white",
            "linecolor": "white",
            "ticks": ""
           },
           "bgcolor": "#E5ECF6",
           "radialaxis": {
            "gridcolor": "white",
            "linecolor": "white",
            "ticks": ""
           }
          },
          "scene": {
           "xaxis": {
            "backgroundcolor": "#E5ECF6",
            "gridcolor": "white",
            "gridwidth": 2,
            "linecolor": "white",
            "showbackground": true,
            "ticks": "",
            "zerolinecolor": "white"
           },
           "yaxis": {
            "backgroundcolor": "#E5ECF6",
            "gridcolor": "white",
            "gridwidth": 2,
            "linecolor": "white",
            "showbackground": true,
            "ticks": "",
            "zerolinecolor": "white"
           },
           "zaxis": {
            "backgroundcolor": "#E5ECF6",
            "gridcolor": "white",
            "gridwidth": 2,
            "linecolor": "white",
            "showbackground": true,
            "ticks": "",
            "zerolinecolor": "white"
           }
          },
          "shapedefaults": {
           "line": {
            "color": "#2a3f5f"
           }
          },
          "ternary": {
           "aaxis": {
            "gridcolor": "white",
            "linecolor": "white",
            "ticks": ""
           },
           "baxis": {
            "gridcolor": "white",
            "linecolor": "white",
            "ticks": ""
           },
           "bgcolor": "#E5ECF6",
           "caxis": {
            "gridcolor": "white",
            "linecolor": "white",
            "ticks": ""
           }
          },
          "title": {
           "x": 0.05
          },
          "xaxis": {
           "automargin": true,
           "gridcolor": "white",
           "linecolor": "white",
           "ticks": "",
           "title": {
            "standoff": 15
           },
           "zerolinecolor": "white",
           "zerolinewidth": 2
          },
          "yaxis": {
           "automargin": true,
           "gridcolor": "white",
           "linecolor": "white",
           "ticks": "",
           "title": {
            "standoff": 15
           },
           "zerolinecolor": "white",
           "zerolinewidth": 2
          }
         }
        },
        "title": {
         "font": {
          "color": "#4D5663"
         }
        },
        "xaxis": {
         "gridcolor": "#E1E5ED",
         "showgrid": true,
         "tickfont": {
          "color": "#4D5663"
         },
         "title": {
          "font": {
           "color": "#4D5663"
          },
          "text": ""
         },
         "zerolinecolor": "#E1E5ED"
        },
        "xaxis2": {
         "anchor": "y2",
         "gridcolor": "#E1E5ED",
         "showgrid": true,
         "showticklabels": false,
         "tickfont": {
          "color": "#4D5663"
         },
         "title": {
          "font": {
           "color": "#4D5663"
          },
          "text": ""
         },
         "zerolinecolor": "#E1E5ED"
        },
        "yaxis": {
         "domain": [
          0.3,
          1
         ],
         "gridcolor": "#E1E5ED",
         "showgrid": true,
         "tickfont": {
          "color": "#4D5663"
         },
         "title": {
          "font": {
           "color": "#4D5663"
          },
          "text": ""
         },
         "zerolinecolor": "#E1E5ED"
        },
        "yaxis2": {
         "domain": [
          0,
          0.25
         ],
         "gridcolor": "#E1E5ED",
         "showgrid": true,
         "tickfont": {
          "color": "#4D5663"
         },
         "title": {
          "font": {
           "color": "#4D5663"
          },
          "text": "Spread"
         },
         "zerolinecolor": "#E1E5ED"
        }
       }
      },
      "text/html": [
       "<div>                            <div id=\"4733df67-eaac-4bf1-86fe-4776bc712e7c\" class=\"plotly-graph-div\" style=\"height:525px; width:100%;\"></div>            <script type=\"text/javascript\">                require([\"plotly\"], function(Plotly) {                    window.PLOTLYENV=window.PLOTLYENV || {};\n",
       "                    window.PLOTLYENV.BASE_URL='https://plot.ly';                                    if (document.getElementById(\"4733df67-eaac-4bf1-86fe-4776bc712e7c\")) {                    Plotly.newPlot(                        \"4733df67-eaac-4bf1-86fe-4776bc712e7c\",                        [{\"line\": {\"color\": \"rgba(255, 153, 51, 1.0)\", \"dash\": \"solid\", \"shape\": \"linear\", \"width\": 1.3}, \"marker\": {\"size\": 12, \"symbol\": \"circle\"}, \"mode\": \"markers\", \"name\": \"B\", \"text\": \"\", \"type\": \"scatter\", \"x\": [0.20661191534623324, -0.4610446625441009, 0.41404076765685266, 0.12821347046246326, -0.01358400372981374, -0.08937863519935071, 1.2019003773267596, 2.587379098013382, -0.876367374435099, -0.06708858065575127, -1.860781677455559, -0.007083843998639369, -0.5087397924601488, -0.7148935715875485, -0.486102756002156, -1.422162749451995, 1.106299160690784, 1.5781145646233357, -0.7922119556891072, -0.9366933399660091, 1.4464335256622187, 0.6445975968257018, -1.538728684518367, 0.34591334219766723, -0.06695497469254769, -0.7854575319838124, -0.19063385678899702, -1.0077802308039194, 1.1641939131089654, 0.3933932425324607, 0.6724062417349693, -0.3534774503633168, 0.4179585343789065, 1.2654624300189907, 0.3024835221461766, -0.560502103246814, -0.5435737964098641, 0.46902312155981146, -1.5071458886033147, 0.7862070791649816, -0.2504321639525721, 0.998433511927052, 0.18335456363231012, -2.204701421526611, 0.7660191801042198, 1.2981386104872434, -0.8130295986686382, 0.1926199223056493, -0.022994972639108578, -0.9147502391003633, -3.081779801850133, 2.1885651265483057, 0.35110681703189833, 0.07562106012288047, 1.2687395859135877, 0.3950192919754047, 0.5696479880232429, 0.14506503274253282, -0.10531256863901825, -2.5656696280083624, 0.44549997453953577, -1.4625071086769927, 0.11481422346672888, 0.6892168665381849, 0.8559157204775419, -0.8700767507183113, -0.8384027375555587, 0.3121159266088328, -1.394830968211032, 1.7544974492685588, 0.9278250322812287, 0.20109265335628046, -1.0375458595474587, -0.1401517540189485, 0.7814771608237634, 0.20315718496527627, 0.26493030231832276, -1.4653000115643395, -0.7105285000621676, 0.4575263501639446, 1.6082712347549057, -0.40317061230433215, 2.2652794725434036, 0.9504642538701966, 0.25628444355796115, 0.6182466914749498, -2.9274222203716325, -1.381083907423626, 0.920316174937108, -1.0542129081420748, -0.8357546756817875, 0.13291690593164276, -0.9534285876439937, 0.44339798516108414, 2.039346754718478, 0.6960488678087877, -1.6908592880087745, -0.7640913084347061, 0.4705330116393717, 0.31119212967301185], \"y\": [0.21566184463828011, -2.6448747170508, -0.7463939405566361, 0.15172718049086653, -0.7066546536254062, 1.799615280208897, 0.7349191170196748, -1.0476623593051504, 1.2710035398347894, -0.1978697980545318, 0.5473337457747002, -0.35492662884211057, -0.2511520904598244, 0.8027108747158334, 0.6225015585439599, 1.2514096898198, -1.287068474056987, 0.0006622518848594923, 0.282837650404236, -0.51849054255078, -0.27367452203721676, 0.5032868890407113, 1.524819290259009, -0.06532973445380441, -0.9994387170886119, 0.8690041086619215, 0.9097370415339991, -1.7139603249541469, 1.0035455893104557, 1.1141950141913526, -2.2752722781939694, -1.7603959881071014, -0.16109718837357848, -1.0095137168964665, 0.7377847732653243, -0.3978696381448754, 0.961660730533915, 0.3289430479815819, 1.532635068903488, 0.006418923666554409, -1.5818701361244483, 0.8141110455419436, -0.34134075687805376, 0.2454581009767703, -1.535233150550167, 0.8445204478725542, -0.3377734598789571, -0.05904159222291085, 0.27362706717972557, -0.9367086282388856, -0.09814057695752369, -1.3038993332366096, 0.13300067540249808, -0.18628288006693733, -0.7346842930995677, 0.4702563147651111, -0.5274248922508566, -1.6456472099635477, 0.3748971033143268, -1.7798236417744402, -1.0530893186668286, 0.8800239207988834, -0.3226388589453465, -0.10284077973840851, 0.31016786359017023, 0.030793909431710884, -0.9855311474822734, 1.366439480194007, 0.9684888489728021, -0.0993762454723041, 0.41570097448003795, -0.2781393461774353, 0.1073192576431352, -1.556312238107014, 2.2074147350585003, 0.005327221819468173, -0.31538717340607686, 0.5529249513938924, 0.07211257864795424, -0.19536211967476866, 0.10822840879372396, -2.363658152612146, 0.17000158684898461, 0.606587971630712, -1.5514615014532716, 0.8068957859375292, -0.4095444163985019, 0.8017569689670967, -0.9303854184850338, -0.06008466327821947, -0.7317227243202581, 0.7145023803111251, -1.1939141926815078, 0.39720804037128765, 0.5093170452739304, -0.14772795296538405, 1.2162674475960769, -0.12386024104153552, -0.6883717044761949, 0.2540575513764201]}, {\"connectgaps\": false, \"fill\": \"tozeroy\", \"line\": {\"color\": \"green\", \"dash\": \"solid\", \"shape\": \"linear\", \"width\": 0.5}, \"mode\": \"lines\", \"name\": \"Spread\", \"showlegend\": false, \"type\": \"scatter\", \"x\": [0, 1, 2, 3, 4, 5, 6, 7, 8, 9, 10, 11, 12, 13, 14, 15, 16, 17, 18, 19, 20, 21, 22, 23, 24, 25, 26, 27, 28, 29, 30, 31, 32, 33, 34, 35, 36, 37, 38, 39, 40, 41, 42, 43, 44, 45, 46, 47, 48, 49, 50, 51, 52, 53, 54, 55, 56, 57, 58, 59, 60, 61, 62, 63, 64, 65, 66, 67, 68, 69, 70, 71, 72, 73, 74, 75, 76, 77, 78, 79, 80, 81, 82, 83, 84, 85, 86, 87, 88, 89, 90, 91, 92, 93, 94, 95, 96, 97, 98, 99], \"xaxis\": \"x2\", \"y\": [\"\", 2.183830054506699, 1.1604347082134887, \"\", 0.6930706498955925, \"\", 0.46698126030708476, 3.6350414573185326, \"\", 0.13078121739878054, \"\", 0.3478427848434712, \"\", \"\", \"\", \"\", 2.3933676347477713, 1.577452312738476, \"\", \"\", 1.7201080476994355, 0.14131070778499055, \"\", 0.41124307665147164, 0.9324837423960641, \"\", \"\", 0.7061800941502274, 0.16064832379850968, \"\", 2.947678519928939, 1.4069185377437847, 0.579055722752485, 2.2749761469154572, \"\", \"\", \"\", 0.14008007357822955, \"\", 0.7797881554984272, 1.331437972171876, 0.1843224663851084, 0.5246953205103639, \"\", 2.301252330654387, 0.45361816261468924, \"\", 0.25166151452856017, \"\", 0.021958389138522216, \"\", 3.492464459784915, 0.21810614162940026, 0.2619039401898178, 2.0034238790131553, \"\", 1.0970728802740997, 1.7907122427060806, \"\", \"\", 1.4985892932063645, \"\", 0.43745308241207537, 0.7920576462765935, 0.5457478568873717, \"\", 0.14712840992671472, \"\", \"\", 1.853873694740863, 0.5121240578011907, 0.47923199953371576, \"\", 1.4161604840880655, \"\", 0.19782996314580809, 0.5803174757243996, \"\", \"\", 0.6528884698387133, 1.5000428259611818, 1.960487540307814, 2.095277885694419, 0.34387628223948463, 1.8077459450112328, \"\", \"\", \"\", 1.8507015934221418, \"\", \"\", \"\", 0.24048560503751404, 0.04618994478979649, 1.5300297094445476, 0.8437768207741718, \"\", \"\", 1.1589047161155666, 0.05713457829659174], \"yaxis\": \"y2\"}, {\"connectgaps\": false, \"fill\": \"tozeroy\", \"line\": {\"color\": \"red\", \"dash\": \"solid\", \"shape\": \"linear\", \"width\": 0.5}, \"mode\": \"lines\", \"name\": \"Spread\", \"showlegend\": false, \"type\": \"scatter\", \"x\": [0, 1, 2, 3, 4, 5, 6, 7, 8, 9, 10, 11, 12, 13, 14, 15, 16, 17, 18, 19, 20, 21, 22, 23, 24, 25, 26, 27, 28, 29, 30, 31, 32, 33, 34, 35, 36, 37, 38, 39, 40, 41, 42, 43, 44, 45, 46, 47, 48, 49, 50, 51, 52, 53, 54, 55, 56, 57, 58, 59, 60, 61, 62, 63, 64, 65, 66, 67, 68, 69, 70, 71, 72, 73, 74, 75, 76, 77, 78, 79, 80, 81, 82, 83, 84, 85, 86, 87, 88, 89, 90, 91, 92, 93, 94, 95, 96, 97, 98, 99], \"xaxis\": \"x2\", \"y\": [-0.009049929292046871, \"\", \"\", -0.023513710028403273, \"\", -1.8889939154082476, \"\", \"\", -2.1473709142698887, \"\", -2.4081154232302593, \"\", -0.2575877020003244, -1.5176044463033818, -1.108604314546116, -2.673572439271795, \"\", \"\", -1.0750496060933432, -0.41820279741522914, \"\", \"\", -3.063547974777376, \"\", \"\", -1.6544616406457338, -1.1003708983229963, \"\", \"\", -0.7208017716588919, \"\", \"\", \"\", \"\", -0.43530125111914775, -0.16263246510193863, -1.505234526943779, \"\", -3.0397809575068027, \"\", \"\", \"\", \"\", -2.450159522503381, \"\", \"\", -0.4752561387896811, \"\", -0.29662203981883417, \"\", -2.983639224892609, \"\", \"\", \"\", \"\", -0.0752370227897064, \"\", \"\", -0.4802096719533451, -0.7858459862339222, \"\", -2.342531029475876, \"\", \"\", \"\", -0.9008706601500222, \"\", -1.0543235535851743, -2.363319817183834, \"\", \"\", \"\", -1.144865117190594, \"\", -1.4259375742347369, \"\", \"\", -2.018224962958232, -0.7826410787101219, \"\", \"\", \"\", \"\", \"\", \"\", -0.18864909446257938, -2.5178778039731307, -2.1828408763907228, \"\", -0.9941282448638553, -0.10403195136152943, -0.5815854743794824, \"\", \"\", \"\", \"\", -2.9071267356048516, -0.6402310673931706, \"\", \"\"], \"yaxis\": \"y2\"}],                        {\"hovermode\": \"x\", \"legend\": {\"bgcolor\": \"#F5F6F9\", \"font\": {\"color\": \"#4D5663\"}}, \"paper_bgcolor\": \"#F5F6F9\", \"plot_bgcolor\": \"#F5F6F9\", \"template\": {\"data\": {\"bar\": [{\"error_x\": {\"color\": \"#2a3f5f\"}, \"error_y\": {\"color\": \"#2a3f5f\"}, \"marker\": {\"line\": {\"color\": \"#E5ECF6\", \"width\": 0.5}}, \"type\": \"bar\"}], \"barpolar\": [{\"marker\": {\"line\": {\"color\": \"#E5ECF6\", \"width\": 0.5}}, \"type\": \"barpolar\"}], \"carpet\": [{\"aaxis\": {\"endlinecolor\": \"#2a3f5f\", \"gridcolor\": \"white\", \"linecolor\": \"white\", \"minorgridcolor\": \"white\", \"startlinecolor\": \"#2a3f5f\"}, \"baxis\": {\"endlinecolor\": \"#2a3f5f\", \"gridcolor\": \"white\", \"linecolor\": \"white\", \"minorgridcolor\": \"white\", \"startlinecolor\": \"#2a3f5f\"}, \"type\": \"carpet\"}], \"choropleth\": [{\"colorbar\": {\"outlinewidth\": 0, \"ticks\": \"\"}, \"type\": \"choropleth\"}], \"contour\": [{\"colorbar\": {\"outlinewidth\": 0, \"ticks\": \"\"}, \"colorscale\": [[0.0, \"#0d0887\"], [0.1111111111111111, \"#46039f\"], [0.2222222222222222, \"#7201a8\"], [0.3333333333333333, \"#9c179e\"], [0.4444444444444444, \"#bd3786\"], [0.5555555555555556, \"#d8576b\"], [0.6666666666666666, \"#ed7953\"], [0.7777777777777778, \"#fb9f3a\"], [0.8888888888888888, \"#fdca26\"], [1.0, \"#f0f921\"]], \"type\": \"contour\"}], \"contourcarpet\": [{\"colorbar\": {\"outlinewidth\": 0, \"ticks\": \"\"}, \"type\": \"contourcarpet\"}], \"heatmap\": [{\"colorbar\": {\"outlinewidth\": 0, \"ticks\": \"\"}, \"colorscale\": [[0.0, \"#0d0887\"], [0.1111111111111111, \"#46039f\"], [0.2222222222222222, \"#7201a8\"], [0.3333333333333333, \"#9c179e\"], [0.4444444444444444, \"#bd3786\"], [0.5555555555555556, \"#d8576b\"], [0.6666666666666666, \"#ed7953\"], [0.7777777777777778, \"#fb9f3a\"], [0.8888888888888888, \"#fdca26\"], [1.0, \"#f0f921\"]], \"type\": \"heatmap\"}], \"heatmapgl\": [{\"colorbar\": {\"outlinewidth\": 0, \"ticks\": \"\"}, \"colorscale\": [[0.0, \"#0d0887\"], [0.1111111111111111, \"#46039f\"], [0.2222222222222222, \"#7201a8\"], [0.3333333333333333, \"#9c179e\"], [0.4444444444444444, \"#bd3786\"], [0.5555555555555556, \"#d8576b\"], [0.6666666666666666, \"#ed7953\"], [0.7777777777777778, \"#fb9f3a\"], [0.8888888888888888, \"#fdca26\"], [1.0, \"#f0f921\"]], \"type\": \"heatmapgl\"}], \"histogram\": [{\"marker\": {\"colorbar\": {\"outlinewidth\": 0, \"ticks\": \"\"}}, \"type\": \"histogram\"}], \"histogram2d\": [{\"colorbar\": {\"outlinewidth\": 0, \"ticks\": \"\"}, \"colorscale\": [[0.0, \"#0d0887\"], [0.1111111111111111, \"#46039f\"], [0.2222222222222222, \"#7201a8\"], [0.3333333333333333, \"#9c179e\"], [0.4444444444444444, \"#bd3786\"], [0.5555555555555556, \"#d8576b\"], [0.6666666666666666, \"#ed7953\"], [0.7777777777777778, \"#fb9f3a\"], [0.8888888888888888, \"#fdca26\"], [1.0, \"#f0f921\"]], \"type\": \"histogram2d\"}], \"histogram2dcontour\": [{\"colorbar\": {\"outlinewidth\": 0, \"ticks\": \"\"}, \"colorscale\": [[0.0, \"#0d0887\"], [0.1111111111111111, \"#46039f\"], [0.2222222222222222, \"#7201a8\"], [0.3333333333333333, \"#9c179e\"], [0.4444444444444444, \"#bd3786\"], [0.5555555555555556, \"#d8576b\"], [0.6666666666666666, \"#ed7953\"], [0.7777777777777778, \"#fb9f3a\"], [0.8888888888888888, \"#fdca26\"], [1.0, \"#f0f921\"]], \"type\": \"histogram2dcontour\"}], \"mesh3d\": [{\"colorbar\": {\"outlinewidth\": 0, \"ticks\": \"\"}, \"type\": \"mesh3d\"}], \"parcoords\": [{\"line\": {\"colorbar\": {\"outlinewidth\": 0, \"ticks\": \"\"}}, \"type\": \"parcoords\"}], \"pie\": [{\"automargin\": true, \"type\": \"pie\"}], \"scatter\": [{\"marker\": {\"colorbar\": {\"outlinewidth\": 0, \"ticks\": \"\"}}, \"type\": \"scatter\"}], \"scatter3d\": [{\"line\": {\"colorbar\": {\"outlinewidth\": 0, \"ticks\": \"\"}}, \"marker\": {\"colorbar\": {\"outlinewidth\": 0, \"ticks\": \"\"}}, \"type\": \"scatter3d\"}], \"scattercarpet\": [{\"marker\": {\"colorbar\": {\"outlinewidth\": 0, \"ticks\": \"\"}}, \"type\": \"scattercarpet\"}], \"scattergeo\": [{\"marker\": {\"colorbar\": {\"outlinewidth\": 0, \"ticks\": \"\"}}, \"type\": \"scattergeo\"}], \"scattergl\": [{\"marker\": {\"colorbar\": {\"outlinewidth\": 0, \"ticks\": \"\"}}, \"type\": \"scattergl\"}], \"scattermapbox\": [{\"marker\": {\"colorbar\": {\"outlinewidth\": 0, \"ticks\": \"\"}}, \"type\": \"scattermapbox\"}], \"scatterpolar\": [{\"marker\": {\"colorbar\": {\"outlinewidth\": 0, \"ticks\": \"\"}}, \"type\": \"scatterpolar\"}], \"scatterpolargl\": [{\"marker\": {\"colorbar\": {\"outlinewidth\": 0, \"ticks\": \"\"}}, \"type\": \"scatterpolargl\"}], \"scatterternary\": [{\"marker\": {\"colorbar\": {\"outlinewidth\": 0, \"ticks\": \"\"}}, \"type\": \"scatterternary\"}], \"surface\": [{\"colorbar\": {\"outlinewidth\": 0, \"ticks\": \"\"}, \"colorscale\": [[0.0, \"#0d0887\"], [0.1111111111111111, \"#46039f\"], [0.2222222222222222, \"#7201a8\"], [0.3333333333333333, \"#9c179e\"], [0.4444444444444444, \"#bd3786\"], [0.5555555555555556, \"#d8576b\"], [0.6666666666666666, \"#ed7953\"], [0.7777777777777778, \"#fb9f3a\"], [0.8888888888888888, \"#fdca26\"], [1.0, \"#f0f921\"]], \"type\": \"surface\"}], \"table\": [{\"cells\": {\"fill\": {\"color\": \"#EBF0F8\"}, \"line\": {\"color\": \"white\"}}, \"header\": {\"fill\": {\"color\": \"#C8D4E3\"}, \"line\": {\"color\": \"white\"}}, \"type\": \"table\"}]}, \"layout\": {\"annotationdefaults\": {\"arrowcolor\": \"#2a3f5f\", \"arrowhead\": 0, \"arrowwidth\": 1}, \"autotypenumbers\": \"strict\", \"coloraxis\": {\"colorbar\": {\"outlinewidth\": 0, \"ticks\": \"\"}}, \"colorscale\": {\"diverging\": [[0, \"#8e0152\"], [0.1, \"#c51b7d\"], [0.2, \"#de77ae\"], [0.3, \"#f1b6da\"], [0.4, \"#fde0ef\"], [0.5, \"#f7f7f7\"], [0.6, \"#e6f5d0\"], [0.7, \"#b8e186\"], [0.8, \"#7fbc41\"], [0.9, \"#4d9221\"], [1, \"#276419\"]], \"sequential\": [[0.0, \"#0d0887\"], [0.1111111111111111, \"#46039f\"], [0.2222222222222222, \"#7201a8\"], [0.3333333333333333, \"#9c179e\"], [0.4444444444444444, \"#bd3786\"], [0.5555555555555556, \"#d8576b\"], [0.6666666666666666, \"#ed7953\"], [0.7777777777777778, \"#fb9f3a\"], [0.8888888888888888, \"#fdca26\"], [1.0, \"#f0f921\"]], \"sequentialminus\": [[0.0, \"#0d0887\"], [0.1111111111111111, \"#46039f\"], [0.2222222222222222, \"#7201a8\"], [0.3333333333333333, \"#9c179e\"], [0.4444444444444444, \"#bd3786\"], [0.5555555555555556, \"#d8576b\"], [0.6666666666666666, \"#ed7953\"], [0.7777777777777778, \"#fb9f3a\"], [0.8888888888888888, \"#fdca26\"], [1.0, \"#f0f921\"]]}, \"colorway\": [\"#636efa\", \"#EF553B\", \"#00cc96\", \"#ab63fa\", \"#FFA15A\", \"#19d3f3\", \"#FF6692\", \"#B6E880\", \"#FF97FF\", \"#FECB52\"], \"font\": {\"color\": \"#2a3f5f\"}, \"geo\": {\"bgcolor\": \"white\", \"lakecolor\": \"white\", \"landcolor\": \"#E5ECF6\", \"showlakes\": true, \"showland\": true, \"subunitcolor\": \"white\"}, \"hoverlabel\": {\"align\": \"left\"}, \"hovermode\": \"closest\", \"mapbox\": {\"style\": \"light\"}, \"paper_bgcolor\": \"white\", \"plot_bgcolor\": \"#E5ECF6\", \"polar\": {\"angularaxis\": {\"gridcolor\": \"white\", \"linecolor\": \"white\", \"ticks\": \"\"}, \"bgcolor\": \"#E5ECF6\", \"radialaxis\": {\"gridcolor\": \"white\", \"linecolor\": \"white\", \"ticks\": \"\"}}, \"scene\": {\"xaxis\": {\"backgroundcolor\": \"#E5ECF6\", \"gridcolor\": \"white\", \"gridwidth\": 2, \"linecolor\": \"white\", \"showbackground\": true, \"ticks\": \"\", \"zerolinecolor\": \"white\"}, \"yaxis\": {\"backgroundcolor\": \"#E5ECF6\", \"gridcolor\": \"white\", \"gridwidth\": 2, \"linecolor\": \"white\", \"showbackground\": true, \"ticks\": \"\", \"zerolinecolor\": \"white\"}, \"zaxis\": {\"backgroundcolor\": \"#E5ECF6\", \"gridcolor\": \"white\", \"gridwidth\": 2, \"linecolor\": \"white\", \"showbackground\": true, \"ticks\": \"\", \"zerolinecolor\": \"white\"}}, \"shapedefaults\": {\"line\": {\"color\": \"#2a3f5f\"}}, \"ternary\": {\"aaxis\": {\"gridcolor\": \"white\", \"linecolor\": \"white\", \"ticks\": \"\"}, \"baxis\": {\"gridcolor\": \"white\", \"linecolor\": \"white\", \"ticks\": \"\"}, \"bgcolor\": \"#E5ECF6\", \"caxis\": {\"gridcolor\": \"white\", \"linecolor\": \"white\", \"ticks\": \"\"}}, \"title\": {\"x\": 0.05}, \"xaxis\": {\"automargin\": true, \"gridcolor\": \"white\", \"linecolor\": \"white\", \"ticks\": \"\", \"title\": {\"standoff\": 15}, \"zerolinecolor\": \"white\", \"zerolinewidth\": 2}, \"yaxis\": {\"automargin\": true, \"gridcolor\": \"white\", \"linecolor\": \"white\", \"ticks\": \"\", \"title\": {\"standoff\": 15}, \"zerolinecolor\": \"white\", \"zerolinewidth\": 2}}}, \"title\": {\"font\": {\"color\": \"#4D5663\"}}, \"xaxis\": {\"gridcolor\": \"#E1E5ED\", \"showgrid\": true, \"tickfont\": {\"color\": \"#4D5663\"}, \"title\": {\"font\": {\"color\": \"#4D5663\"}, \"text\": \"\"}, \"zerolinecolor\": \"#E1E5ED\"}, \"xaxis2\": {\"anchor\": \"y2\", \"gridcolor\": \"#E1E5ED\", \"showgrid\": true, \"showticklabels\": false, \"tickfont\": {\"color\": \"#4D5663\"}, \"title\": {\"font\": {\"color\": \"#4D5663\"}, \"text\": \"\"}, \"zerolinecolor\": \"#E1E5ED\"}, \"yaxis\": {\"domain\": [0.3, 1], \"gridcolor\": \"#E1E5ED\", \"showgrid\": true, \"tickfont\": {\"color\": \"#4D5663\"}, \"title\": {\"font\": {\"color\": \"#4D5663\"}, \"text\": \"\"}, \"zerolinecolor\": \"#E1E5ED\"}, \"yaxis2\": {\"domain\": [0, 0.25], \"gridcolor\": \"#E1E5ED\", \"showgrid\": true, \"tickfont\": {\"color\": \"#4D5663\"}, \"title\": {\"font\": {\"color\": \"#4D5663\"}, \"text\": \"Spread\"}, \"zerolinecolor\": \"#E1E5ED\"}},                        {\"showLink\": true, \"linkText\": \"Export to plot.ly\", \"plotlyServerURL\": \"https://plot.ly\", \"responsive\": true}                    ).then(function(){\n",
       "                            \n",
       "var gd = document.getElementById('4733df67-eaac-4bf1-86fe-4776bc712e7c');\n",
       "var x = new MutationObserver(function (mutations, observer) {{\n",
       "        var display = window.getComputedStyle(gd).display;\n",
       "        if (!display || display === 'none') {{\n",
       "            console.log([gd, 'removed!']);\n",
       "            Plotly.purge(gd);\n",
       "            observer.disconnect();\n",
       "        }}\n",
       "}});\n",
       "\n",
       "// Listen for the removal of the full notebook cells\n",
       "var notebookContainer = gd.closest('#notebook-container');\n",
       "if (notebookContainer) {{\n",
       "    x.observe(notebookContainer, {childList: true});\n",
       "}}\n",
       "\n",
       "// Listen for the clearing of the current output cell\n",
       "var outputEl = gd.closest('.output');\n",
       "if (outputEl) {{\n",
       "    x.observe(outputEl, {childList: true});\n",
       "}}\n",
       "\n",
       "                        })                };                });            </script>        </div>"
      ]
     },
     "metadata": {},
     "output_type": "display_data"
    }
   ],
   "source": [
    "df.iplot(kind='spread',x='A',y='B',mode='markers')"
   ]
  },
  {
   "cell_type": "code",
   "execution_count": null,
   "metadata": {},
   "outputs": [],
   "source": []
  }
 ],
 "metadata": {
  "kernelspec": {
   "display_name": "Python 3",
   "language": "python",
   "name": "python3"
  },
  "language_info": {
   "codemirror_mode": {
    "name": "ipython",
    "version": 3
   },
   "file_extension": ".py",
   "mimetype": "text/x-python",
   "name": "python",
   "nbconvert_exporter": "python",
   "pygments_lexer": "ipython3",
   "version": "3.7.6"
  }
 },
 "nbformat": 4,
 "nbformat_minor": 4
}
