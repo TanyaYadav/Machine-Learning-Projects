{
  "nbformat": 4,
  "nbformat_minor": 0,
  "metadata": {
    "colab": {
      "name": "Linear Regression",
      "provenance": [],
      "collapsed_sections": [],
      "authorship_tag": "ABX9TyONC5W3IptCR4n4fx2oG+Bf",
      "include_colab_link": true
    },
    "kernelspec": {
      "name": "python3",
      "display_name": "Python 3"
    }
  },
  "cells": [
    {
      "cell_type": "markdown",
      "metadata": {
        "id": "view-in-github",
        "colab_type": "text"
      },
      "source": [
        "<a href=\"https://colab.research.google.com/github/TanyaYadav/Machine-Learning-Projects/blob/main/Linear_Regression.ipynb\" target=\"_parent\"><img src=\"https://colab.research.google.com/assets/colab-badge.svg\" alt=\"Open In Colab\"/></a>"
      ]
    },
    {
      "cell_type": "code",
      "metadata": {
        "id": "f92KnuIePfZm",
        "colab": {
          "base_uri": "https://localhost:8080/"
        },
        "outputId": "bc4ab5da-348f-4d7e-dc1f-5e85e09d8729"
      },
      "source": [
        "import numpy as np\n",
        "import matplotlib.pyplot as plt\n",
        "x=np.random.randint(0,10,size=20)\n",
        "y=np.random.randint(0,10,size=20)\n",
        "x,y"
      ],
      "execution_count": null,
      "outputs": [
        {
          "output_type": "execute_result",
          "data": {
            "text/plain": [
              "(array([7, 4, 3, 9, 5, 2, 7, 4, 1, 5, 4, 0, 9, 6, 6, 5, 1, 7, 4, 8]),\n",
              " array([3, 9, 8, 0, 5, 8, 5, 7, 6, 0, 5, 8, 6, 1, 6, 9, 7, 2, 2, 7]))"
            ]
          },
          "metadata": {
            "tags": []
          },
          "execution_count": 10
        }
      ]
    },
    {
      "cell_type": "code",
      "metadata": {
        "id": "N0gKZWU3aSLE"
      },
      "source": [
        "m=0\n",
        "b=0\n",
        "iterations=20000\n",
        "\n",
        "n=len(x)\n",
        "learning_rate=0.02\n"
      ],
      "execution_count": null,
      "outputs": []
    },
    {
      "cell_type": "code",
      "metadata": {
        "id": "R2egjG-Fan8p",
        "colab": {
          "base_uri": "https://localhost:8080/",
          "height": 349
        },
        "outputId": "b6accde7-9155-4236-afc0-909a6e4adf0a"
      },
      "source": [
        "for i in range(iterations):\n",
        "  y_predicted=x*m + b\n",
        "  cost=(1/(2*n))*sum([val**2 for val in (y_predicted-y)])\n",
        "  md=(1/n)*sum(x*((y_predicted-y)))\n",
        "  bd=(1/n)*sum(y_predicted-y)\n",
        "  m=m-learning_rate * md\n",
        "  b=b-learning_rate * bd\n",
        "plt.scatter(x,y)\n",
        "plt.plot(x,y_predicted)\n",
        "plt.show()\n",
        "  \n",
        "print(m,b)\n",
        "y_predicted"
      ],
      "execution_count": null,
      "outputs": [
        {
          "output_type": "display_data",
          "data": {
            "image/png": "[encoded data removed]",
            "text/plain": [
              "<Figure size 432x288 with 1 Axes>"
            ]
          },
          "metadata": {
            "tags": [],
            "needs_background": "light"
          }
        },
        {
          "output_type": "stream",
          "text": [
            "-0.5243096071567314 7.742901594710125\n"
          ],
          "name": "stdout"
        },
        {
          "output_type": "execute_result",
          "data": {
            "text/plain": [
              "array([4.07273434, 5.64566317, 6.16997277, 3.02411513, 5.12135356,\n",
              "       6.69428238, 4.07273434, 5.64566317, 7.21859199, 5.12135356,\n",
              "       5.64566317, 7.74290159, 3.02411513, 4.59704395, 4.59704395,\n",
              "       5.12135356, 7.21859199, 4.07273434, 5.64566317, 3.54842474])"
            ]
          },
          "metadata": {
            "tags": []
          },
          "execution_count": 12
        }
      ]
    },
    {
      "cell_type": "code",
      "metadata": {
        "id": "l8L17wmhbvgc",
        "colab": {
          "base_uri": "https://localhost:8080/"
        },
        "outputId": "f5fdc465-6c28-47e9-a67c-d5eda8784c98"
      },
      "source": [
        "from sklearn.linear_model import LinearRegression\n",
        "x2=x.reshape(-1,1)\n",
        "model=LinearRegression().fit(x2,y)\n",
        "y_1=model.predict(x2)\n",
        "print(model.coef_)"
      ],
      "execution_count": null,
      "outputs": [
        {
          "output_type": "stream",
          "text": [
            "[-0.52430961]\n"
          ],
          "name": "stdout"
        }
      ]
    },
    {
      "cell_type": "code",
      "metadata": {
        "id": "EZ2278Y_fz8b",
        "colab": {
          "base_uri": "https://localhost:8080/"
        },
        "outputId": "4c6dc957-9e19-47e2-bd8f-2ba84e97caa4"
      },
      "source": [
        "print(model.intercept_)"
      ],
      "execution_count": null,
      "outputs": [
        {
          "output_type": "stream",
          "text": [
            "7.7429015947102275\n"
          ],
          "name": "stdout"
        }
      ]
    },
    {
      "cell_type": "code",
      "metadata": {
        "id": "o0sDAEETgP7U",
        "colab": {
          "base_uri": "https://localhost:8080/"
        },
        "outputId": "1e4ef4bc-61b9-4e4f-f359-42ac03c9370f"
      },
      "source": [
        "print(y_1)"
      ],
      "execution_count": null,
      "outputs": [
        {
          "output_type": "stream",
          "text": [
            "[4.07273434 5.64566317 6.16997277 3.02411513 5.12135356 6.69428238\n",
            " 4.07273434 5.64566317 7.21859199 5.12135356 5.64566317 7.74290159\n",
            " 3.02411513 4.59704395 4.59704395 5.12135356 7.21859199 4.07273434\n",
            " 5.64566317 3.54842474]\n"
          ],
          "name": "stdout"
        }
      ]
    },
    {
      "cell_type": "code",
      "metadata": {
        "id": "mH4GR29Tg0Fw",
        "colab": {
          "base_uri": "https://localhost:8080/",
          "height": 265
        },
        "outputId": "132345d0-1f82-4440-c1f0-fa31cae572be"
      },
      "source": [
        "plt.scatter(x2,y)\n",
        "plt.plot(x2,y_1)\n",
        "plt.show()"
      ],
      "execution_count": null,
      "outputs": [
        {
          "output_type": "display_data",
          "data": {
            "image/png": "[encoded data removed]",
            "text/plain": [
              "<Figure size 432x288 with 1 Axes>"
            ]
          },
          "metadata": {
            "tags": [],
            "needs_background": "light"
          }
        }
      ]
    },
    {
      "cell_type": "code",
      "metadata": {
        "id": "sJewEKY4Cw0E",
        "colab": {
          "base_uri": "https://localhost:8080/"
        },
        "outputId": "2b3af413-ea89-41c9-fe94-3c9a2f53e486"
      },
      "source": [
        "from sklearn.datasets.samples_generator import make_regression\n",
        "import matplotlib.pyplot as plt"
      ],
      "execution_count": null,
      "outputs": [
        {
          "output_type": "stream",
          "text": [
            "/usr/local/lib/python3.6/dist-packages/sklearn/utils/deprecation.py:144: FutureWarning: The sklearn.datasets.samples_generator module is  deprecated in version 0.22 and will be removed in version 0.24. The corresponding classes / functions should instead be imported from sklearn.datasets. Anything that cannot be imported from sklearn.datasets is now part of the private API.\n",
            "  warnings.warn(message, FutureWarning)\n"
          ],
          "name": "stderr"
        }
      ]
    },
    {
      "cell_type": "code",
      "metadata": {
        "id": "HzZLW4syqUoJ",
        "colab": {
          "base_uri": "https://localhost:8080/",
          "height": 265
        },
        "outputId": "88a95e26-cacc-4277-ec68-cbd1482f1751"
      },
      "source": [
        "X3,y3=make_regression(n_samples=100,n_features=1,n_informative=1,noise=6,bias=30,random_state=200)\n",
        "plt.scatter(X3,y3)\n",
        "plt.show()\n"
      ],
      "execution_count": null,
      "outputs": [
        {
          "output_type": "display_data",
          "data": {
            "image/png": "[encoded data removed]",
            "text/plain": [
              "<Figure size 432x288 with 1 Axes>"
            ]
          },
          "metadata": {
            "tags": [],
            "needs_background": "light"
          }
        }
      ]
    },
    {
      "cell_type": "code",
      "metadata": {
        "id": "OilxqNperEf8",
        "colab": {
          "base_uri": "https://localhost:8080/"
        },
        "outputId": "9c237699-4559-457f-c843-dba80edda893"
      },
      "source": [
        "import numpy as np\n",
        "import pandas as pd\n",
        "import matplotlib.pyplot as plt\n",
        "from sklearn import linear_model, datasets\n",
        "data2=datasets.load_iris()\n",
        "data1=data2.data\n",
        "data2.target_names\n"
      ],
      "execution_count": null,
      "outputs": [
        {
          "output_type": "execute_result",
          "data": {
            "text/plain": [
              "array(['setosa', 'versicolor', 'virginica'], dtype='<U10')"
            ]
          },
          "metadata": {
            "tags": []
          },
          "execution_count": 23
        }
      ]
    },
    {
      "cell_type": "code",
      "metadata": {
        "colab": {
          "base_uri": "https://localhost:8080/"
        },
        "id": "i9Enq0IjkZHw",
        "outputId": "40f72435-3d40-46cd-caf0-9f164604a397"
      },
      "source": [
        "data2.feature_names\n",
        "data3=pd.DataFrame(data=data1,columns=data2.feature_names)\n",
        "data3['Prediction']=data2.target\n",
        "#data3[data3['Prediction']==2]\n",
        "data4=pd.DataFrame(data=data1,columns=data2.feature_names)\n",
        "data3,data4"
      ],
      "execution_count": null,
      "outputs": [
        {
          "output_type": "execute_result",
          "data": {
            "text/plain": [
              "(     sepal length (cm)  sepal width (cm)  ...  petal width (cm)  Prediction\n",
              " 0                  5.1               3.5  ...               0.2           0\n",
              " 1                  4.9               3.0  ...               0.2           0\n",
              " 2                  4.7               3.2  ...               0.2           0\n",
              " 3                  4.6               3.1  ...               0.2           0\n",
              " 4                  5.0               3.6  ...               0.2           0\n",
              " ..                 ...               ...  ...               ...         ...\n",
              " 145                6.7               3.0  ...               2.3           2\n",
              " 146                6.3               2.5  ...               1.9           2\n",
              " 147                6.5               3.0  ...               2.0           2\n",
              " 148                6.2               3.4  ...               2.3           2\n",
              " 149                5.9               3.0  ...               1.8           2\n",
              " \n",
              " [150 rows x 5 columns],\n",
              "      sepal length (cm)  sepal width (cm)  petal length (cm)  petal width (cm)\n",
              " 0                  5.1               3.5                1.4               0.2\n",
              " 1                  4.9               3.0                1.4               0.2\n",
              " 2                  4.7               3.2                1.3               0.2\n",
              " 3                  4.6               3.1                1.5               0.2\n",
              " 4                  5.0               3.6                1.4               0.2\n",
              " ..                 ...               ...                ...               ...\n",
              " 145                6.7               3.0                5.2               2.3\n",
              " 146                6.3               2.5                5.0               1.9\n",
              " 147                6.5               3.0                5.2               2.0\n",
              " 148                6.2               3.4                5.4               2.3\n",
              " 149                5.9               3.0                5.1               1.8\n",
              " \n",
              " [150 rows x 4 columns])"
            ]
          },
          "metadata": {
            "tags": []
          },
          "execution_count": 72
        }
      ]
    },
    {
      "cell_type": "code",
      "metadata": {
        "id": "WZjNrTqUsQ5T"
      },
      "source": [
        ""
      ],
      "execution_count": null,
      "outputs": []
    }
  ]
}